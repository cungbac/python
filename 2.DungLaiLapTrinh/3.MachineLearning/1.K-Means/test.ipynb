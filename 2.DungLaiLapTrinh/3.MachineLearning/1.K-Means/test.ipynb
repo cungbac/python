{
 "metadata": {
  "language_info": {
   "codemirror_mode": {
    "name": "ipython",
    "version": 3
   },
   "file_extension": ".py",
   "mimetype": "text/x-python",
   "name": "python",
   "nbconvert_exporter": "python",
   "pygments_lexer": "ipython3",
   "version": "3.9.4-final"
  },
  "orig_nbformat": 2,
  "kernelspec": {
   "name": "python394jvsc74a57bd0ac8bda692c3b0f02ccc575452ef66df3a4b08193edb2b4a0ea8482d7cac1bc35",
   "display_name": "Python 3.9.4 64-bit"
  },
  "metadata": {
   "interpreter": {
    "hash": "ac8bda692c3b0f02ccc575452ef66df3a4b08193edb2b4a0ea8482d7cac1bc35"
   }
  }
 },
 "nbformat": 4,
 "nbformat_minor": 2,
 "cells": [
  {
   "cell_type": "code",
   "execution_count": 1,
   "metadata": {},
   "outputs": [],
   "source": [
    "c = []\n",
    "a = [1,2]\n",
    "b = [3,4]\n",
    "d = [5,6]"
   ]
  },
  {
   "cell_type": "code",
   "execution_count": 2,
   "metadata": {},
   "outputs": [],
   "source": [
    "c.append(a)"
   ]
  },
  {
   "cell_type": "code",
   "execution_count": 3,
   "metadata": {},
   "outputs": [
    {
     "output_type": "execute_result",
     "data": {
      "text/plain": [
       "[[1, 2]]"
      ]
     },
     "metadata": {},
     "execution_count": 3
    }
   ],
   "source": [
    "c"
   ]
  },
  {
   "cell_type": "code",
   "execution_count": 4,
   "metadata": {},
   "outputs": [],
   "source": [
    "c.append(b)"
   ]
  },
  {
   "cell_type": "code",
   "execution_count": 5,
   "metadata": {},
   "outputs": [
    {
     "output_type": "execute_result",
     "data": {
      "text/plain": [
       "[[1, 2], [3, 4]]"
      ]
     },
     "metadata": {},
     "execution_count": 5
    }
   ],
   "source": [
    "c"
   ]
  },
  {
   "cell_type": "code",
   "execution_count": 6,
   "metadata": {},
   "outputs": [],
   "source": [
    "K = [[[142, 164], [114, 202], [150, 201], [162, 171], [190, 176], [188, 207], [132, 215], [127, 233], [175, 238]], [[445, 221], [417, 239], [425, 282], [450, \n",
    "240], [433, 262], [456, 277], [469, 258]]]"
   ]
  },
  {
   "cell_type": "code",
   "execution_count": 45,
   "metadata": {},
   "outputs": [
    {
     "output_type": "stream",
     "name": "stdout",
     "text": [
      "153.33333333333334\n200.77777777777777\n"
     ]
    }
   ],
   "source": [
    "# [val for sublist in K[0] for val in sublist]\n",
    "# sublist = [sublist for sublist in K[0]]\n",
    "# [var for var in sublist]\n",
    "x_sum = 0\n",
    "y_sum = 0\n",
    "for i in range(len(K[0])):\n",
    "    x_sum = x_sum + K[0][i][0]\n",
    "    y_sum = y_sum + K[0][i][1]\n",
    "    # print(K[0][i][0])\n",
    "print(x_sum/len(K[0]))\n",
    "print(y_sum/len(K[0]))"
   ]
  },
  {
   "cell_type": "code",
   "execution_count": 53,
   "metadata": {},
   "outputs": [
    {
     "output_type": "stream",
     "name": "stdout",
     "text": [
      "442.14285714285717\n254.14285714285714\n"
     ]
    }
   ],
   "source": [
    "x_sum = 0\n",
    "y_sum = 0\n",
    "for i in range(len(K[1])):\n",
    "    x_sum = x_sum + K[1][i][0]\n",
    "    y_sum = y_sum + K[1][i][1]\n",
    "    # print(K[0][i][0])\n",
    "print(x_sum/len(K[1]))\n",
    "print(y_sum/len(K[1]))"
   ]
  },
  {
   "cell_type": "code",
   "execution_count": 51,
   "metadata": {},
   "outputs": [
    {
     "output_type": "execute_result",
     "data": {
      "text/plain": [
       "[[445, 221],\n",
       " [417, 239],\n",
       " [425, 282],\n",
       " [450, 240],\n",
       " [433, 262],\n",
       " [456, 277],\n",
       " [469, 258]]"
      ]
     },
     "metadata": {},
     "execution_count": 51
    }
   ],
   "source": [
    "K[1]"
   ]
  },
  {
   "cell_type": "code",
   "execution_count": 52,
   "metadata": {},
   "outputs": [
    {
     "output_type": "stream",
     "name": "stdout",
     "text": [
      "[1380, 1807]\n[153.33333333333334, 200.77777777777777]\n[3095, 1779]\n[442.14285714285717, 254.14285714285714]\n"
     ]
    }
   ],
   "source": [
    "\n",
    "for i in range(len(K)):\n",
    "    x_max = 0\n",
    "    y_max = 0\n",
    "    count = 0\n",
    "    for j in range(len(K[i])):\n",
    "        x_max = x_max + K[i][j][0]\n",
    "        y_max = y_max + K[i][j][1]\n",
    "        count += 1\n",
    "    max = [x_max, y_max]\n",
    "    print(max)\n",
    "    x_mean = x_max / count\n",
    "    y_mean = y_max / count\n",
    "    clusters = [x_mean, y_mean]\n",
    "    print(clusters)  "
   ]
  },
  {
   "cell_type": "code",
   "execution_count": 1,
   "metadata": {},
   "outputs": [],
   "source": [
    "import tkinter"
   ]
  },
  {
   "cell_type": "code",
   "execution_count": null,
   "metadata": {},
   "outputs": [],
   "source": []
  }
 ]
}