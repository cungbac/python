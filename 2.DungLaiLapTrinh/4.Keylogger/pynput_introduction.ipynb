{
 "metadata": {
  "language_info": {
   "codemirror_mode": {
    "name": "ipython",
    "version": 3
   },
   "file_extension": ".py",
   "mimetype": "text/x-python",
   "name": "python",
   "nbconvert_exporter": "python",
   "pygments_lexer": "ipython3",
   "version": "3.9.5"
  },
  "orig_nbformat": 2,
  "kernelspec": {
   "name": "python395jvsc74a57bd03a8eb5b4756616b8e0633077df4d799c8eda3f4883752b4165209be8e5ba9d4a",
   "display_name": "Python 3.9.5 64-bit ('PythonSoftwareFoundation.Python.3.9_qbz5n2kfra8p0')"
  },
  "metadata": {
   "interpreter": {
    "hash": "3a8eb5b4756616b8e0633077df4d799c8eda3f4883752b4165209be8e5ba9d4a"
   }
  }
 },
 "nbformat": 4,
 "nbformat_minor": 2,
 "cells": [
  {
   "cell_type": "code",
   "execution_count": 1,
   "metadata": {},
   "outputs": [],
   "source": [
    "from pynput.mouse import Button, Controller"
   ]
  },
  {
   "cell_type": "code",
   "execution_count": 2,
   "metadata": {},
   "outputs": [],
   "source": [
    "mouse = Controller()"
   ]
  },
  {
   "cell_type": "code",
   "execution_count": null,
   "metadata": {},
   "outputs": [],
   "source": []
  },
  {
   "cell_type": "code",
   "execution_count": 13,
   "metadata": {},
   "outputs": [
    {
     "output_type": "stream",
     "name": "stdout",
     "text": [
      "The current pointer position is (640, 608)\nNow we have moved it to (10, 20)\nNow we have moved it to (0, 30)\n"
     ]
    }
   ],
   "source": [
    "# Print current pointer position\n",
    "print('The current pointer position is {0}'.format(mouse.position))\n",
    "\n",
    "# Set pointer position\n",
    "mouse.position = (10,20)\n",
    "print('Now we have moved it to {0}'.format(mouse.position))\n",
    "\n",
    "# Move pointer relative to another position\n",
    "mouse.move(-10,10)\n",
    "print('Now we have moved it to {0}'.format(mouse.position))\n",
    "\n",
    "# Press and release\n",
    "mouse.press(Button.left)\n",
    "# mouse.press(Button.right)\n",
    "mouse.release(Button.left)"
   ]
  },
  {
   "cell_type": "code",
   "execution_count": null,
   "metadata": {},
   "outputs": [],
   "source": []
  }
 ]
}