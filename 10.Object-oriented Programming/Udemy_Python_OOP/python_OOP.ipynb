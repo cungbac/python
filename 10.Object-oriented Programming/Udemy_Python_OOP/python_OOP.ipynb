{
 "cells": [
  {
   "cell_type": "markdown",
   "metadata": {},
   "source": [
    "## Attributes, static, instance, init method"
   ]
  },
  {
   "cell_type": "code",
   "execution_count": null,
   "metadata": {},
   "outputs": [],
   "source": [
    "class Employee:\n",
    "    def employeeDetails(self):\n",
    "        self.name = 'Matthew'\n",
    "        age = 30\n",
    "        print(self.name, age)\n",
    "    \n",
    "    def printEmployeeDetails(self):\n",
    "        print(self.name)\n",
    "        print(age) # cannot execute cause age is not defined\n",
    "    def __init__(self, name):  \n",
    "        # init method is a special method\n",
    "        # init method is invoked by default once creating an object\n",
    "        # init method is the first method that being called and initializes your instance attribute\n",
    "        self.name = name\n",
    "\n",
    "    @staticmethod\n",
    "    def printEmployeeDetails2():\n",
    "        print('This is static method')\n",
    "\n",
    "employee = Employee()\n",
    "employee.employeeDetails()\n",
    "# employee.employeeDetails() = Employee.employeeDetails(employee)\n",
    "# Employee.employeeDetails()\n",
    "employee.printEmployeeDetails()\n",
    "print(__name__)"
   ]
  },
  {
   "cell_type": "code",
   "execution_count": 10,
   "metadata": {},
   "outputs": [
    {
     "name": "stdout",
     "output_type": "stream",
     "text": [
      "__main__\n"
     ]
    }
   ],
   "source": [
    "print(__name__)"
   ]
  },
  {
   "cell_type": "markdown",
   "metadata": {},
   "source": [
    "# Abstraction, Encapsulation"
   ]
  },
  {
   "cell_type": "code",
   "execution_count": null,
   "metadata": {},
   "outputs": [],
   "source": [
    "# Class => Library\n",
    "# Layers of abstraction => display available books, to lend a book, to add a book\n",
    "\n",
    "# Class => Customer\n",
    "# Layers of abstraction => request for a book, return a book\n",
    "\n",
    "class Library:\n",
    "    def __init__(self,listOfBooks):\n",
    "        self.availableBooks = listOfBooks\n",
    "\n",
    "    def displayAvailableBooks(self):\n",
    "        print()\n",
    "        print('Available Books: ')\n",
    "        for book in self.availableBooks:\n",
    "            print(book)\n",
    "        \n",
    "    def lendBook(self, requestedBook):\n",
    "        if requestedBook in self.availableBooks:\n",
    "            print('You have now borrowed the book')\n",
    "            self.availableBooks.remove(requestedBook)\n",
    "        else:\n",
    "            print('Sorry, the book is not available in our list.')\n",
    "    def addBook(self, returnedBook):\n",
    "        self.availableBooks.append(returnedBook)\n",
    "        print('You have returned the book. Thank you!')\n",
    "\n",
    "class Customer:\n",
    "    def requestBook(self):\n",
    "        print('Enter the name of a book you would like to borrow: ')\n",
    "        self.book = input()\n",
    "        return self.book\n",
    "\n",
    "    def returnBook(self):\n",
    "        print('Enter the name of a book which you are returning: ')\n",
    "        self.book = input()\n",
    "        return self.book\n",
    "\n",
    "library = Library(['Think and Growth Rich', 'Who will Cry When You Die', 'For One More Day'])\n",
    "customer = Customer()\n",
    "\n",
    "# abstract & encapsulation  \n",
    "while True:\n",
    "    print('Enter 1 to display the available books')\n",
    "    print('Enter 2 to request for a book')\n",
    "    print('Enter 3 to return a book')\n",
    "    print('Enter 4 to exit')\n",
    "    userChoice = int(input())\n",
    "\n",
    "    if userChoice == 1:\n",
    "        library.displayAvailableBooks()\n",
    "    elif userChoice == 2:\n",
    "        requestedBook = customer.requestBook()\n",
    "        library.lendBook(requestedBook)\n",
    "    elif userChoice == 3:\n",
    "        returnedBook = customer.returnBook()\n",
    "        library.addBook(returnedBook)\n",
    "    elif userChoice == 4:\n",
    "        break\n",
    "        # quit()"
   ]
  },
  {
   "cell_type": "markdown",
   "metadata": {},
   "source": [
    "# Inheritance"
   ]
  },
  {
   "cell_type": "code",
   "execution_count": 4,
   "metadata": {},
   "outputs": [
    {
     "name": "stdout",
     "output_type": "stream",
     "text": [
      "This Macbook was manufactured in the year 2017 by Apple Inc.\n",
      "To contact us, log on to  www.apple.com/contact\n"
     ]
    }
   ],
   "source": [
    "class Apple:\n",
    "    manufacturer = 'Apple Inc.'\n",
    "    contactWebsite = 'www.apple.com/contact'\n",
    "\n",
    "    def contactDetails(self):\n",
    "        print('To contact us, log on to ', self.contactWebsite)\n",
    "    \n",
    "class Macbook(Apple):\n",
    "    def __init__(self):\n",
    "        self.yearOfManufacturer = 2017\n",
    "    \n",
    "    def manufacturerDetails(self):\n",
    "        print('This Macbook was manufactured in the year {} by {}'.format(self.yearOfManufacturer, self.manufacturer))\n",
    "\n",
    "\n",
    "macBook = Macbook()\n",
    "macBook.manufacturerDetails()\n",
    "macBook.contactDetails()"
   ]
  },
  {
   "cell_type": "markdown",
   "metadata": {},
   "source": [
    "# Multiple Inheritance"
   ]
  },
  {
   "cell_type": "code",
   "execution_count": 6,
   "metadata": {},
   "outputs": [
    {
     "name": "stdout",
     "output_type": "stream",
     "text": [
      "This is a multi tasking system. Visit www.apple.com for more details\n",
      "Name:  Mac OS\n"
     ]
    }
   ],
   "source": [
    "class OperatingSystem:\n",
    "    multitasking = True\n",
    "    name = 'Mac OS'\n",
    "\n",
    "class Apple:\n",
    "    website = 'www.apple.com'\n",
    "    name = 'Apple'\n",
    "\n",
    "class Macbook(OperatingSystem, Apple):\n",
    "    def __init__(self):\n",
    "        if self.multitasking is True:\n",
    "            print('This is a multi tasking system. Visit {} for more details'.format(self.website))\n",
    "            print('Name: ', self.name)\n",
    "\n",
    "macBook = Macbook()\n"
   ]
  },
  {
   "cell_type": "code",
   "execution_count": 7,
   "metadata": {},
   "outputs": [
    {
     "name": "stdout",
     "output_type": "stream",
     "text": [
      "This guitar consists of 6 strings. It is made of Tonewood and it can play 12 keys\n"
     ]
    }
   ],
   "source": [
    "class MusicalInstruments:\n",
    "    numberOfMajorKeys = 12\n",
    "\n",
    "class StringInstruments(MusicalInstruments):\n",
    "    typeOfWood = 'Tonewood'\n",
    "\n",
    "class Guitar(StringInstruments):\n",
    "    def __init__(self):\n",
    "        self.numberOfStrings = 6\n",
    "        print('This guitar consists of {} strings. It is made of {} and it can play {} keys'.format(self.numberOfStrings, self.typeOfWood, self.numberOfMajorKeys))\n",
    "\n",
    "guitar = Guitar()"
   ]
  },
  {
   "cell_type": "markdown",
   "metadata": {},
   "source": [
    "## Naming Conventions - Public, Protected, Private"
   ]
  },
  {
   "cell_type": "code",
   "execution_count": 31,
   "metadata": {},
   "outputs": [
    {
     "name": "stdout",
     "output_type": "stream",
     "text": [
      "Public attribute numberOfWheels: 4\n",
      "Protected attribute color: Black\n",
      "Black\n",
      "Private attribute yearOfManufacturer: 2017\n",
      "2017\n"
     ]
    }
   ],
   "source": [
    "# Public => memberName\n",
    "# Protected => _memberName\n",
    "# Private => __memberName\n",
    "\n",
    "class Car:\n",
    "    numberOfWheels = 4\n",
    "    _color = 'Black'\n",
    "\n",
    "    # private attribute, use only in this class\n",
    "    __yearOfManufacturer = 2017 # _Car__yearOfManufacture\n",
    "\n",
    "    def getYear(self):\n",
    "        print(self.__yearOfManufacturer)\n",
    "    \n",
    "    def get(self):\n",
    "        self.__yearOfManufacturer\n",
    "\n",
    "class Bmw(Car):\n",
    "    def __init__(self):\n",
    "        print('Protected attribute color:',self._color)\n",
    "\n",
    "car = Car()\n",
    "print('Public attribute numberOfWheels:',car.numberOfWheels)\n",
    "\n",
    "\n",
    "bmw = Bmw()\n",
    "print(Car._color)\n",
    "\n",
    "# print('Private attribute yearOfManufacturer:',car.__yearOfManufacturer)\n",
    "print('Private attribute yearOfManufacturer:',car._Car__yearOfManufacturer)\n",
    "\n",
    "Car().getYear()\n",
    "# Car().get()"
   ]
  },
  {
   "cell_type": "markdown",
   "metadata": {},
   "source": [
    "# Polymorphism"
   ]
  },
  {
   "cell_type": "markdown",
   "metadata": {},
   "source": [
    "## Overriding and super() method"
   ]
  },
  {
   "cell_type": "code",
   "execution_count": 33,
   "metadata": {},
   "outputs": [
    {
     "name": "stdout",
     "output_type": "stream",
     "text": [
      "Number of working hours of employee: 45\n",
      "Number of working hours of trainee: 40\n",
      "Number of working hours of trainee after reset: 45\n"
     ]
    }
   ],
   "source": [
    "class Employee:\n",
    "    def setNumberOfWorkingHours(self):\n",
    "        self.numberOfWorkingHours = 45\n",
    "    \n",
    "    def displayNumberOfWorkingHours(self):\n",
    "        print(self.numberOfWorkingHours)\n",
    "\n",
    "class Trainee(Employee):\n",
    "    def setNumberOfWorkingHours(self):\n",
    "        self.numberOfWorkingHours = 40\n",
    "    \n",
    "    def resetNumberOfWorkingHours(self):\n",
    "        super().setNumberOfWorkingHours() # access the method from base class\n",
    "\n",
    "employee = Employee()\n",
    "employee.setNumberOfWorkingHours()\n",
    "print('Number of working hours of employee:', employee.numberOfWorkingHours)\n",
    "\n",
    "trainee = Trainee()\n",
    "trainee.setNumberOfWorkingHours()\n",
    "print('Number of working hours of trainee:', trainee.numberOfWorkingHours)\n",
    "\n",
    "trainee.resetNumberOfWorkingHours()\n",
    "print('Number of working hours of trainee after reset:', trainee.numberOfWorkingHours)\n"
   ]
  },
  {
   "cell_type": "markdown",
   "metadata": {},
   "source": [
    "## The diamond shape problem in multiple inheritance"
   ]
  },
  {
   "cell_type": "code",
   "execution_count": 6,
   "metadata": {},
   "outputs": [
    {
     "name": "stdout",
     "output_type": "stream",
     "text": [
      "This method belongs to class B\n"
     ]
    }
   ],
   "source": [
    "class A:\n",
    "    def method(self):\n",
    "        print('This method belongs to class A')\n",
    "\n",
    "class B(A):\n",
    "    def method(self):\n",
    "        print('This method belongs to class B') \n",
    "    pass\n",
    "\n",
    "class C(A):\n",
    "    def method(self):\n",
    "        print('This method belongs to class C')\n",
    "\n",
    "class D(B, C):\n",
    "    pass\n",
    "\n",
    "d = D()\n",
    "d.method()"
   ]
  },
  {
   "cell_type": "markdown",
   "metadata": {},
   "source": [
    "## Overloading an operator"
   ]
  },
  {
   "cell_type": "code",
   "execution_count": 23,
   "metadata": {},
   "outputs": [
    {
     "name": "stdout",
     "output_type": "stream",
     "text": [
      "Sum of sides of both the squares =  95\n",
      "<__main__.Square object at 0x0000014E2C411BE0>\n"
     ]
    }
   ],
   "source": [
    "class Square:\n",
    "    def __init__(self,side):\n",
    "        self.side = side\n",
    "\n",
    "    def __add__(self,square2): # define + operator for the class\n",
    "        return 4*self.side + 5*square2.side\n",
    "    \n",
    "    # def __add__(square1,square2):\n",
    "    #     return 4*square1.side + 5*square2.side\n",
    "\n",
    "squareOne = Square(5)\n",
    "squareTwo = Square(10)\n",
    "squareThree = Square(15)\n",
    "\n",
    "print('Sum of sides of both the squares = ', squareOne + squareThree)\n",
    "print(squareOne)"
   ]
  },
  {
   "cell_type": "code",
   "execution_count": null,
   "metadata": {},
   "outputs": [],
   "source": [
    "import inspect\n",
    "from queue import Queue\n",
    "\n",
    "print(inspect.getsource(Queue))"
   ]
  },
  {
   "cell_type": "markdown",
   "metadata": {},
   "source": [
    "## Implementing an Abstract Base Class (ABC)"
   ]
  },
  {
   "cell_type": "code",
   "execution_count": 36,
   "metadata": {},
   "outputs": [
    {
     "name": "stdout",
     "output_type": "stream",
     "text": [
      "Area of square:  16\n",
      "Area of rectangle:  50\n"
     ]
    }
   ],
   "source": [
    "from abc import ABCMeta, abstractmethod\n",
    "\n",
    "class Shape(metaclass = ABCMeta):\n",
    "    @abstractmethod\n",
    "    def area(self):\n",
    "        pass\n",
    "        # return 0\n",
    "\n",
    "\n",
    "class Square(Shape):\n",
    "    side = 4\n",
    "    def area(self):\n",
    "        print('Area of square: ',self.side * self.side)\n",
    "\n",
    "class Rectangle(Shape):\n",
    "    width = 5\n",
    "    length = 10\n",
    "    def area(self):\n",
    "        print('Area of rectangle: ',self.width * self.length)\n",
    "\n",
    "square = Square()\n",
    "rectangle = Rectangle()\n",
    "\n",
    "square.area()\n",
    "rectangle.area()\n",
    "\n",
    "# shape = Shape() - can't instantiate abstract class  \n"
   ]
  },
  {
   "cell_type": "markdown",
   "metadata": {},
   "source": [
    "# Hands-on project"
   ]
  },
  {
   "cell_type": "markdown",
   "metadata": {},
   "source": [
    "## Banking System Problem Statement"
   ]
  },
  {
   "cell_type": "markdown",
   "metadata": {},
   "source": [
    "### - Give a prompt to the user asking if they wish to create a new Saving Account or access an existing one\n",
    "### - If the user would like to create a new account, accept their name and initial deposit, and create a 5 digit random number and make it as the account number of their new Saving Account\n",
    "### - If they are accessing an existing account, accept their name and account number to validate the user, and give them options to withdraw, deposit or display their available balance"
   ]
  },
  {
   "cell_type": "code",
   "execution_count": 11,
   "metadata": {},
   "outputs": [],
   "source": [
    "from abc import ABCMeta, abstractmethod\n",
    "from random import randint\n",
    "\n",
    "class Account(metaclass = ABCMeta):\n",
    "    @abstractmethod\n",
    "    def createAccount(self, name, initialDeposit):\n",
    "        pass\n",
    "\n",
    "    @abstractmethod\n",
    "    def authenticate(self, name, accountNumber):\n",
    "        pass\n",
    "\n",
    "    @abstractmethod\n",
    "    def withdraw(self, withdrawAmount):\n",
    "        pass\n",
    "\n",
    "    @abstractmethod   \n",
    "    def deposit(self, depositAmount):\n",
    "        pass\n",
    "    \n",
    "    @abstractmethod\n",
    "    def displayBalance(self):\n",
    "        pass\n",
    "\n",
    "class SavingsAccount:\n",
    "    def __init__(self):\n",
    "\n",
    "        self.savingsAccounts = {}\n",
    "\n",
    "    def createAccount(self, name, initialDeposit):\n",
    "        self.accountNumber = randint(10000, 99999)\n",
    "        self.savingsAccounts[self.accountNumber] = [name, initialDeposit]\n",
    "        print('Account creation has been successful. Your account number is ', self.accountNumber)            \n",
    "\n",
    "    def authenticate(self, name, accountNumber):\n",
    "        if accountNumber in self.savingsAccounts.keys():\n",
    "            if self.savingsAccounts[accountNumber][0] == name:\n",
    "                print('Authentication Successful')\n",
    "                self.accountNumber = accountNumber\n",
    "                return True\n",
    "            else:\n",
    "                print('Authentication Failed')\n",
    "                return False\n",
    "        else:\n",
    "            print('Authentication Failed')\n",
    "            return False\n",
    "\n",
    "    def withdraw(self, withdrawAmount):\n",
    "        if self.savingsAccounts[self.accountNumber][1] < withdrawAmount:\n",
    "            print('Insufficient balance')\n",
    "        else:\n",
    "            self.savingsAccounts[self.accountNumber][1] -= withdrawAmount\n",
    "            print('Withdrawal was successful.')\n",
    "            self.displayBalance()\n",
    "\n",
    "    def deposit(self, depositAmount):\n",
    "        self.savingsAccounts[self.accountNumber][1] += depositAmount\n",
    "        print('Deposit was successful.')\n",
    "        self.displayBalance()\n",
    "\n",
    "    def displayBalance(self):\n",
    "        print('Available balance: ', self.savingsAccounts[self.accountNumber][1])\n"
   ]
  },
  {
   "cell_type": "code",
   "execution_count": null,
   "metadata": {},
   "outputs": [],
   "source": [
    "savingsAccounts = SavingsAccount()"
   ]
  },
  {
   "cell_type": "code",
   "execution_count": 31,
   "metadata": {},
   "outputs": [
    {
     "name": "stdout",
     "output_type": "stream",
     "text": [
      "Enter 1 to create a new account\n",
      "Enter 2 to access an exitsting account\n",
      "Enter 3 to exit\n",
      "Enter your name: \n",
      "Enter your account: \n",
      "Authentication Successful\n",
      "Enter 1 to withdraw\n",
      "Enter 2 to deposit\n",
      "Enter 3 to display available balance\n",
      "Enter 4 to go back to the previous menu\n",
      "Available balance:  400\n",
      "Enter 1 to withdraw\n",
      "Enter 2 to deposit\n",
      "Enter 3 to display available balance\n",
      "Enter 4 to go back to the previous menu\n",
      "Enter your withdraw amount\n",
      "100\n",
      "Withdrawal was successful.\n",
      "Available balance:  300\n",
      "Enter 1 to withdraw\n",
      "Enter 2 to deposit\n",
      "Enter 3 to display available balance\n",
      "Enter 4 to go back to the previous menu\n",
      "Enter 1 to create a new account\n",
      "Enter 2 to access an exitsting account\n",
      "Enter 3 to exit\n"
     ]
    }
   ],
   "source": [
    "while True:\n",
    "    print('Enter 1 to create a new account')\n",
    "    print('Enter 2 to access an exitsting account')\n",
    "    print('Enter 3 to exit')\n",
    "\n",
    "    userChoice = int(input())\n",
    "    if userChoice == 1:\n",
    "        print('Enter your name: ')\n",
    "        name = input()\n",
    "        print(name)\n",
    "        print('Enter your initial deposit: ')\n",
    "        deposit = int(input())\n",
    "        print(deposit)\n",
    "        savingsAccounts.createAccount(name, deposit)\n",
    "\n",
    "    elif userChoice == 2:\n",
    "        print('Enter your name: ')\n",
    "        name = input()\n",
    "        print('Enter your account: ')\n",
    "        accountNumber = int(input())\n",
    "        authenticationStatus = savingsAccounts.authenticate(name, accountNumber)\n",
    "        if authenticationStatus == True:\n",
    "            while True:\n",
    "                print('Enter 1 to withdraw')\n",
    "                print('Enter 2 to deposit')\n",
    "                print('Enter 3 to display available balance')\n",
    "                print('Enter 4 to go back to the previous menu')\n",
    "                userChoice = int(input())\n",
    "                if userChoice == 1:\n",
    "                    print('Enter your withdraw amount')\n",
    "                    withdrawAmount = int(input())\n",
    "                    print(withdrawAmount)\n",
    "                    savingsAccounts.withdraw(withdrawAmount)\n",
    "                elif userChoice == 2:\n",
    "                    print('Enter your deposit amount')\n",
    "                    depositAmount = int(input())\n",
    "                    print(depositAmount)\n",
    "                    savingsAccounts.deposit(depositAmount)\n",
    "                elif userChoice == 3:\n",
    "                    savingsAccounts.displayBalance()\n",
    "                elif userChoice == 4:\n",
    "                    break\n",
    "            \n",
    "    elif userChoice == 3:\n",
    "        break\n",
    "        # quit()"
   ]
  },
  {
   "cell_type": "code",
   "execution_count": 25,
   "metadata": {},
   "outputs": [
    {
     "data": {
      "text/plain": [
       "dict_items([(62226, ['Bac', 100])])"
      ]
     },
     "execution_count": 25,
     "metadata": {},
     "output_type": "execute_result"
    }
   ],
   "source": [
    "savingsAccounts.savingsAccounts.items()"
   ]
  },
  {
   "cell_type": "code",
   "execution_count": 26,
   "metadata": {},
   "outputs": [
    {
     "data": {
      "text/plain": [
       "{62226: ['Bac', 100]}"
      ]
     },
     "execution_count": 26,
     "metadata": {},
     "output_type": "execute_result"
    }
   ],
   "source": [
    "savingsAccounts.savingsAccounts"
   ]
  },
  {
   "cell_type": "code",
   "execution_count": 27,
   "metadata": {},
   "outputs": [
    {
     "data": {
      "text/plain": [
       "True"
      ]
     },
     "execution_count": 27,
     "metadata": {},
     "output_type": "execute_result"
    }
   ],
   "source": [
    "62226 in savingsAccounts.savingsAccounts.keys()"
   ]
  },
  {
   "cell_type": "code",
   "execution_count": null,
   "metadata": {},
   "outputs": [],
   "source": []
  }
 ],
 "metadata": {
  "interpreter": {
   "hash": "dcacb0086e9a4f4eabd41c33bf4faac5ea0a3337ed3f5eff0680afa930572c04"
  },
  "kernelspec": {
   "display_name": "Python 3.9.6 64-bit",
   "name": "python3"
  },
  "language_info": {
   "codemirror_mode": {
    "name": "ipython",
    "version": 3
   },
   "file_extension": ".py",
   "mimetype": "text/x-python",
   "name": "python",
   "nbconvert_exporter": "python",
   "pygments_lexer": "ipython3",
   "version": "3.9.6"
  },
  "orig_nbformat": 4
 },
 "nbformat": 4,
 "nbformat_minor": 2
}
