{
 "cells": [
  {
   "cell_type": "markdown",
   "source": [
    "## Attributes, static, instance, init method"
   ],
   "metadata": {}
  },
  {
   "cell_type": "code",
   "execution_count": null,
   "source": [
    "class Employee:\r\n",
    "    def employeeDetails(self):\r\n",
    "        self.name = 'Matthew'\r\n",
    "        age = 30\r\n",
    "        print(self.name, age)\r\n",
    "    \r\n",
    "    def printEmployeeDetails(self):\r\n",
    "        print(self.name)\r\n",
    "        print(age) # cannot execute cause age is not defined\r\n",
    "    def __init__(self, name):  \r\n",
    "        # init method is a special method\r\n",
    "        # init method is invoked by default once creating an object\r\n",
    "        # init method is the first method that being called and initializes your instance attribute\r\n",
    "        self.name = name\r\n",
    "\r\n",
    "    @staticmethod\r\n",
    "    def printEmployeeDetails2():\r\n",
    "        print('This is static method')\r\n",
    "\r\n",
    "employee = Employee()\r\n",
    "employee.employeeDetails()\r\n",
    "# employee.employeeDetails() = Employee.employeeDetails(employee)\r\n",
    "# Employee.employeeDetails()\r\n",
    "employee.printEmployeeDetails()\r\n",
    "print(__name__)"
   ],
   "outputs": [],
   "metadata": {}
  },
  {
   "cell_type": "code",
   "execution_count": 10,
   "source": [
    "print(__name__)"
   ],
   "outputs": [
    {
     "output_type": "stream",
     "name": "stdout",
     "text": [
      "__main__\n"
     ]
    }
   ],
   "metadata": {}
  },
  {
   "cell_type": "markdown",
   "source": [
    "# Abstraction, Encapsulation"
   ],
   "metadata": {}
  },
  {
   "cell_type": "code",
   "execution_count": null,
   "source": [
    "# Class => Library\r\n",
    "# Layers of abstraction => display available books, to lend a book, to add a book\r\n",
    "\r\n",
    "# Class => Customer\r\n",
    "# Layers of abstraction => request for a book, return a book\r\n",
    "\r\n",
    "class Library:\r\n",
    "    def __init__(self,listOfBooks):\r\n",
    "        self.availableBooks = listOfBooks\r\n",
    "\r\n",
    "    def displayAvailableBooks(self):\r\n",
    "        print()\r\n",
    "        print('Available Books: ')\r\n",
    "        for book in self.availableBooks:\r\n",
    "            print(book)\r\n",
    "        \r\n",
    "    def lendBook(self, requestedBook):\r\n",
    "        if requestedBook in self.availableBooks:\r\n",
    "            print('You have now borrowed the book')\r\n",
    "            self.availableBooks.remove(requestedBook)\r\n",
    "        else:\r\n",
    "            print('Sorry, the book is not available in our list.')\r\n",
    "    def addBook(self, returnedBook):\r\n",
    "        self.availableBooks.append(returnedBook)\r\n",
    "        print('You have returned the book. Thank you!')\r\n",
    "\r\n",
    "class Customer:\r\n",
    "    def requestBook(self):\r\n",
    "        print('Enter the name of a book you would like to borrow: ')\r\n",
    "        self.book = input()\r\n",
    "        return self.book\r\n",
    "\r\n",
    "    def returnBook(self):\r\n",
    "        print('Enter the name of a book which you are returning: ')\r\n",
    "        self.book = input()\r\n",
    "        return self.book\r\n",
    "\r\n",
    "library = Library(['Think and Growth Rich', 'Who will Cry When You Die', 'For One More Day'])\r\n",
    "customer = Customer()\r\n",
    "\r\n",
    "# abstract & encapsulation  \r\n",
    "while True:\r\n",
    "    print('Enter 1 to display the available books')\r\n",
    "    print('Enter 2 to request for a book')\r\n",
    "    print('Enter 3 to return a book')\r\n",
    "    print('Enter 4 to exit')\r\n",
    "    userChoice = int(input())\r\n",
    "\r\n",
    "    if userChoice == 1:\r\n",
    "        library.displayAvailableBooks()\r\n",
    "    elif userChoice == 2:\r\n",
    "        requestedBook = customer.requestBook()\r\n",
    "        library.lendBook(requestedBook)\r\n",
    "    elif userChoice == 3:\r\n",
    "        returnedBook = customer.returnBook()\r\n",
    "        library.addBook(returnedBook)\r\n",
    "    elif userChoice == 4:\r\n",
    "        break\r\n",
    "        # quit()"
   ],
   "outputs": [],
   "metadata": {}
  },
  {
   "cell_type": "markdown",
   "source": [
    "# Inheritance"
   ],
   "metadata": {}
  },
  {
   "cell_type": "code",
   "execution_count": 4,
   "source": [
    "class Apple:\r\n",
    "    manufacturer = 'Apple Inc.'\r\n",
    "    contactWebsite = 'www.apple.com/contact'\r\n",
    "\r\n",
    "    def contactDetails(self):\r\n",
    "        print('To contact us, log on to ', self.contactWebsite)\r\n",
    "    \r\n",
    "class Macbook(Apple):\r\n",
    "    def __init__(self):\r\n",
    "        self.yearOfManufacturer = 2017\r\n",
    "    \r\n",
    "    def manufacturerDetails(self):\r\n",
    "        print('This Macbook was manufactured in the year {} by {}'.format(self.yearOfManufacturer, self.manufacturer))\r\n",
    "\r\n",
    "\r\n",
    "macBook = Macbook()\r\n",
    "macBook.manufacturerDetails()\r\n",
    "macBook.contactDetails()"
   ],
   "outputs": [
    {
     "output_type": "stream",
     "name": "stdout",
     "text": [
      "This Macbook was manufactured in the year 2017 by Apple Inc.\n",
      "To contact us, log on to  www.apple.com/contact\n"
     ]
    }
   ],
   "metadata": {}
  },
  {
   "cell_type": "markdown",
   "source": [
    "# Multiple Inheritance"
   ],
   "metadata": {}
  },
  {
   "cell_type": "code",
   "execution_count": 6,
   "source": [
    "class OperatingSystem:\r\n",
    "    multitasking = True\r\n",
    "    name = 'Mac OS'\r\n",
    "\r\n",
    "class Apple:\r\n",
    "    website = 'www.apple.com'\r\n",
    "    name = 'Apple'\r\n",
    "\r\n",
    "class Macbook(OperatingSystem, Apple):\r\n",
    "    def __init__(self):\r\n",
    "        if self.multitasking is True:\r\n",
    "            print('This is a multi tasking system. Visit {} for more details'.format(self.website))\r\n",
    "            print('Name: ', self.name)\r\n",
    "\r\n",
    "macBook = Macbook()\r\n"
   ],
   "outputs": [
    {
     "output_type": "stream",
     "name": "stdout",
     "text": [
      "This is a multi tasking system. Visit www.apple.com for more details\n",
      "Name:  Mac OS\n"
     ]
    }
   ],
   "metadata": {}
  },
  {
   "cell_type": "code",
   "execution_count": 7,
   "source": [
    "class MusicalInstruments:\r\n",
    "    numberOfMajorKeys = 12\r\n",
    "\r\n",
    "class StringInstruments(MusicalInstruments):\r\n",
    "    typeOfWood = 'Tonewood'\r\n",
    "\r\n",
    "class Guitar(StringInstruments):\r\n",
    "    def __init__(self):\r\n",
    "        self.numberOfStrings = 6\r\n",
    "        print('This guitar consists of {} strings. It is made of {} and it can play {} keys'.format(self.numberOfStrings, self.typeOfWood, self.numberOfMajorKeys))\r\n",
    "\r\n",
    "guitar = Guitar()"
   ],
   "outputs": [
    {
     "output_type": "stream",
     "name": "stdout",
     "text": [
      "This guitar consists of 6 strings. It is made of Tonewood and it can play 12 keys\n"
     ]
    }
   ],
   "metadata": {}
  },
  {
   "cell_type": "markdown",
   "source": [
    "## Naming Conventions - Public, Protected, Private"
   ],
   "metadata": {}
  },
  {
   "cell_type": "code",
   "execution_count": 31,
   "source": [
    "# Public => memberName\r\n",
    "# Protected => _memberName\r\n",
    "# Private => __memberName\r\n",
    "\r\n",
    "class Car:\r\n",
    "    numberOfWheels = 4\r\n",
    "    _color = 'Black'\r\n",
    "\r\n",
    "    # private attribute, use only in this class\r\n",
    "    __yearOfManufacturer = 2017 # _Car__yearOfManufacture\r\n",
    "\r\n",
    "    def getYear(self):\r\n",
    "        print(self.__yearOfManufacturer)\r\n",
    "    \r\n",
    "    def get(self):\r\n",
    "        self.__yearOfManufacturer\r\n",
    "\r\n",
    "class Bmw(Car):\r\n",
    "    def __init__(self):\r\n",
    "        print('Protected attribute color:',self._color)\r\n",
    "\r\n",
    "car = Car()\r\n",
    "print('Public attribute numberOfWheels:',car.numberOfWheels)\r\n",
    "\r\n",
    "\r\n",
    "bmw = Bmw()\r\n",
    "print(Car._color)\r\n",
    "\r\n",
    "# print('Private attribute yearOfManufacturer:',car.__yearOfManufacturer)\r\n",
    "print('Private attribute yearOfManufacturer:',car._Car__yearOfManufacturer)\r\n",
    "\r\n",
    "Car().getYear()\r\n",
    "# Car().get()"
   ],
   "outputs": [
    {
     "output_type": "stream",
     "name": "stdout",
     "text": [
      "Public attribute numberOfWheels: 4\n",
      "Protected attribute color: Black\n",
      "Black\n",
      "Private attribute yearOfManufacturer: 2017\n",
      "2017\n"
     ]
    }
   ],
   "metadata": {}
  },
  {
   "cell_type": "markdown",
   "source": [
    "# Polymorphism"
   ],
   "metadata": {}
  },
  {
   "cell_type": "markdown",
   "source": [
    "## Overriding and super() method"
   ],
   "metadata": {}
  },
  {
   "cell_type": "code",
   "execution_count": 33,
   "source": [
    "class Employee:\r\n",
    "    def setNumberOfWorkingHours(self):\r\n",
    "        self.numberOfWorkingHours = 45\r\n",
    "    \r\n",
    "    def displayNumberOfWorkingHours(self):\r\n",
    "        print(self.numberOfWorkingHours)\r\n",
    "\r\n",
    "class Trainee(Employee):\r\n",
    "    def setNumberOfWorkingHours(self):\r\n",
    "        self.numberOfWorkingHours = 40\r\n",
    "    \r\n",
    "    def resetNumberOfWorkingHours(self):\r\n",
    "        super().setNumberOfWorkingHours() # access the method from base class\r\n",
    "\r\n",
    "employee = Employee()\r\n",
    "employee.setNumberOfWorkingHours()\r\n",
    "print('Number of working hours of employee:', employee.numberOfWorkingHours)\r\n",
    "\r\n",
    "trainee = Trainee()\r\n",
    "trainee.setNumberOfWorkingHours()\r\n",
    "print('Number of working hours of trainee:', trainee.numberOfWorkingHours)\r\n",
    "\r\n",
    "trainee.resetNumberOfWorkingHours()\r\n",
    "print('Number of working hours of trainee after reset:', trainee.numberOfWorkingHours)\r\n"
   ],
   "outputs": [
    {
     "output_type": "stream",
     "name": "stdout",
     "text": [
      "Number of working hours of employee: 45\n",
      "Number of working hours of trainee: 40\n",
      "Number of working hours of trainee after reset: 45\n"
     ]
    }
   ],
   "metadata": {}
  },
  {
   "cell_type": "markdown",
   "source": [
    "## The diamond shape problem in multiple inheritance"
   ],
   "metadata": {}
  },
  {
   "cell_type": "code",
   "execution_count": 6,
   "source": [
    "class A:\r\n",
    "    def method(self):\r\n",
    "        print('This method belongs to class A')\r\n",
    "\r\n",
    "class B(A):\r\n",
    "    def method(self):\r\n",
    "        print('This method belongs to class B') \r\n",
    "    pass\r\n",
    "\r\n",
    "class C(A):\r\n",
    "    def method(self):\r\n",
    "        print('This method belongs to class C')\r\n",
    "\r\n",
    "class D(B, C):\r\n",
    "    pass\r\n",
    "\r\n",
    "d = D()\r\n",
    "d.method()"
   ],
   "outputs": [
    {
     "output_type": "stream",
     "name": "stdout",
     "text": [
      "This method belongs to class B\n"
     ]
    }
   ],
   "metadata": {}
  },
  {
   "cell_type": "markdown",
   "source": [
    "## Overloading an operator"
   ],
   "metadata": {}
  },
  {
   "cell_type": "code",
   "execution_count": 23,
   "source": [
    "class Square:\r\n",
    "    def __init__(self,side):\r\n",
    "        self.side = side\r\n",
    "\r\n",
    "    def __add__(self,square2): # define + operator for the class\r\n",
    "        return 4*self.side + 5*square2.side\r\n",
    "    \r\n",
    "    # def __add__(square1,square2):\r\n",
    "    #     return 4*square1.side + 5*square2.side\r\n",
    "\r\n",
    "squareOne = Square(5)\r\n",
    "squareTwo = Square(10)\r\n",
    "squareThree = Square(15)\r\n",
    "\r\n",
    "print('Sum of sides of both the squares = ', squareOne + squareThree)\r\n",
    "print(squareOne)"
   ],
   "outputs": [
    {
     "output_type": "stream",
     "name": "stdout",
     "text": [
      "Sum of sides of both the squares =  95\n",
      "<__main__.Square object at 0x0000014E2C411BE0>\n"
     ]
    }
   ],
   "metadata": {}
  },
  {
   "cell_type": "code",
   "execution_count": null,
   "source": [
    "import inspect\r\n",
    "from queue import Queue\r\n",
    "\r\n",
    "print(inspect.getsource(Queue))"
   ],
   "outputs": [],
   "metadata": {}
  },
  {
   "cell_type": "markdown",
   "source": [
    "## Implementing an Abstract Base Class (ABC)"
   ],
   "metadata": {}
  },
  {
   "cell_type": "code",
   "execution_count": 36,
   "source": [
    "from abc import ABCMeta, abstractmethod\r\n",
    "\r\n",
    "class Shape(metaclass = ABCMeta):\r\n",
    "    @abstractmethod\r\n",
    "    def area(self):\r\n",
    "        pass\r\n",
    "        # return 0\r\n",
    "\r\n",
    "\r\n",
    "class Square(Shape):\r\n",
    "    side = 4\r\n",
    "    def area(self):\r\n",
    "        print('Area of square: ',self.side * self.side)\r\n",
    "\r\n",
    "class Rectangle(Shape):\r\n",
    "    width = 5\r\n",
    "    length = 10\r\n",
    "    def area(self):\r\n",
    "        print('Area of rectangle: ',self.width * self.length)\r\n",
    "\r\n",
    "square = Square()\r\n",
    "rectangle = Rectangle()\r\n",
    "\r\n",
    "square.area()\r\n",
    "rectangle.area()\r\n",
    "\r\n",
    "# shape = Shape() - can't instantiate abstract class  \r\n"
   ],
   "outputs": [
    {
     "output_type": "stream",
     "name": "stdout",
     "text": [
      "Area of square:  16\n",
      "Area of rectangle:  50\n"
     ]
    }
   ],
   "metadata": {}
  },
  {
   "cell_type": "markdown",
   "source": [
    "# Hands-on project"
   ],
   "metadata": {}
  },
  {
   "cell_type": "markdown",
   "source": [
    "## Banking System Problem Statement"
   ],
   "metadata": {}
  },
  {
   "cell_type": "markdown",
   "source": [
    "### - Give a prompt to the user asking if they wish to create a new Saving Account or access an existing one\r\n",
    "### - If the user would like to create a new account, accept their name and initial deposit, and create a 5 digit random number and make it as the account number of their new Saving Account\r\n",
    "### - If they are accessing an existing account, accept their name and account number to validate the user, and give them options to withdraw, deposit or display their available balance"
   ],
   "metadata": {}
  },
  {
   "cell_type": "code",
   "execution_count": 11,
   "source": [
    "from abc import ABCMeta, abstractmethod\r\n",
    "from random import randint\r\n",
    "\r\n",
    "class Account(metaclass = ABCMeta):\r\n",
    "    @abstractmethod\r\n",
    "    def createAccount(self, name, initialDeposit):\r\n",
    "        pass\r\n",
    "\r\n",
    "    @abstractmethod\r\n",
    "    def authenticate(self, name, accountNumber):\r\n",
    "        pass\r\n",
    "\r\n",
    "    @abstractmethod\r\n",
    "    def withdraw(self, withdrawAmount):\r\n",
    "        pass\r\n",
    "\r\n",
    "    @abstractmethod   \r\n",
    "    def deposit(self, depositAmount):\r\n",
    "        pass\r\n",
    "    \r\n",
    "    @abstractmethod\r\n",
    "    def displayBalance(self):\r\n",
    "        pass\r\n",
    "\r\n",
    "class SavingsAccount:\r\n",
    "    def __init__(self):\r\n",
    "\r\n",
    "        self.savingsAccounts = {}\r\n",
    "\r\n",
    "    def createAccount(self, name, initialDeposit):\r\n",
    "        self.accountNumber = randint(10000, 99999)\r\n",
    "        self.savingsAccounts[self.accountNumber] = [name, initialDeposit]\r\n",
    "        print('Account creation has been successful. Your account number is ', self.accountNumber)            \r\n",
    "\r\n",
    "    def authenticate(self, name, accountNumber):\r\n",
    "        if accountNumber in self.savingsAccounts.keys():\r\n",
    "            if self.savingsAccounts[accountNumber][0] == name:\r\n",
    "                print('Authentication Successful')\r\n",
    "                self.accountNumber = accountNumber\r\n",
    "                return True\r\n",
    "            else:\r\n",
    "                print('Authentication Failed')\r\n",
    "                return False\r\n",
    "        else:\r\n",
    "            print('Authentication Failed')\r\n",
    "            return False\r\n",
    "\r\n",
    "    def withdraw(self, withdrawAmount):\r\n",
    "        if self.savingsAccounts[self.accountNumber][1] < withdrawAmount:\r\n",
    "            print('Insufficient balance')\r\n",
    "        else:\r\n",
    "            self.savingsAccounts[self.accountNumber][1] -= withdrawAmount\r\n",
    "            print('Withdrawal was successful.')\r\n",
    "            self.displayBalance()\r\n",
    "\r\n",
    "    def deposit(self, depositAmount):\r\n",
    "        self.savingsAccounts[self.accountNumber][1] += depositAmount\r\n",
    "        print('Deposit was successful.')\r\n",
    "        self.displayBalance()\r\n",
    "\r\n",
    "    def displayBalance(self):\r\n",
    "        print('Available balance: ', self.savingsAccounts[self.accountNumber][1])\r\n"
   ],
   "outputs": [],
   "metadata": {}
  },
  {
   "cell_type": "code",
   "execution_count": null,
   "source": [
    "savingsAccounts = SavingsAccount()"
   ],
   "outputs": [],
   "metadata": {}
  },
  {
   "cell_type": "code",
   "execution_count": 31,
   "source": [
    "while True:\r\n",
    "    print('Enter 1 to create a new account')\r\n",
    "    print('Enter 2 to access an exitsting account')\r\n",
    "    print('Enter 3 to exit')\r\n",
    "\r\n",
    "    userChoice = int(input())\r\n",
    "    if userChoice == 1:\r\n",
    "        print('Enter your name: ')\r\n",
    "        name = input()\r\n",
    "        print(name)\r\n",
    "        print('Enter your initial deposit: ')\r\n",
    "        deposit = int(input())\r\n",
    "        print(deposit)\r\n",
    "        savingsAccounts.createAccount(name, deposit)\r\n",
    "\r\n",
    "    elif userChoice == 2:\r\n",
    "        print('Enter your name: ')\r\n",
    "        name = input()\r\n",
    "        print('Enter your account: ')\r\n",
    "        accountNumber = int(input())\r\n",
    "        authenticationStatus = savingsAccounts.authenticate(name, accountNumber)\r\n",
    "        if authenticationStatus == True:\r\n",
    "            while True:\r\n",
    "                print('Enter 1 to withdraw')\r\n",
    "                print('Enter 2 to deposit')\r\n",
    "                print('Enter 3 to display available balance')\r\n",
    "                print('Enter 4 to go back to the previous menu')\r\n",
    "                userChoice = int(input())\r\n",
    "                if userChoice == 1:\r\n",
    "                    print('Enter your withdraw amount')\r\n",
    "                    withdrawAmount = int(input())\r\n",
    "                    print(withdrawAmount)\r\n",
    "                    savingsAccounts.withdraw(withdrawAmount)\r\n",
    "                elif userChoice == 2:\r\n",
    "                    print('Enter your deposit amount')\r\n",
    "                    depositAmount = int(input())\r\n",
    "                    print(depositAmount)\r\n",
    "                    savingsAccounts.deposit(depositAmount)\r\n",
    "                elif userChoice == 3:\r\n",
    "                    savingsAccounts.displayBalance()\r\n",
    "                elif userChoice == 4:\r\n",
    "                    break\r\n",
    "            \r\n",
    "    elif userChoice == 3:\r\n",
    "        break\r\n",
    "        # quit()"
   ],
   "outputs": [
    {
     "output_type": "stream",
     "name": "stdout",
     "text": [
      "Enter 1 to create a new account\n",
      "Enter 2 to access an exitsting account\n",
      "Enter 3 to exit\n",
      "Enter your name: \n",
      "Enter your account: \n",
      "Authentication Successful\n",
      "Enter 1 to withdraw\n",
      "Enter 2 to deposit\n",
      "Enter 3 to display available balance\n",
      "Enter 4 to go back to the previous menu\n",
      "Available balance:  400\n",
      "Enter 1 to withdraw\n",
      "Enter 2 to deposit\n",
      "Enter 3 to display available balance\n",
      "Enter 4 to go back to the previous menu\n",
      "Enter your withdraw amount\n",
      "100\n",
      "Withdrawal was successful.\n",
      "Available balance:  300\n",
      "Enter 1 to withdraw\n",
      "Enter 2 to deposit\n",
      "Enter 3 to display available balance\n",
      "Enter 4 to go back to the previous menu\n",
      "Enter 1 to create a new account\n",
      "Enter 2 to access an exitsting account\n",
      "Enter 3 to exit\n"
     ]
    }
   ],
   "metadata": {}
  },
  {
   "cell_type": "code",
   "execution_count": 25,
   "source": [
    "savingsAccounts.savingsAccounts.items()"
   ],
   "outputs": [
    {
     "output_type": "execute_result",
     "data": {
      "text/plain": [
       "dict_items([(62226, ['Bac', 100])])"
      ]
     },
     "metadata": {},
     "execution_count": 25
    }
   ],
   "metadata": {}
  },
  {
   "cell_type": "code",
   "execution_count": 26,
   "source": [
    "savingsAccounts.savingsAccounts"
   ],
   "outputs": [
    {
     "output_type": "execute_result",
     "data": {
      "text/plain": [
       "{62226: ['Bac', 100]}"
      ]
     },
     "metadata": {},
     "execution_count": 26
    }
   ],
   "metadata": {}
  },
  {
   "cell_type": "code",
   "execution_count": 27,
   "source": [
    "62226 in savingsAccounts.savingsAccounts.keys()"
   ],
   "outputs": [
    {
     "output_type": "execute_result",
     "data": {
      "text/plain": [
       "True"
      ]
     },
     "metadata": {},
     "execution_count": 27
    }
   ],
   "metadata": {}
  },
  {
   "cell_type": "code",
   "execution_count": null,
   "source": [],
   "outputs": [],
   "metadata": {}
  }
 ],
 "metadata": {
  "orig_nbformat": 4,
  "language_info": {
   "name": "python",
   "version": "3.9.6",
   "mimetype": "text/x-python",
   "codemirror_mode": {
    "name": "ipython",
    "version": 3
   },
   "pygments_lexer": "ipython3",
   "nbconvert_exporter": "python",
   "file_extension": ".py"
  },
  "kernelspec": {
   "name": "python3",
   "display_name": "Python 3.9.6 64-bit"
  },
  "interpreter": {
   "hash": "dcacb0086e9a4f4eabd41c33bf4faac5ea0a3337ed3f5eff0680afa930572c04"
  }
 },
 "nbformat": 4,
 "nbformat_minor": 2
}