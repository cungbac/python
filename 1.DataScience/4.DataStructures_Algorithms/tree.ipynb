{
 "cells": [
  {
   "cell_type": "markdown",
   "metadata": {},
   "source": [
    "## Binary Tree"
   ]
  },
  {
   "cell_type": "code",
   "execution_count": 1,
   "metadata": {},
   "outputs": [],
   "source": [
    "class node:\n",
    "    def __init__(self,data = None):\n",
    "        self.data = data\n",
    "        self.left = None\n",
    "        self.right = None\n",
    "\n",
    "class BinaryTree:\n",
    "    def __init__(self):\n",
    "        self.root = None"
   ]
  },
  {
   "cell_type": "code",
   "execution_count": 3,
   "metadata": {},
   "outputs": [],
   "source": [
    "tree = BinaryTree()\n",
    "tree.root = node(100)\n",
    "tree.root.left = node(15)\n",
    "tree.root.right = node(20)\n",
    "tree.root.left.left = node(10)\n",
    "tree.root.left.right = node(99)\n",
    "tree.root.right.left = node(15)\n",
    "tree.root.right.right = node(40)\n",
    "\n",
    "\n",
    "#         100\n",
    "#        /   \\\n",
    "#      15     20\n",
    "#     /  \\   /  \\\n",
    "#    10  99 15  40"
   ]
  },
  {
   "cell_type": "markdown",
   "metadata": {},
   "source": [
    "### Binary tree traversals"
   ]
  },
  {
   "cell_type": "code",
   "execution_count": null,
   "metadata": {},
   "outputs": [],
   "source": []
  },
  {
   "cell_type": "markdown",
   "metadata": {},
   "source": [
    "## Binary Search Tree\n",
    "#### 1. cousin => nodes have same grandparent\n",
    "#### 2. edge: link from a node to an another node\n",
    "#### 3. depth of x: no of edges in path from root to x\n",
    "#### 4. height of x: no. of edges in longest path from x to a leaf\n",
    "#### 5. height of tree: no. of edges in longest path from root to a leaf\n",
    "#### 6. height of tree with 1 node = 0\n"
   ]
  },
  {
   "cell_type": "code",
   "execution_count": 1,
   "metadata": {},
   "outputs": [],
   "source": [
    "class node:\n",
    "    def __init__(self,data = None):\n",
    "        self.data = data\n",
    "        self.left = None\n",
    "        self.right = None\n",
    "    \n",
    "    @classmethod\n",
    "    def addToNode(self,value):\n",
    "        # cur = self.data\n",
    "        if value < self.data:\n",
    "            if self.left == None:\n",
    "                p = node(value)\n",
    "                self.left = p\n",
    "            else:\n",
    "                self.left.addToNode(value)\n",
    "        elif value > self.data:\n",
    "            if self.right == None:\n",
    "                p = node(value)\n",
    "                self.right = p\n",
    "            else:\n",
    "                self.right.addToNode(value)\n",
    "        else:\n",
    "            return\n",
    "class binary_search_tree:\n",
    "    def __init__(self):\n",
    "        self.root = None\n",
    "\n",
    "    def addToBST(self,value):\n",
    "        p = node(value)\n",
    "        if self.root == None:\n",
    "            self.root = p\n",
    "        else:\n",
    "            self.root.addToNode(value)\n"
   ]
  },
  {
   "cell_type": "code",
   "execution_count": 5,
   "metadata": {},
   "outputs": [
    {
     "data": {
      "text/plain": [
       "[60, 75, 34, 26, 57, 39, 80, 31, 35, 11]"
      ]
     },
     "execution_count": 5,
     "metadata": {},
     "output_type": "execute_result"
    }
   ],
   "source": [
    "from random import randint\n",
    "lst = [randint(1,100) for i in range(10)]\n",
    "lst"
   ]
  },
  {
   "cell_type": "code",
   "execution_count": null,
   "metadata": {},
   "outputs": [],
   "source": [
    "bst1 = binary_search_tree()\n",
    "for i in lst:\n",
    "    print(i)\n",
    "    bst1.addToBST(i)"
   ]
  },
  {
   "cell_type": "code",
   "execution_count": null,
   "metadata": {},
   "outputs": [],
   "source": []
  }
 ],
 "metadata": {
  "interpreter": {
   "hash": "3a8eb5b4756616b8e0633077df4d799c8eda3f4883752b4165209be8e5ba9d4a"
  },
  "kernelspec": {
   "display_name": "Python 3.9.5 64-bit ('PythonSoftwareFoundation.Python.3.9_qbz5n2kfra8p0')",
   "name": "python3"
  },
  "language_info": {
   "codemirror_mode": {
    "name": "ipython",
    "version": 3
   },
   "file_extension": ".py",
   "mimetype": "text/x-python",
   "name": "python",
   "nbconvert_exporter": "python",
   "pygments_lexer": "ipython3",
   "version": "3.9.5"
  },
  "orig_nbformat": 4
 },
 "nbformat": 4,
 "nbformat_minor": 2
}