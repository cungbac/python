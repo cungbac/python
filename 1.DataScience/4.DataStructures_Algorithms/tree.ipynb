{
 "metadata": {
  "language_info": {
   "codemirror_mode": {
    "name": "ipython",
    "version": 3
   },
   "file_extension": ".py",
   "mimetype": "text/x-python",
   "name": "python",
   "nbconvert_exporter": "python",
   "pygments_lexer": "ipython3",
   "version": "3.9.5"
  },
  "orig_nbformat": 4,
  "kernelspec": {
   "name": "python3",
   "display_name": "Python 3.9.5 64-bit ('PythonSoftwareFoundation.Python.3.9_qbz5n2kfra8p0')"
  },
  "interpreter": {
   "hash": "3a8eb5b4756616b8e0633077df4d799c8eda3f4883752b4165209be8e5ba9d4a"
  }
 },
 "nbformat": 4,
 "nbformat_minor": 2,
 "cells": [
  {
   "source": [
    "### Binary Search Tree\n",
    "#### 1. cousin => nodes have same grandparent\n",
    "#### 2. edge: link from a node to an another node\n",
    "#### 3. depth of x: no of edges in path from root to x\n",
    "#### 4. height of x: no. of edges in longest path from x to a leaf\n",
    "#### 5. height of tree: no. of edges in longest path from root to a leaf\n",
    "#### 6. height of tree with 1 node = 0\n"
   ],
   "cell_type": "markdown",
   "metadata": {}
  },
  {
   "cell_type": "code",
   "execution_count": null,
   "metadata": {},
   "outputs": [],
   "source": [
    "class node:\n",
    "    def __init__(self,data = None):\n",
    "        self.value = data\n",
    "        self.left = None\n",
    "        self.right = None\n",
    "class binary_search_tree:\n",
    "    def __init__(self):\n",
    "        self.root = None\n",
    "\n",
    "    def insert(self,value):\n",
    "        if self.root == None:\n",
    "            self.root = node(value)\n",
    "        else:\n",
    "            self.root.left\n",
    "    def _insert(self,value,cur_node):\n",
    "        if value < cur_node.value:\n",
    "            if cur_node.left == None:\n",
    "                cur_node.left = node(value)\n",
    "            else:\n",
    "                self._insert(value,cur_node.left)\n"
   ]
  },
  {
   "cell_type": "code",
   "execution_count": 4,
   "metadata": {},
   "outputs": [
    {
     "output_type": "execute_result",
     "data": {
      "text/plain": [
       "193"
      ]
     },
     "metadata": {},
     "execution_count": 4
    }
   ],
   "source": [
    "5*23 + 13*6"
   ]
  },
  {
   "cell_type": "code",
   "execution_count": null,
   "metadata": {},
   "outputs": [],
   "source": []
  }
 ]
}