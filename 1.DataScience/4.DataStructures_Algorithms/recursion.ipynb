{
 "metadata": {
  "language_info": {
   "codemirror_mode": {
    "name": "ipython",
    "version": 3
   },
   "file_extension": ".py",
   "mimetype": "text/x-python",
   "name": "python",
   "nbconvert_exporter": "python",
   "pygments_lexer": "ipython3",
   "version": "3.9.5"
  },
  "orig_nbformat": 4,
  "kernelspec": {
   "name": "python3",
   "display_name": "Python 3.9.5 64-bit ('PythonSoftwareFoundation.Python.3.9_qbz5n2kfra8p0')"
  },
  "interpreter": {
   "hash": "3a8eb5b4756616b8e0633077df4d799c8eda3f4883752b4165209be8e5ba9d4a"
  }
 },
 "nbformat": 4,
 "nbformat_minor": 2,
 "cells": [
  {
   "source": [
    "## --- 5 simple steps for solving recursions ---\n",
    "### 1. What is the simplest possible input? *Base case\n",
    "### 2. Play around with examples and visualize\n",
    "### 3. Relate hard cases to simpler cases\n",
    "### 4. Generalize the pattern\n",
    "### 5. Write code by combining recursive pattern with base case"
   ],
   "cell_type": "markdown",
   "metadata": {}
  },
  {
   "cell_type": "code",
   "execution_count": 1,
   "metadata": {},
   "outputs": [],
   "source": [
    "# S(n) = 1 + 2 + 3 + ... + n\n",
    "# 1. Simplest case (base case): n = 0 => S = 0\n",
    "# 2. Play around: S(3) = 1 + 2 + 3 = 6; S(4) S = 1 + 2 + 3 + 4 = 10\n",
    "# 3. Relate hard case to simpler case: S(4) = 4 + S(3)\n",
    "# 4. Generalize the pattern: S(n) = n + S(n-1)\n",
    "# 5. Writing code:\n",
    "\n",
    "def sum_n(n):\n",
    "    if n == 0:\n",
    "        return 0\n",
    "    else:\n",
    "        return n + sum_n(n-1)"
   ]
  },
  {
   "cell_type": "code",
   "execution_count": 23,
   "metadata": {},
   "outputs": [],
   "source": [
    "def test(n):\n",
    "    if n // 10  == 0:\n",
    "        return (n % 10)*2\n",
    "    else:\n",
    "        return test(n % 10)"
   ]
  },
  {
   "cell_type": "code",
   "execution_count": 1,
   "metadata": {},
   "outputs": [],
   "source": [
    "def factorial(n):\n",
    "    if n == 1 or n == 0:\n",
    "        return 1\n",
    "    else:\n",
    "        return n * factorial(n-1)\n"
   ]
  },
  {
   "cell_type": "code",
   "execution_count": 39,
   "metadata": {},
   "outputs": [
    {
     "output_type": "execute_result",
     "data": {
      "text/plain": [
       "25"
      ]
     },
     "metadata": {},
     "execution_count": 39
    }
   ],
   "source": [
    "# max odd divisor\n",
    "def oddDevisor(n):\n",
    "    if n % 2 != 0:\n",
    "        return n\n",
    "    else:\n",
    "        x = oddDevisor(n//2)\n",
    "        return x\n",
    "oddDevisor(100)"
   ]
  },
  {
   "cell_type": "code",
   "execution_count": 13,
   "metadata": {},
   "outputs": [],
   "source": [
    "def countDigit(n):\n",
    "    if n // 10 == 0:\n",
    "        return 1\n",
    "    else:\n",
    "        count = 1\n",
    "        return count + countDigit(n//10)\n",
    "countDigit(345234)"
   ]
  },
  {
   "cell_type": "code",
   "execution_count": 15,
   "metadata": {},
   "outputs": [
    {
     "output_type": "execute_result",
     "data": {
      "text/plain": [
       "4"
      ]
     },
     "metadata": {},
     "execution_count": 15
    }
   ],
   "source": [
    "def firstDigit(n):\n",
    "    if n // 10 == 0:\n",
    "        return n\n",
    "    else:\n",
    "        return firstDigit(n//10)\n",
    "firstDigit(435456)"
   ]
  },
  {
   "cell_type": "code",
   "execution_count": 26,
   "metadata": {},
   "outputs": [
    {
     "output_type": "execute_result",
     "data": {
      "text/plain": [
       "9"
      ]
     },
     "metadata": {},
     "execution_count": 26
    }
   ],
   "source": [
    "# Find max digit in a number max(n)\n",
    "# 1. Simplest case (base case): n // 10 = 0 => max = n\n",
    "# 2. Play around: max(25) = max(2,5); max(1893) = max(1,8,9,3)\n",
    "# 3. Relate hard case to simpler case: \n",
    "# 4. Generalize the pattern: max(n) = max(n%10,max(n//10))\n",
    "# 5. Writing code:\n",
    "\n",
    "def maxDigit(n):\n",
    "    if n // 10 == 0:\n",
    "        return n\n",
    "    else:\n",
    "        max = n % 10\n",
    "        x = maxDigit(n//10)\n",
    "        if x > max:\n",
    "            return x\n",
    "        else:\n",
    "            return max\n",
    "maxDigit(1294321)"
   ]
  },
  {
   "cell_type": "code",
   "execution_count": 2,
   "metadata": {},
   "outputs": [
    {
     "output_type": "execute_result",
     "data": {
      "text/plain": [
       "8"
      ]
     },
     "metadata": {},
     "execution_count": 2
    }
   ],
   "source": [
    "# Sum even numbers in list \n",
    "# 1. Simplest case (base case): \n",
    "# 2. Play around: \n",
    "# 3. Relate hard case to simpler case: \n",
    "# 4. Generalize the pattern: \n",
    "# 5. Writing code:\n",
    "def sumEvenNum(lst,n):\n",
    "    if n - 1 == 0:\n",
    "        if lst[n-1] % 2 == 0:\n",
    "            return lst[n-1]\n",
    "        else:\n",
    "            return 0\n",
    "    else:\n",
    "        x = lst[n-1]\n",
    "        if x % 2 == 0:\n",
    "            return x + sumEvenNum(lst,n-1)\n",
    "        else:\n",
    "            return 0 + sumEvenNum(lst,n-1)\n",
    "\n",
    "sumEvenNum([4,2,5,7,2],5)"
   ]
  },
  {
   "cell_type": "code",
   "execution_count": 3,
   "metadata": {},
   "outputs": [
    {
     "output_type": "execute_result",
     "data": {
      "text/plain": [
       "8"
      ]
     },
     "metadata": {},
     "execution_count": 3
    }
   ],
   "source": [
    "def fibonacci(n):\n",
    "    if n == 0 or n == 1:\n",
    "        return 1\n",
    "    else:\n",
    "        return fibonacci(n-1) + fibonacci(n-2)\n",
    "\n",
    "fibonacci(5)"
   ]
  },
  {
   "cell_type": "code",
   "execution_count": 21,
   "metadata": {},
   "outputs": [],
   "source": [
    "def binary(n):\n",
    "    if n // 2 == 0:\n",
    "        return n % 2\n",
    "    else:\n",
    "        x = binary(n//2)\n",
    "        y = n % 2 \n",
    "        return int(str(x) + str(y))\n",
    "binary(100)"
   ]
  },
  {
   "cell_type": "code",
   "execution_count": 26,
   "metadata": {},
   "outputs": [],
   "source": [
    "def inverse_str(a,n):\n",
    "    if n - 1 == 0:\n",
    "        return a[n-1]\n",
    "    else:\n",
    "        x = inverse_str(a,n-1)\n",
    "        y = a[n-1]\n",
    "        return str(y) + str(x)"
   ]
  },
  {
   "cell_type": "code",
   "execution_count": 27,
   "metadata": {},
   "outputs": [
    {
     "output_type": "execute_result",
     "data": {
      "text/plain": [
       "'cba'"
      ]
     },
     "metadata": {},
     "execution_count": 27
    }
   ],
   "source": [
    "def isSymmetric(s, i, j):\n",
    "  if i >= j:\n",
    "    return True\n",
    "  if s[i] == s[j]:\n",
    "    return isSymmetric(s, i + 1, j - 1)\n",
    "  return False"
   ]
  },
  {
   "cell_type": "code",
   "execution_count": null,
   "metadata": {},
   "outputs": [],
   "source": []
  }
 ]
}