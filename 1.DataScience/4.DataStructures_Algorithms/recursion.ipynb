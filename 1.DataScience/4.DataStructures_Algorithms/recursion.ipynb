{
 "cells": [
  {
   "cell_type": "markdown",
   "metadata": {},
   "source": [
    "## --- 5 simple steps for solving recursions ---\n",
    "### 1. What is the simplest possible input? *Base case\n",
    "### 2. Play around with examples and visualize\n",
    "### 3. Relate hard cases to simpler cases\n",
    "### 4. Generalize the pattern\n",
    "### 5. Write code by combining recursive pattern with base case"
   ]
  },
  {
   "cell_type": "code",
   "execution_count": 1,
   "metadata": {},
   "outputs": [],
   "source": [
    "# S(n) = 1 + 2 + 3 + ... + n\n",
    "# 1. Simplest case (base case): n = 0 => S = 0\n",
    "# 2. Play around: S(3) = 1 + 2 + 3 = 6; S(4) S = 1 + 2 + 3 + 4 = 10\n",
    "# 3. Relate hard case to simpler case: S(4) = 4 + S(3)\n",
    "# 4. Generalize the pattern: S(n) = n + S(n-1)\n",
    "# 5. Writing code:\n",
    "\n",
    "def sum_n(n):\n",
    "    if n == 0:\n",
    "        return 0\n",
    "    else:\n",
    "        return n + sum_n(n-1)"
   ]
  },
  {
   "cell_type": "code",
   "execution_count": 23,
   "metadata": {},
   "outputs": [],
   "source": [
    "def test(n):\n",
    "    if n // 10  == 0:\n",
    "        return (n % 10)*2\n",
    "    else:\n",
    "        return test(n % 10)"
   ]
  },
  {
   "cell_type": "code",
   "execution_count": 1,
   "metadata": {},
   "outputs": [],
   "source": [
    "def factorial(n):\n",
    "    if n == 1 or n == 0:\n",
    "        return 1\n",
    "    else:\n",
    "        return n * factorial(n-1)\n"
   ]
  },
  {
   "cell_type": "code",
   "execution_count": 39,
   "metadata": {},
   "outputs": [
    {
     "data": {
      "text/plain": [
       "25"
      ]
     },
     "execution_count": 39,
     "metadata": {},
     "output_type": "execute_result"
    }
   ],
   "source": [
    "# max odd divisor\n",
    "def oddDevisor(n):\n",
    "    if n % 2 != 0:\n",
    "        return n\n",
    "    else:\n",
    "        x = oddDevisor(n//2)\n",
    "        return x\n",
    "oddDevisor(100)"
   ]
  },
  {
   "cell_type": "code",
   "execution_count": 13,
   "metadata": {},
   "outputs": [],
   "source": [
    "def countDigit(n):\n",
    "    if n // 10 == 0:\n",
    "        return 1\n",
    "    else:\n",
    "        count = 1\n",
    "        return count + countDigit(n//10)\n",
    "countDigit(345234)"
   ]
  },
  {
   "cell_type": "code",
   "execution_count": null,
   "metadata": {},
   "outputs": [
    {
     "ename": "Error",
     "evalue": "Session cannot generate requests",
     "output_type": "error",
     "traceback": [
      "Error: Session cannot generate requests",
      "at w.executeCodeCell (c:\\Users\\Admin\\.vscode\\extensions\\ms-toolsai.jupyter-2021.6.999662501\\out\\client\\extension.js:90:328422)",
      "at w.execute (c:\\Users\\Admin\\.vscode\\extensions\\ms-toolsai.jupyter-2021.6.999662501\\out\\client\\extension.js:90:327811)",
      "at w.start (c:\\Users\\Admin\\.vscode\\extensions\\ms-toolsai.jupyter-2021.6.999662501\\out\\client\\extension.js:90:323627)",
      "at runMicrotasks (<anonymous>)",
      "at processTicksAndRejections (internal/process/task_queues.js:93:5)",
      "at async t.CellExecutionQueue.executeQueuedCells (c:\\Users\\Admin\\.vscode\\extensions\\ms-toolsai.jupyter-2021.6.999662501\\out\\client\\extension.js:90:338053)",
      "at async t.CellExecutionQueue.start (c:\\Users\\Admin\\.vscode\\extensions\\ms-toolsai.jupyter-2021.6.999662501\\out\\client\\extension.js:90:337593)"
     ]
    }
   ],
   "source": [
    "def firstDigit(n):\n",
    "    if n // 10 == 0:\n",
    "        return n\n",
    "    else:\n",
    "        return firstDigit(n//10)\n",
    "firstDigit(435456)"
   ]
  },
  {
   "cell_type": "code",
   "execution_count": 26,
   "metadata": {},
   "outputs": [
    {
     "data": {
      "text/plain": [
       "9"
      ]
     },
     "execution_count": 26,
     "metadata": {},
     "output_type": "execute_result"
    }
   ],
   "source": [
    "# Find max digit in a number max(n)\n",
    "# 1. Simplest case (base case): n // 10 = 0 => max = n\n",
    "# 2. Play around: max(25) = max(2,5); max(1893) = max(1,8,9,3)\n",
    "# 3. Relate hard case to simpler case: \n",
    "# 4. Generalize the pattern: max(n) = max(n%10,max(n//10))\n",
    "# 5. Writing code:\n",
    "\n",
    "def maxDigit(n):\n",
    "    if n // 10 == 0:\n",
    "        return n\n",
    "    else:\n",
    "        max = n % 10\n",
    "        x = maxDigit(n//10)\n",
    "        if x > max:\n",
    "            return x\n",
    "        else:\n",
    "            return max\n",
    "maxDigit(1294321)"
   ]
  },
  {
   "cell_type": "code",
   "execution_count": 2,
   "metadata": {},
   "outputs": [
    {
     "data": {
      "text/plain": [
       "8"
      ]
     },
     "execution_count": 2,
     "metadata": {},
     "output_type": "execute_result"
    }
   ],
   "source": [
    "# Sum even numbers in list \n",
    "# 1. Simplest case (base case): \n",
    "# 2. Play around: \n",
    "# 3. Relate hard case to simpler case: \n",
    "# 4. Generalize the pattern: \n",
    "# 5. Writing code:\n",
    "def sumEvenNum(lst,n):\n",
    "    if n - 1 == 0:\n",
    "        if lst[n-1] % 2 == 0:\n",
    "            return lst[n-1]\n",
    "        else:\n",
    "            return 0\n",
    "    else:\n",
    "        x = lst[n-1]\n",
    "        if x % 2 == 0:\n",
    "            return x + sumEvenNum(lst,n-1)\n",
    "        else:\n",
    "            return 0 + sumEvenNum(lst,n-1)\n",
    "\n",
    "sumEvenNum([4,2,5,7,2],5)"
   ]
  },
  {
   "cell_type": "code",
   "execution_count": 3,
   "metadata": {},
   "outputs": [
    {
     "data": {
      "text/plain": [
       "8"
      ]
     },
     "execution_count": 3,
     "metadata": {},
     "output_type": "execute_result"
    }
   ],
   "source": [
    "def fibonacci(n):\n",
    "    if n == 0 or n == 1:\n",
    "        return 1\n",
    "    else:\n",
    "        return fibonacci(n-1) + fibonacci(n-2)\n",
    "\n",
    "fibonacci(5)"
   ]
  },
  {
   "cell_type": "code",
   "execution_count": 1,
   "metadata": {},
   "outputs": [
    {
     "name": "stdout",
     "output_type": "stream",
     "text": [
      "111\n",
      "1010\n",
      "1011\n"
     ]
    }
   ],
   "source": [
    "import sys\r\n",
    "sys.setrecursionlimit(10**6)\r\n",
    "\r\n",
    "def binary(n):\r\n",
    "    if n // 2 == 0:\r\n",
    "        return n % 2\r\n",
    "    else:\r\n",
    "        x = binary(n//2)\r\n",
    "        y = n % 2 \r\n",
    "        return str(x) + str(y)\r\n",
    "\r\n",
    "def decimal_to_binary(n):\r\n",
    "    if n > 1:\r\n",
    "        decimal_to_binary(n//2)\r\n",
    "    print(n % 2, end = '')\r\n",
    "\r\n",
    "def decimal_convert(n):\r\n",
    "  if n == 0:\r\n",
    "    print(0, end='')\r\n",
    "    return\r\n",
    "  if n // 2 > 0:\r\n",
    "    decimal_convert(n // 2)\r\n",
    "  print(n % 2, end='')\r\n",
    "\r\n",
    "n = int(input())\r\n",
    "for i in range(n):\r\n",
    "    x = int(input().strip())\r\n",
    "    print(binary(x))\r\n",
    "    # print('')\r\n",
    "\r\n",
    "    \r\n"
   ]
  },
  {
   "cell_type": "code",
   "execution_count": 26,
   "metadata": {},
   "outputs": [],
   "source": [
    "def inverse_str(a,n):\n",
    "    if n - 1 == 0:\n",
    "        return a[n-1]\n",
    "    else:\n",
    "        x = inverse_str(a,n-1)\n",
    "        y = a[n-1]\n",
    "        return str(y) + str(x)"
   ]
  },
  {
   "cell_type": "code",
   "execution_count": 27,
   "metadata": {},
   "outputs": [
    {
     "data": {
      "text/plain": [
       "'cba'"
      ]
     },
     "execution_count": 27,
     "metadata": {},
     "output_type": "execute_result"
    }
   ],
   "source": [
    "def isSymmetric(s, i, j):\n",
    "  if i >= j:\n",
    "    return True\n",
    "  if s[i] == s[j]:\n",
    "    return isSymmetric(s, i + 1, j - 1)\n",
    "  return False"
   ]
  },
  {
   "cell_type": "code",
   "execution_count": 36,
   "metadata": {},
   "outputs": [
    {
     "name": "stdout",
     "output_type": "stream",
     "text": [
      "-0.71 0.00\n"
     ]
    }
   ],
   "source": [
    "a, b, c, d, e, f = map(int,input().split())\r\n",
    "\r\n",
    "p = e - (b*d)/a\r\n",
    "q = f - (c*d)/a\r\n",
    "\r\n",
    "if a != 0:\r\n",
    "    if p == 0 and q != 0:\r\n",
    "        print('VONGHIEM')\r\n",
    "    elif p == 0 and q == 0:\r\n",
    "        print('VOSONGHIEM')\r\n",
    "    elif q == 0:\r\n",
    "        y = 0\r\n",
    "        x = c/a\r\n",
    "        print(format(x,'.2f'),format(y,'.2f'))\r\n",
    "    else:\r\n",
    "        y = q/p\r\n",
    "        x = (c - b*y)/a\r\n",
    "        print(format(x,'.2f'),format(y,'.2f'))\r\n",
    "else:\r\n",
    "    y = c / b\r\n",
    "    x = (f - e*y)/d\r\n",
    "    print(format(x,'.2f'),format(y,'.2f'))"
   ]
  },
  {
   "cell_type": "code",
   "execution_count": 38,
   "metadata": {},
   "outputs": [
    {
     "name": "stdout",
     "output_type": "stream",
     "text": [
      "4.00\n"
     ]
    }
   ],
   "source": [
    "def factorial(n):\r\n",
    "    if n == 1:\r\n",
    "        return 1\r\n",
    "    else:\r\n",
    "        return n * factorial(n-1)\r\n",
    "\r\n",
    "x, n = map(int,input().split())\r\n",
    "\r\n",
    "S = 0\r\n",
    "for i in range(1,n+1):\r\n",
    "    temp = x**i/factorial(i)\r\n",
    "    S += temp\r\n",
    "\r\n",
    "print(format(S,'.2f'))"
   ]
  },
  {
   "cell_type": "code",
   "execution_count": 2,
   "metadata": {},
   "outputs": [],
   "source": [
    "def first_digit(n):\r\n",
    "    if n // 10 < 0:\r\n",
    "        return n\r\n",
    "    else:\r\n",
    "        return first_digit(n//10)\r\n",
    "\r\n",
    "n = int(input())\r\n",
    "last = n % 10\r\n",
    "first = first_digit(n)\r\n",
    "\r\n",
    "if first == last:\r\n",
    "    print('YES')\r\n",
    "else:\r\n",
    "    print('NO')"
   ]
  },
  {
   "cell_type": "code",
   "execution_count": null,
   "metadata": {},
   "outputs": [],
   "source": []
  }
 ],
 "metadata": {
  "interpreter": {
   "hash": "3a8eb5b4756616b8e0633077df4d799c8eda3f4883752b4165209be8e5ba9d4a"
  },
  "kernelspec": {
   "display_name": "Python 3.9.5 64-bit ('PythonSoftwareFoundation.Python.3.9_qbz5n2kfra8p0')",
   "name": "python3"
  },
  "language_info": {
   "codemirror_mode": {
    "name": "ipython",
    "version": 3
   },
   "file_extension": ".py",
   "mimetype": "text/x-python",
   "name": "python",
   "nbconvert_exporter": "python",
   "pygments_lexer": "ipython3",
   "version": "3.9.5"
  },
  "orig_nbformat": 4
 },
 "nbformat": 4,
 "nbformat_minor": 2
}