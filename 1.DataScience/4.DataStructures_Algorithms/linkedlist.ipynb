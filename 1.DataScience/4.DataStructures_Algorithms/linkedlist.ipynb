{
 "cells": [
  {
   "cell_type": "code",
   "execution_count": 43,
   "source": [
    "class node:\r\n",
    "    def __init__(self,data = None):\r\n",
    "        self.data = data\r\n",
    "        self.next = None\r\n",
    "\r\n",
    "class linkedlist:\r\n",
    "    def __init__(self):\r\n",
    "        self.head = None\r\n",
    "    \r\n",
    "    def insertHead(self,data):\r\n",
    "        new_node = node(data)\r\n",
    "        new_node.next = self.head\r\n",
    "        self.head = new_node\r\n",
    "\r\n",
    "    def print(self):\r\n",
    "        if self.head == None:\r\n",
    "            print(\"Linked list is empty\")\r\n",
    "        \r\n",
    "        cur = self.head\r\n",
    "        llstr = ''\r\n",
    "\r\n",
    "        while cur:\r\n",
    "            llstr += str(cur.data) + ' --> '\r\n",
    "            cur = cur.next\r\n",
    "        print(llstr)\r\n",
    "    \r\n",
    "    def length(self):\r\n",
    "        count = 0\r\n",
    "        cur = self.head # cur is a pointer to head node\r\n",
    "        while cur:\r\n",
    "            count += 1\r\n",
    "            cur = cur.next\r\n",
    "        return count\r\n",
    "    \r\n",
    "    def insertTail(self,data):\r\n",
    "        new_node = node(data)\r\n",
    "        if self.head == None:\r\n",
    "            self.head = new_node\r\n",
    "        cur = self.head\r\n",
    "        while cur.next:\r\n",
    "            cur = cur.next\r\n",
    "        cur.next = new_node\r\n",
    "\r\n",
    "    def insertTail_2(self,data,cur_node): # using recursion\r\n",
    "        if self.head == None:\r\n",
    "            self.head = node(data)\r\n",
    "        else:\r\n",
    "            if cur_node.next == None:\r\n",
    "                cur_node.next = node(data)\r\n",
    "            else:\r\n",
    "                self.insertTail(data,cur_node.next)\r\n",
    "\r\n",
    "    def print_helper(self, node, name):\r\n",
    "        if node is None:\r\n",
    "            print(name + ':' + ' None')\r\n",
    "        else:\r\n",
    "            print(name + ':' + str(node.data))\r\n",
    "    \r\n",
    "    def reverse(self):\r\n",
    "        pre = None\r\n",
    "        cur = self.head\r\n",
    "        while cur:\r\n",
    "            nxt = cur.next\r\n",
    "            # change the direction of the nodes\r\n",
    "            cur.next = pre\r\n",
    "\r\n",
    "            self.print_helper(pre, \"Prev\")\r\n",
    "            self.print_helper(cur, \"Cur\")\r\n",
    "            self.print_helper(nxt, \"Nxt\")\r\n",
    "            print('\\n')\r\n",
    "\r\n",
    "            # shifting the nodes\r\n",
    "            pre = cur\r\n",
    "            cur = nxt\r\n",
    "        # update head\r\n",
    "        self.head = pre\r\n",
    "\r\n",
    "    def insertNodeAt(self,data,position):\r\n",
    "        new_node = node(data)\r\n",
    "        cur = self.head\r\n",
    "        count = 0\r\n",
    "        while cur:\r\n",
    "            count += 1\r\n",
    "            if count == position:\r\n",
    "                new_node.next = cur.next\r\n",
    "                cur.next = new_node\r\n",
    "                break\r\n",
    "            cur = cur.next\r\n",
    "    \r\n",
    "    def removeNode(self,data_remove):\r\n",
    "        cur = self.head\r\n",
    "        pre = None\r\n",
    "        while cur:\r\n",
    "            if cur.data == data_remove:\r\n",
    "                pre.next = cur.next\r\n",
    "                cur = pre.next\r\n",
    "            pre = cur\r\n",
    "            cur = cur.next\r\n",
    "\r\n",
    "    def removeHead(self):\r\n",
    "        cur = self.head\r\n",
    "        self.head = cur.next\r\n",
    "\r\n",
    "    def removeTail(self):\r\n",
    "        cur = self.head\r\n",
    "        while cur.next.next:\r\n",
    "            cur = cur.next\r\n",
    "        cur.next = None"
   ],
   "outputs": [],
   "metadata": {}
  },
  {
   "cell_type": "code",
   "execution_count": 44,
   "source": [
    "a = linkedlist()\r\n",
    "for i in range(1,10):\r\n",
    "    a.insertHead(i)\r\n",
    "\r\n",
    "a.insertTail(10000)\r\n",
    "a.removeNode(6)\r\n",
    "a.removeHead()\r\n",
    "a.removeTail()\r\n",
    "cur = a.head\r\n",
    "# print(cur)\r\n",
    "while cur:\r\n",
    "    print(cur.data)\r\n",
    "    cur = cur.next"
   ],
   "outputs": [
    {
     "output_type": "stream",
     "name": "stdout",
     "text": [
      "8\n",
      "7\n",
      "5\n",
      "4\n",
      "3\n",
      "2\n",
      "1\n"
     ]
    }
   ],
   "metadata": {}
  },
  {
   "cell_type": "code",
   "execution_count": 11,
   "source": [
    "a.removeNode(6)"
   ],
   "outputs": [],
   "metadata": {}
  },
  {
   "cell_type": "code",
   "execution_count": 22,
   "source": [
    "x = linkedlist()"
   ],
   "outputs": [],
   "metadata": {}
  },
  {
   "cell_type": "code",
   "execution_count": 28,
   "source": [
    "x.insertHead(10)\r\n",
    "x.insertHead(20)\r\n",
    "x.insertHead(30)"
   ],
   "outputs": [],
   "metadata": {}
  },
  {
   "cell_type": "code",
   "execution_count": 29,
   "source": [
    "x.insertTail(40)"
   ],
   "outputs": [],
   "metadata": {}
  },
  {
   "cell_type": "code",
   "execution_count": 34,
   "source": [
    "x.head.next.next.next.next.data"
   ],
   "outputs": [
    {
     "output_type": "error",
     "ename": "AttributeError",
     "evalue": "'NoneType' object has no attribute 'data'",
     "traceback": [
      "\u001b[1;31m---------------------------------------------------------------------------\u001b[0m",
      "\u001b[1;31mAttributeError\u001b[0m                            Traceback (most recent call last)",
      "\u001b[1;32m<ipython-input-34-c5e1e670c1d6>\u001b[0m in \u001b[0;36m<module>\u001b[1;34m\u001b[0m\n\u001b[1;32m----> 1\u001b[1;33m \u001b[0mx\u001b[0m\u001b[1;33m.\u001b[0m\u001b[0mhead\u001b[0m\u001b[1;33m.\u001b[0m\u001b[0mnext\u001b[0m\u001b[1;33m.\u001b[0m\u001b[0mnext\u001b[0m\u001b[1;33m.\u001b[0m\u001b[0mnext\u001b[0m\u001b[1;33m.\u001b[0m\u001b[0mnext\u001b[0m\u001b[1;33m.\u001b[0m\u001b[0mdata\u001b[0m\u001b[1;33m\u001b[0m\u001b[1;33m\u001b[0m\u001b[0m\n\u001b[0m",
      "\u001b[1;31mAttributeError\u001b[0m: 'NoneType' object has no attribute 'data'"
     ]
    }
   ],
   "metadata": {}
  },
  {
   "cell_type": "code",
   "execution_count": 5,
   "source": [
    "y = x.head"
   ],
   "outputs": [],
   "metadata": {}
  },
  {
   "cell_type": "code",
   "execution_count": 6,
   "source": [
    "y = y.next.next"
   ],
   "outputs": [
    {
     "output_type": "error",
     "ename": "AttributeError",
     "evalue": "'NoneType' object has no attribute 'next'",
     "traceback": [
      "\u001b[1;31m---------------------------------------------------------------------------\u001b[0m",
      "\u001b[1;31mAttributeError\u001b[0m                            Traceback (most recent call last)",
      "\u001b[1;32m<ipython-input-6-73631020f621>\u001b[0m in \u001b[0;36m<module>\u001b[1;34m\u001b[0m\n\u001b[1;32m----> 1\u001b[1;33m \u001b[0my\u001b[0m \u001b[1;33m=\u001b[0m \u001b[0my\u001b[0m\u001b[1;33m.\u001b[0m\u001b[0mnext\u001b[0m\u001b[1;33m.\u001b[0m\u001b[0mnext\u001b[0m\u001b[1;33m\u001b[0m\u001b[1;33m\u001b[0m\u001b[0m\n\u001b[0m",
      "\u001b[1;31mAttributeError\u001b[0m: 'NoneType' object has no attribute 'next'"
     ]
    }
   ],
   "metadata": {}
  },
  {
   "cell_type": "code",
   "execution_count": 81,
   "source": [
    "y.next = node(50)"
   ],
   "outputs": [],
   "metadata": {}
  },
  {
   "cell_type": "code",
   "execution_count": 74,
   "source": [
    "x.head.next.next = node(40)"
   ],
   "outputs": [],
   "metadata": {}
  },
  {
   "cell_type": "code",
   "execution_count": 82,
   "source": [
    "x.head.next.next.next.data"
   ],
   "outputs": [
    {
     "output_type": "execute_result",
     "data": {
      "text/plain": [
       "50"
      ]
     },
     "metadata": {},
     "execution_count": 82
    }
   ],
   "metadata": {}
  },
  {
   "cell_type": "code",
   "execution_count": 86,
   "source": [
    "z = node(45)\r\n",
    "z.next = y.next"
   ],
   "outputs": [],
   "metadata": {}
  },
  {
   "cell_type": "code",
   "execution_count": 92,
   "source": [
    "z.next.data\r\n",
    "y.next.data"
   ],
   "outputs": [
    {
     "output_type": "execute_result",
     "data": {
      "text/plain": [
       "50"
      ]
     },
     "metadata": {},
     "execution_count": 92
    }
   ],
   "metadata": {}
  },
  {
   "cell_type": "code",
   "execution_count": 93,
   "source": [
    "y.next = z"
   ],
   "outputs": [],
   "metadata": {}
  },
  {
   "cell_type": "code",
   "execution_count": 94,
   "source": [
    "x.head.next.next.next.data"
   ],
   "outputs": [
    {
     "output_type": "execute_result",
     "data": {
      "text/plain": [
       "45"
      ]
     },
     "metadata": {},
     "execution_count": 94
    }
   ],
   "metadata": {}
  },
  {
   "cell_type": "code",
   "execution_count": 95,
   "source": [
    "x.head.next.next.next.next.data"
   ],
   "outputs": [
    {
     "output_type": "execute_result",
     "data": {
      "text/plain": [
       "50"
      ]
     },
     "metadata": {},
     "execution_count": 95
    }
   ],
   "metadata": {}
  },
  {
   "cell_type": "code",
   "execution_count": 99,
   "source": [
    "y.next.next.next = node(60)"
   ],
   "outputs": [],
   "metadata": {}
  },
  {
   "cell_type": "code",
   "execution_count": 100,
   "source": [
    "x.head.next.next.next.next.next.data"
   ],
   "outputs": [
    {
     "output_type": "execute_result",
     "data": {
      "text/plain": [
       "60"
      ]
     },
     "metadata": {},
     "execution_count": 100
    }
   ],
   "metadata": {}
  },
  {
   "cell_type": "code",
   "execution_count": 102,
   "source": [
    "y.next = node(42)"
   ],
   "outputs": [],
   "metadata": {}
  },
  {
   "cell_type": "code",
   "execution_count": 109,
   "source": [
    "x.head.next.next.next.data"
   ],
   "outputs": [
    {
     "output_type": "execute_result",
     "data": {
      "text/plain": [
       "42"
      ]
     },
     "metadata": {},
     "execution_count": 109
    }
   ],
   "metadata": {}
  },
  {
   "cell_type": "code",
   "execution_count": 108,
   "source": [
    "y = node(41)"
   ],
   "outputs": [],
   "metadata": {}
  },
  {
   "cell_type": "code",
   "execution_count": 116,
   "source": [
    "x.head.next.next.next.data"
   ],
   "outputs": [
    {
     "output_type": "execute_result",
     "data": {
      "text/plain": [
       "42"
      ]
     },
     "metadata": {},
     "execution_count": 116
    }
   ],
   "metadata": {}
  },
  {
   "cell_type": "code",
   "execution_count": 113,
   "source": [
    "y.next = node(45)"
   ],
   "outputs": [],
   "metadata": {}
  },
  {
   "cell_type": "code",
   "execution_count": null,
   "source": [],
   "outputs": [],
   "metadata": {}
  }
 ],
 "metadata": {
  "interpreter": {
   "hash": "fcea7bec55ff6d7f3b1107f41f074eaa5711bec3d5478eb754b653bcca62ae21"
  },
  "kernelspec": {
   "name": "python3",
   "display_name": "Python 3.9.5 64-bit (windows store)"
  },
  "language_info": {
   "name": "python",
   "version": "3.9.5",
   "mimetype": "text/x-python",
   "codemirror_mode": {
    "name": "ipython",
    "version": 3
   },
   "pygments_lexer": "ipython3",
   "nbconvert_exporter": "python",
   "file_extension": ".py"
  },
  "orig_nbformat": 4
 },
 "nbformat": 4,
 "nbformat_minor": 2
}