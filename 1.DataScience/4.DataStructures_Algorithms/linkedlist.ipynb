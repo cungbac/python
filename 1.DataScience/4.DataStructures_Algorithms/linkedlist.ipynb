{
 "metadata": {
  "language_info": {
   "codemirror_mode": {
    "name": "ipython",
    "version": 3
   },
   "file_extension": ".py",
   "mimetype": "text/x-python",
   "name": "python",
   "nbconvert_exporter": "python",
   "pygments_lexer": "ipython3",
   "version": "3.9.5"
  },
  "orig_nbformat": 4,
  "kernelspec": {
   "name": "python3",
   "display_name": "Python 3.9.5 64-bit ('PythonSoftwareFoundation.Python.3.9_qbz5n2kfra8p0')"
  },
  "interpreter": {
   "hash": "3a8eb5b4756616b8e0633077df4d799c8eda3f4883752b4165209be8e5ba9d4a"
  }
 },
 "nbformat": 4,
 "nbformat_minor": 2,
 "cells": [
  {
   "cell_type": "code",
   "execution_count": 14,
   "metadata": {},
   "outputs": [],
   "source": [
    "class node:\n",
    "    def __init__(self,data = None):\n",
    "        self.data = data\n",
    "        self.next = None\n",
    "\n",
    "class linkedlist:\n",
    "    def __init__(self):\n",
    "        self.head = None\n",
    "    \n",
    "    def insertHead(self,data):\n",
    "        new_node = node(data)\n",
    "        new_node.next = self.head\n",
    "        self.head = new_node\n",
    "\n",
    "    def print(self):\n",
    "        if self.head == None:\n",
    "            print(\"Linked list is empty\")\n",
    "        \n",
    "        cur = self.head\n",
    "        llstr = ''\n",
    "\n",
    "        while cur:\n",
    "            llstr += str(cur.data) + ' --> '\n",
    "            cur = cur.next\n",
    "        print(llstr)\n",
    "    \n",
    "    def length(self):\n",
    "        count = 0\n",
    "        cur = self.head\n",
    "        while cur:\n",
    "            count += 1\n",
    "            cur = cur.next\n",
    "        return count\n",
    "    \n",
    "    # def insertTail(self,data):\n",
    "    #     new_node = node(data)\n",
    "    #     if self.head == None:\n",
    "    #         self.head = new_node\n",
    "    #     cur = self.head\n",
    "    #     while cur.next:\n",
    "    #         cur = cur.next\n",
    "    #     cur.next = new_node\n",
    "\n",
    "    def insertTail(self,data,cur_node): # using recursion\n",
    "        if self.head == None:\n",
    "            self.head = node(data)\n",
    "        else:\n",
    "            if cur_node.next == None:\n",
    "                cur_node.next = node(data)\n",
    "            else:\n",
    "                self.insertTail(data,cur_node.next)\n",
    "\n",
    "    def print_helper(self, node, name):\n",
    "        if node is None:\n",
    "            print(name + ':' + ' None')\n",
    "        else:\n",
    "            print(name + ':' + str(node.data))\n",
    "    \n",
    "    def reverse(self):\n",
    "        pre = None\n",
    "        cur = self.head\n",
    "        while cur:\n",
    "            nxt = cur.next\n",
    "            # change the direction of the nodes\n",
    "            cur.next = pre\n",
    "\n",
    "            self.print_helper(pre, \"Prev\")\n",
    "            self.print_helper(cur, \"Cur\")\n",
    "            self.print_helper(nxt, \"Nxt\")\n",
    "            print('\\n')\n",
    "\n",
    "            # shifting the nodes\n",
    "            pre = cur\n",
    "            cur = nxt\n",
    "        # update head\n",
    "        self.head = pre\n",
    "\n",
    "    def insertNodeAt(self,data,position):\n",
    "        new_node = node(data)\n",
    "        cur = self.head\n",
    "        count = 0\n",
    "        while cur:\n",
    "            count += 1\n",
    "            if count == position:\n",
    "                new_node.next = cur.next\n",
    "                cur.next = new_node\n",
    "                break\n",
    "            cur = cur.next"
   ]
  },
  {
   "cell_type": "code",
   "execution_count": 15,
   "metadata": {},
   "outputs": [],
   "source": [
    "a = linkedlist()"
   ]
  },
  {
   "cell_type": "code",
   "execution_count": 16,
   "metadata": {},
   "outputs": [],
   "source": [
    "for i in range(1,10):\n",
    "    a.insertHead(i)\n",
    "\n",
    "a.insertTail(10000,a.head)"
   ]
  },
  {
   "cell_type": "code",
   "execution_count": 17,
   "metadata": {
    "tags": []
   },
   "outputs": [
    {
     "output_type": "stream",
     "name": "stdout",
     "text": [
      "9\n8\n7\n6\n5\n4\n3\n2\n1\n10000\n"
     ]
    }
   ],
   "source": [
    "cur = a.head\n",
    "# print(cur)\n",
    "while cur:\n",
    "    print(cur.data)\n",
    "    cur = cur.next"
   ]
  },
  {
   "source": [
    "a.reverse()"
   ],
   "cell_type": "code",
   "metadata": {},
   "execution_count": 367,
   "outputs": [
    {
     "output_type": "stream",
     "name": "stdout",
     "text": [
      "Prev: None\nCur:9\nNxt:8\n\n\nPrev:9\nCur:8\nNxt:7\n\n\nPrev:8\nCur:7\nNxt:6\n\n\nPrev:7\nCur:6\nNxt:5\n\n\nPrev:6\nCur:5\nNxt:4\n\n\nPrev:5\nCur:4\nNxt:3\n\n\nPrev:4\nCur:3\nNxt:2\n\n\nPrev:3\nCur:2\nNxt:1\n\n\nPrev:2\nCur:1\nNxt:10000\n\n\nPrev:1\nCur:10000\nNxt: None\n\n\n"
     ]
    }
   ]
  },
  {
   "cell_type": "code",
   "execution_count": 385,
   "metadata": {},
   "outputs": [],
   "source": [
    "a.insertNodeAt(999,3)"
   ]
  },
  {
   "cell_type": "code",
   "execution_count": null,
   "metadata": {},
   "outputs": [],
   "source": []
  }
 ]
}