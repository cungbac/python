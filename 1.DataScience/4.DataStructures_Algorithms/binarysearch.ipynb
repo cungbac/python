{
 "cells": [
  {
   "cell_type": "code",
   "execution_count": 20,
   "metadata": {},
   "outputs": [],
   "source": [
    "from random import randint"
   ]
  },
  {
   "cell_type": "code",
   "execution_count": 21,
   "metadata": {},
   "outputs": [],
   "source": [
    "\r\n",
    "def binary_search(sequence,item):\r\n",
    "    begin_index = 0\r\n",
    "    end_index = len(sequence) - 1\r\n",
    "\r\n",
    "    while begin_index <= end_index:\r\n",
    "        midpoint = begin_index + (end_index - begin_index) // 2\r\n",
    "        midpoint_value = sequence[midpoint]\r\n",
    "        if midpoint_value == item:\r\n",
    "            return midpoint\r\n",
    "        elif item < midpoint_value:\r\n",
    "            end_index = midpoint - 1\r\n",
    "        else:\r\n",
    "            begin_index = midpoint + 1\r\n",
    "    return None\r\n",
    "\r\n",
    "a = [randint(0,100) for i in range(20)]\r\n",
    "a.sort()\r\n"
   ]
  },
  {
   "cell_type": "code",
   "execution_count": 23,
   "metadata": {},
   "outputs": [],
   "source": [
    "binary_search(a,66)"
   ]
  }
 ],
 "metadata": {
  "interpreter": {
   "hash": "3a8eb5b4756616b8e0633077df4d799c8eda3f4883752b4165209be8e5ba9d4a"
  },
  "kernelspec": {
   "display_name": "Python 3.9.5 64-bit ('PythonSoftwareFoundation.Python.3.9_qbz5n2kfra8p0')",
   "name": "python3"
  },
  "language_info": {
   "codemirror_mode": {
    "name": "ipython",
    "version": 3
   },
   "file_extension": ".py",
   "mimetype": "text/x-python",
   "name": "python",
   "nbconvert_exporter": "python",
   "pygments_lexer": "ipython3",
   "version": "3.9.5"
  },
  "orig_nbformat": 4
 },
 "nbformat": 4,
 "nbformat_minor": 2
}