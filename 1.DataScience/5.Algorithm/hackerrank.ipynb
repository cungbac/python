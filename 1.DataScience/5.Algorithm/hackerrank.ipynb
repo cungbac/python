{
 "metadata": {
  "language_info": {
   "codemirror_mode": {
    "name": "ipython",
    "version": 3
   },
   "file_extension": ".py",
   "mimetype": "text/x-python",
   "name": "python",
   "nbconvert_exporter": "python",
   "pygments_lexer": "ipython3",
   "version": "3.9.5"
  },
  "orig_nbformat": 2,
  "kernelspec": {
   "name": "python3",
   "display_name": "Python 3.9.5 64-bit (windows store)"
  },
  "metadata": {
   "interpreter": {
    "hash": "fcea7bec55ff6d7f3b1107f41f074eaa5711bec3d5478eb754b653bcca62ae21"
   }
  },
  "interpreter": {
   "hash": "fcea7bec55ff6d7f3b1107f41f074eaa5711bec3d5478eb754b653bcca62ae21"
  }
 },
 "nbformat": 4,
 "nbformat_minor": 2,
 "cells": [
  {
   "cell_type": "code",
   "execution_count": null,
   "metadata": {},
   "outputs": [],
   "source": [
    "def check_character(string):\n",
    "    flag = False\n",
    "    for i in string:\n",
    "        ascii_num = ord(i)\n",
    "        if 65 <= ascii_num <= 90 or 97 <= ascii_num <= 122:\n",
    "            flag = True\n",
    "    return flag\n",
    "\n",
    "def check_digit(string):\n",
    "    flag = False\n",
    "    for i in string:\n",
    "        ascii_num = ord(i)\n",
    "        if 48 <= ascii_num <= 57:\n",
    "            flag = True\n",
    "    return flag\n",
    "\n",
    "def check_lower(string):\n",
    "    flag = False\n",
    "    for i in string:\n",
    "        ascii_num = ord(i)\n",
    "        if 97 <= ascii_num <= 122:\n",
    "            flag = True\n",
    "    return flag\n",
    "\n",
    "def check_upper(string):\n",
    "    flag = False\n",
    "    for i in string:\n",
    "        ascii_num = ord(i)\n",
    "        if 65 <= ascii_num <= 90:\n",
    "            flag = True\n",
    "    return flag"
   ]
  },
  {
   "cell_type": "code",
   "execution_count": null,
   "metadata": {},
   "outputs": [],
   "source": [
    "def count_substring(string, sub_string):\n",
    "    step = len(substring)\n",
    "    count = 0\n",
    "    for i in range(len(string)):\n",
    "        string_check = str(string[i:step+i])\n",
    "        if len(string_check) < step:\n",
    "            break\n",
    "        if substring == string_check:\n",
    "            count += 1\n",
    "    return count"
   ]
  },
  {
   "cell_type": "code",
   "execution_count": 8,
   "metadata": {},
   "outputs": [],
   "source": [
    "x = 2\n",
    "y = 2\n",
    "z = 2\n",
    "n = 2\n",
    "lst = []\n",
    "for i in range(x + 1):\n",
    "    for j in range(y + 1):\n",
    "        for k in range(z + 1):\n",
    "            new_lst = [i,j,k]\n",
    "            sum_lst = sum(new_lst)\n",
    "            if sum_lst != n:\n",
    "                lst.append(new_lst)"
   ]
  },
  {
   "cell_type": "code",
   "execution_count": 16,
   "metadata": {},
   "outputs": [],
   "source": [
    "\n",
    "def runnerup(arr):\n",
    "    max_arr = max(arr)\n",
    "    arr_runner_up = [i for i in arr if i != max_arr]\n",
    "    runner_up = max(arr_runner_up)\n",
    "    return runner_up"
   ]
  },
  {
   "cell_type": "code",
   "execution_count": 33,
   "metadata": {},
   "outputs": [
    {
     "output_type": "stream",
     "name": "stdout",
     "text": [
      "Berry\nHarry\n"
     ]
    }
   ],
   "source": [
    "students = [['Harry', 37.21], ['Berry', 37.21], ['Tina', 37.2], ['Akriti', 41], ['Harsh', 39]]\n",
    "\n",
    "min_grade = min([student[1] for student in students])\n",
    "\n",
    "second_lowest_grade = min([i for i in [student[1] for student in students] if i != min([student[1] for student in students])])\n",
    "\n",
    "lst = []\n",
    "for student in students:\n",
    "    if student[1] == second_lowest_grade:\n",
    "        lst.append(student[0])\n",
    "lst.sort()\n",
    "\n",
    "for i in lst:\n",
    "    print(i)"
   ]
  },
  {
   "cell_type": "code",
   "execution_count": 49,
   "metadata": {},
   "outputs": [
    {
     "output_type": "stream",
     "name": "stdout",
     "text": [
      "[2, 3, 4, 1]\n"
     ]
    }
   ],
   "source": [
    "# Reverse Array\n",
    "def reverseArray(a):\n",
    "    lst = []\n",
    "    for i in range(len(a)-1,-1,-1):\n",
    "        lst.append(a[i])\n",
    "    return lst\n",
    "a = [1,4,3,2]\n",
    "print(reverseArray(a))"
   ]
  },
  {
   "cell_type": "code",
   "execution_count": 131,
   "metadata": {},
   "outputs": [],
   "source": [
    "\n",
    "# Hourglass\n",
    "a = [[-1,-1,0,-9,-2,-2],[-2,-1,-6,-8,-2,-5],[-1,-1,-1,-2,-3,-4],[-1,-9,-2,-4,-4,-5],[-7,-3,-3,-2,-9,-9],[-1,-3,-1,-2,-4,-5]]\n",
    "\n",
    "def hourglassSum(arr):\n",
    "    lst = []\n",
    "    l1 = []\n",
    "    for idx_i in range(0,len(arr) - 2):\n",
    "        for idx_j in range(0,len(arr) - 2):\n",
    "            for i in range(idx_i, idx_i + 3):\n",
    "                for j in range(idx_j, idx_j + 3):\n",
    "                    temp = arr[i][j]\n",
    "                    l1.append(temp)\n",
    "            lst.append(l1)\n",
    "            l1 = []\n",
    "    \n",
    "    max = -54\n",
    "    for i in range(len(lst)):\n",
    "        r1 = lst[i][:3]\n",
    "        r2 = lst[i][4]\n",
    "        r3 = lst[i][6:]\n",
    "    \n",
    "        sum_hourglass = sum(r1) + r2 + sum(r3)\n",
    "\n",
    "        if sum_hourglass > max:\n",
    "            max = sum_hourglass\n",
    "\n",
    "    return max"
   ]
  },
  {
   "cell_type": "code",
   "execution_count": 135,
   "metadata": {},
   "outputs": [
    {
     "output_type": "execute_result",
     "data": {
      "text/plain": [
       "float"
      ]
     },
     "metadata": {},
     "execution_count": 135
    }
   ],
   "source": [
    "x = 3.3\n",
    "type(x)"
   ]
  },
  {
   "cell_type": "code",
   "execution_count": 24,
   "metadata": {},
   "outputs": [],
   "source": [
    "def process_lst(a):\n",
    "    lst = []\n",
    "    if a[0] == 'print':\n",
    "        print(lst)\n",
    "    if a[0] == 'insert':\n",
    "        lst.insert(int(a[1]),int(a[2]))\n",
    "    if a[0] == 'append':\n",
    "        lst.append(a[1])\n",
    "    if a[0] == 'pop':\n",
    "        lst.pop()\n",
    "    if a[0] == 'sort':\n",
    "        lst.sort()\n",
    "    if a[0] == 'reverse':\n",
    "        lst.reverse()\n",
    "    return lst"
   ]
  },
  {
   "cell_type": "code",
   "execution_count": null,
   "metadata": {},
   "outputs": [],
   "source": [
    "\n",
    "lst = []\n",
    "n = int(input())\n",
    "for i in range(n):\n",
    "    a = input().split(' ')\n",
    "    if a[0] == 'insert':\n",
    "        lst.insert(int(a[1]),int(a[2]))\n",
    "    elif a[0] == 'append':\n",
    "        lst.append(int(a[1]))\n",
    "    elif a[0] == 'pop':\n",
    "        lst.pop()\n",
    "    elif a[0] == 'remove':\n",
    "        lst.remove(int(a[1]))\n",
    "    elif a[0] == 'sort':\n",
    "        lst.sort()\n",
    "    elif a[0] == 'reverse':\n",
    "        lst.reverse()\n",
    "    elif a[0] == 'print':\n",
    "        print(lst)"
   ]
  },
  {
   "cell_type": "code",
   "execution_count": 51,
   "metadata": {},
   "outputs": [],
   "source": [
    "a = 'HackerRank.com presents \"Pythonist 2\".'\n",
    "def swap_case(s):\n",
    "    b = ''\n",
    "    for i in s:\n",
    "        if i.isupper():\n",
    "            b = b + i.lower()\n",
    "        elif i.lower():\n",
    "            b = b + i.upper()\n",
    "    return b\n"
   ]
  },
  {
   "cell_type": "code",
   "execution_count": null,
   "metadata": {},
   "outputs": [],
   "source": [
    "n = int(input())\n",
    "student_marks = {}\n",
    "for _ in range(n):\n",
    "    name, *line = input().split()\n",
    "    scores = list(map(float, line))\n",
    "    student_marks[name] = scores\n",
    "query_name = input()\n",
    "\n",
    "for student, mark in student_marks.items():\n",
    "    if student == query_name:\n",
    "        avg_score = round(float(sum(mark)/len(mark)),2)\n",
    "\n",
    "print(format(avg_score,'.2f'))"
   ]
  },
  {
   "cell_type": "code",
   "execution_count": 90,
   "metadata": {},
   "outputs": [],
   "source": [
    "a = 'chris alan'\n",
    "\n",
    "def solve(s):\n",
    "    s = s.split(' ')\n",
    "    c = ''\n",
    "    for i in range(len(s)):\n",
    "        b = ''\n",
    "        for j in range(len(s[i])):\n",
    "            if j == 0:\n",
    "                b = b + s[i][j].upper()\n",
    "            else:\n",
    "                b = b + s[i][j]\n",
    "        if i == 0:\n",
    "            c = c + b\n",
    "        else:\n",
    "            c = c + ' ' + b\n",
    "    return c"
   ]
  },
  {
   "cell_type": "code",
   "execution_count": 68,
   "metadata": {},
   "outputs": [
    {
     "output_type": "stream",
     "name": "stdout",
     "text": [
      "1   1   1   1\n2   2   2   10\n3   3   3   11\n4   4   4   100\n5   5   5   101\n6   6   6   110\n7   7   7   111\n8   10   8   1000\n9   11   9   1001\n10   12   A   1010\n11   13   B   1011\n12   14   C   1100\n13   15   D   1101\n14   16   E   1110\n15   17   F   1111\n16   20   10   10000\n17   21   11   10001\n"
     ]
    }
   ],
   "source": [
    "a = 17\n",
    "lst = []\n",
    "\n",
    "def get_oct_hex_bin(m):\n",
    "    temp = m[2:]\n",
    "    try:\n",
    "        n = int(''.join(temp))\n",
    "    except:\n",
    "        n = ''.join(temp)\n",
    "        n = n.upper()\n",
    "    return n\n",
    "\n",
    "def print_formatted(number):\n",
    "    for i in range(1, number + 1):\n",
    "        oct_num = get_oct_hex_bin(oct(i))\n",
    "        hex_num = get_oct_hex_bin(hex(i))\n",
    "        bin_num = get_oct_hex_bin(bin(i))\n",
    "    \n",
    "        print(i,' ',oct_num,' ', hex_num,' ', bin_num)\n",
    "\n",
    "print_formatted(a)\n"
   ]
  },
  {
   "cell_type": "code",
   "execution_count": 107,
   "metadata": {},
   "outputs": [],
   "source": [
    "def rotateLeft(d, arr):\n",
    "    head = arr[d:]\n",
    "    tail = arr[:d]\n",
    "    return head + tail"
   ]
  },
  {
   "cell_type": "code",
   "execution_count": 152,
   "metadata": {},
   "outputs": [],
   "source": [
    "def reverse(llist):\n",
    "    prev, cur = None, None\n",
    "    while llist:\n",
    "        cur = llist.next\n",
    "        llist.next = prev\n",
    "        prev = llist\n",
    "        llist = cur\n",
    "    return prev\n"
   ]
  },
  {
   "cell_type": "code",
   "execution_count": 7,
   "metadata": {},
   "outputs": [],
   "source": [
    "def nextmultiple5(n):\n",
    "    i = n\n",
    "    while True:\n",
    "        i = i + 1\n",
    "        if i % 5  == 0:\n",
    "            break\n",
    "    return i\n",
    "\n",
    "def gradingStudents(grades):\n",
    "    next = [nextmultiple5(i) for i in grades]\n",
    "    result = []\n",
    "    for i in range(len(grades)):\n",
    "        if next[i] < 40 or next[i] - grades[i] >= 3:\n",
    "            result.append(grades[i])\n",
    "        elif next[i] - grades[i] < 3:\n",
    "            result.append(next[i])\n",
    "    return result"
   ]
  },
  {
   "cell_type": "code",
   "execution_count": 31,
   "metadata": {},
   "outputs": [],
   "source": [
    "a = [10, 20, 20, 10, 10, 30, 50, 10, 20]\n",
    "\n",
    "def sockMerchant(n, ar):\n",
    "    b = []\n",
    "    for i in range(n):\n",
    "        if ar[i] not in b:\n",
    "            b.append(ar[i])\n",
    "    \n",
    "    c = []\n",
    "    for i in b:\n",
    "        c.append(ar.count(i))\n",
    "\n",
    "    pairs = 0\n",
    "    for i in c:\n",
    "        if i % 2 == 0:\n",
    "            pairs += i / 2\n",
    "        elif i % 2 == 1 and i > 1:\n",
    "            pairs += i // 2\n",
    "    \n",
    "    return int(pairs)"
   ]
  },
  {
   "cell_type": "code",
   "execution_count": 45,
   "metadata": {},
   "outputs": [],
   "source": [
    "def birthday(s, d, m):\n",
    "    count = 0\n",
    "    for i in range(len(s)-m+1):\n",
    "        c = []\n",
    "        for j in range(i,i+m):\n",
    "            c.append(s[j])\n",
    "        if sum(c) == d:\n",
    "            count += 1\n",
    "    return count"
   ]
  },
  {
   "cell_type": "code",
   "execution_count": 1,
   "metadata": {},
   "outputs": [],
   "source": [
    "class node:\n",
    "    def __init__(self,data = None, next = None):\n",
    "        self.data = data\n",
    "        self.next = next\n",
    "\n",
    "class linkedlist:\n",
    "    def __init__(self):\n",
    "        self.head = None\n",
    "        self.tail = None\n",
    "\n",
    "    def insertHead(self,data):\n",
    "        p = node(data)\n",
    "        if self.head == None:\n",
    "            self.head = p\n",
    "        else:\n",
    "            cur = self.head\n",
    "            self.head = p\n",
    "            self.head.next = cur\n",
    "\n",
    "    def insertTail(self,data):\n",
    "        p = node(data)\n",
    "        cur = self.head\n",
    "        if cur == None:\n",
    "            self.head = p\n",
    "        while cur.next:\n",
    "            cur = cur.next\n",
    "        cur.next = node(data,None)\n",
    "\n",
    "def printLinkedList(head):\n",
    "    cur = head\n",
    "    while cur:\n",
    "        print(cur.data)\n",
    "        cur = cur.next"
   ]
  },
  {
   "cell_type": "code",
   "execution_count": 39,
   "metadata": {},
   "outputs": [],
   "source": [
    "a = [1,2,3,4,5]\n",
    "b = linkedlist()"
   ]
  },
  {
   "cell_type": "code",
   "execution_count": 40,
   "metadata": {},
   "outputs": [],
   "source": [
    "for i in a:\n",
    "    b.insertHead(i)"
   ]
  },
  {
   "cell_type": "code",
   "execution_count": 50,
   "metadata": {},
   "outputs": [
    {
     "output_type": "stream",
     "name": "stdout",
     "text": [
      "0 - 5\n1 - 4\n2 - 3\n3 - 2\n4 - 1\nCurrent is:  1000\n"
     ]
    }
   ],
   "source": [
    "cur = b.head\n",
    "i = 0\n",
    "while cur.next:\n",
    "    print(i,'-',cur.data)\n",
    "    i += 1\n",
    "    cur = cur.next\n",
    "print('Current is: ',cur.data)"
   ]
  },
  {
   "cell_type": "code",
   "execution_count": 28,
   "metadata": {},
   "outputs": [],
   "source": [
    "x1 = 0\n",
    "v1 = 3\n",
    "x2 = 4\n",
    "v2 = 2\n",
    "def kangaroo(x1, v1, x2, v2):\n",
    "    flag = 'NO'\n",
    "    i = 1\n",
    "    while i <= 10000:\n",
    "        if x1 + i*v1 == x2 + i*v2:\n",
    "            flag = 'YES'\n",
    "            break\n",
    "        i += 1\n",
    "    return flag\n"
   ]
  },
  {
   "cell_type": "code",
   "execution_count": 13,
   "metadata": {},
   "outputs": [],
   "source": [
    "s = 7\n",
    "t = 11\n",
    "a = 5\n",
    "b = 15\n",
    "m = 3\n",
    "n = 2\n",
    "apples = [-2,2,1]\n",
    "orranges = [5,-6]\n",
    "\n",
    "def countApplesAndOranges(s, t, a, b, apples, oranges):\n",
    "    count_apples = 0\n",
    "    for apple in apples:\n",
    "        if (a + apple) in range(s,t+1):\n",
    "            count_apples += 1\n",
    "    count_oranges = 0\n",
    "    for orange in oranges:\n",
    "        if (b + orange) in range(s,t+1):\n",
    "            count_oranges += 1\n",
    "    print(count_apples)\n",
    "    print(count_oranges)"
   ]
  },
  {
   "cell_type": "code",
   "execution_count": 59,
   "metadata": {},
   "outputs": [
    {
     "output_type": "stream",
     "name": "stdout",
     "text": [
      "------------.|.------------\n---------.|..|..|.---------\n------.|..|..|..|..|.------\n---.|..|..|..|..|..|..|.---\n----------WELCOME----------\n---.|..|..|..|..|..|..|.---\n------.|..|..|..|..|.------\n---------.|..|..|.---------\n------------.|.------------\n"
     ]
    }
   ],
   "source": [
    "m = 9\n",
    "n = 27\n",
    "center = n // 2\n",
    "center_welcome = (n - len('WELCOME'))//2\n",
    "for i in range(m):\n",
    "    if i < m // 2:\n",
    "        print('-'*(center - 1 - i*3) + '.|.'*(2*i + 1) + '-'*(center-1-i*3))\n",
    "    elif i == m // 2:\n",
    "        print('-'*center_welcome+'WELCOME'+'-'*center_welcome)\n",
    "    else:\n",
    "        print('-'*(center - (m-i)*3 + 2) + '.|.'*(2*(m-i)-1) + '-'*(center - (m-i)*3 + 2))\n"
   ]
  },
  {
   "cell_type": "code",
   "execution_count": 31,
   "metadata": {},
   "outputs": [],
   "source": [
    "def bmi_calculator(weight,height):\n",
    "    bmi = weight / ((height/100)**2)\n",
    "\n",
    "    if bmi < 16:\n",
    "        category = 'Severe Thinness'\n",
    "    elif bmi < 17:\n",
    "        category = 'Moderate Thinness'\n",
    "    elif bmi < 18.5:\n",
    "        category = 'Mid Thinness'\n",
    "    elif bmi < 25:\n",
    "        category = 'Normal'\n",
    "    elif bmi < 30:\n",
    "        category = 'Overweight'\n",
    "    elif bmi < 35:\n",
    "        category = 'Obese Class I'\n",
    "    elif bmi < 40:\n",
    "        category = 'Obese Class II'\n",
    "    else:\n",
    "        category = 'Obese Class III'\n",
    "\n",
    "    return [round(bmi,1),category]\n"
   ]
  },
  {
   "cell_type": "code",
   "execution_count": 30,
   "metadata": {},
   "outputs": [
    {
     "output_type": "stream",
     "name": "stdout",
     "text": [
      "[20.061728395061728, 'Normal']\n"
     ]
    }
   ],
   "source": [
    "weight = float(input())\n",
    "height = float(input())\n",
    "\n",
    "print(bmi_calculator(weight, height))"
   ]
  },
  {
   "cell_type": "code",
   "execution_count": 32,
   "metadata": {},
   "outputs": [
    {
     "output_type": "stream",
     "name": "stdout",
     "text": [
      "[20.1, 'Normal']\n"
     ]
    }
   ],
   "source": [
    "print(bmi_calculator(weight, height))"
   ]
  },
  {
   "cell_type": "code",
   "execution_count": 55,
   "metadata": {},
   "outputs": [],
   "source": [
    "def nested_for(n,a):\n",
    "    A = []\n",
    "    temp = []\n",
    "    for i in range(n):\n",
    "        for j in range(n):\n",
    "            temp.append(a)\n",
    "        A.append(temp)\n",
    "        a += 1\n",
    "        temp = []\n",
    "    return A\n"
   ]
  },
  {
   "cell_type": "code",
   "execution_count": 59,
   "metadata": {},
   "outputs": [
    {
     "output_type": "stream",
     "name": "stdout",
     "text": [
      "[[2, 2, 2, 2, 2, 2, 2, 2, 2, 2], [3, 3, 3, 3, 3, 3, 3, 3, 3, 3], [4, 4, 4, 4, 4, 4, 4, 4, 4, 4], [5, 5, 5, 5, 5, 5, 5, 5, 5, 5], [6, 6, 6, 6, 6, 6, 6, 6, 6, 6], [7, 7, 7, 7, 7, 7, 7, 7, 7, 7], [8, 8, 8, 8, 8, 8, 8, 8, 8, 8], [9, 9, 9, 9, 9, 9, 9, 9, 9, 9], [10, 10, 10, 10, 10, 10, 10, 10, 10, 10], [11, 11, 11, 11, 11, 11, 11, 11, 11, 11]]\n"
     ]
    }
   ],
   "source": [
    "print(nested_for(10,2))"
   ]
  },
  {
   "cell_type": "code",
   "execution_count": 1,
   "metadata": {},
   "outputs": [],
   "source": [
    "a = list(map(int,input().split()))\n",
    "b = list(map(int,input().split()))\n",
    "\n",
    "c = ((x,y) for x in a for y in b)\n",
    "\n",
    "for i in c:\n",
    "    print(i,end = ' ')"
   ]
  },
  {
   "cell_type": "code",
   "execution_count": 7,
   "metadata": {},
   "outputs": [],
   "source": [
    "n = int(input())\n",
    "a = list(map(int,input().split()))\n",
    "c = int(input())\n",
    "\n",
    "sales = 0\n",
    "\n",
    "for i in range(c):\n",
    "    x, y = map(int,input().split())\n",
    "    if x in a:\n",
    "        sales += y\n",
    "        a.remove(x)\n",
    "\n",
    "print(sales)"
   ]
  },
  {
   "cell_type": "code",
   "execution_count": 51,
   "metadata": {},
   "outputs": [],
   "source": [
    "n = 2\n",
    "lst = []\n",
    "for i in range(n+1):\n",
    "    for j in range(n+1):\n",
    "        for k in range(n+1):\n",
    "            new_lst = [a[i],a[j],a[k]]\n",
    "            if new_lst not in lst:\n",
    "                lst.append(new_lst)"
   ]
  },
  {
   "cell_type": "code",
   "execution_count": 38,
   "metadata": {},
   "outputs": [
    {
     "output_type": "stream",
     "name": "stdout",
     "text": [
      "AB\nAC\nAD\nBA\nBC\nBD\nCA\nCB\nCD\nDA\nDB\nDC\n"
     ]
    }
   ],
   "source": [
    "b = [x+y for x in a for y in a if x != y]\n",
    "b.sort()\n",
    "\n",
    "for i in b:\n",
    "    print(i)"
   ]
  },
  {
   "cell_type": "code",
   "execution_count": 28,
   "metadata": {},
   "outputs": [
    {
     "output_type": "stream",
     "name": "stdout",
     "text": [
      "X\nY\nZ\n"
     ]
    }
   ],
   "source": [
    "from itertools import permutations, combinations\n",
    "\n",
    "lst = input().split()\n",
    "\n",
    "n = int(lst[1])\n",
    "a = list(lst[0])\n",
    "\n",
    "b = list(permutations(a,n))\n",
    "if n > 1:\n",
    "    b = sorted(b,key=lambda x: [x[0],x[1]])\n",
    "else:\n",
    "    b = sorted(b)\n",
    "\n",
    "for i in b:\n",
    "    print(''.join(i))"
   ]
  },
  {
   "cell_type": "code",
   "execution_count": 39,
   "metadata": {},
   "outputs": [
    {
     "output_type": "stream",
     "name": "stdout",
     "text": [
      "A\nB\nC\nD\nAB\nAC\nAD\nBC\nBD\nCD\nABC\nABD\nACD\nBCD\n"
     ]
    }
   ],
   "source": [
    "from itertools import permutations, combinations\n",
    "\n",
    "lst = input().split()\n",
    "\n",
    "n = int(lst[1])\n",
    "a = list(lst[0])\n",
    "a.sort()\n",
    "\n",
    "for i in a:\n",
    "    print(i)\n",
    "for i in range(2,n+1):\n",
    "    b = list(combinations(a,i))\n",
    "    for j in b:\n",
    "        print(''.join(j))"
   ]
  },
  {
   "cell_type": "code",
   "execution_count": 42,
   "metadata": {},
   "outputs": [
    {
     "output_type": "stream",
     "name": "stdout",
     "text": [
      "AA\nAC\nAH\nAK\nCC\nCH\nCK\nHH\nHK\nKK\n"
     ]
    }
   ],
   "source": [
    "from itertools import combinations_with_replacement\n",
    "\n",
    "lst = input().split()\n",
    "\n",
    "n = int(lst[1])\n",
    "a = list(lst[0])\n",
    "a.sort()\n",
    "\n",
    "b = list(combinations_with_replacement(a,n))\n",
    "for i in b:\n",
    "    print(''.join(i))"
   ]
  },
  {
   "cell_type": "code",
   "execution_count": 78,
   "metadata": {},
   "outputs": [
    {
     "output_type": "stream",
     "name": "stdout",
     "text": [
      "1 ['1']\n2 ['2', '2', '2']\n3 ['3']\n1 ['1', '1']\n"
     ]
    }
   ],
   "source": [
    "from itertools import groupby\n",
    "\n",
    "a = input()\n",
    "a = list(a)\n",
    "\n",
    "for key, value in groupby(a):\n",
    "    val = list(value)\n",
    "    length = len(val)\n",
    "    # print((length,int(val[0])),end = ' ')\n",
    "    print(key, val)"
   ]
  },
  {
   "cell_type": "code",
   "execution_count": 91,
   "metadata": {},
   "outputs": [],
   "source": [
    "n = 3\n",
    "x = n*2 - 1\n",
    "y = x*2 - 1\n",
    "A = []\n",
    "temp = []\n",
    "start = 96\n",
    "a = 3\n",
    "for i in range(y):\n",
    "    for j in range(x):\n",
    "        temp.append(chr(start + a))\n",
    "    A.append(temp)\n",
    "    if a > 0:\n",
    "        a -= 1\n",
    "    elif a <\n",
    "    temp = []\n"
   ]
  },
  {
   "cell_type": "code",
   "execution_count": 116,
   "metadata": {},
   "outputs": [],
   "source": [
    "def average_set(array):\n",
    "    set_arr = set(array)\n",
    "    avg = sum(set_arr)/len(set_arr)\n",
    "    return avg\n",
    "\n",
    "x = [161,182,154,176,170,167,171,170,174]\n",
    "average_set(x)"
   ]
  },
  {
   "cell_type": "code",
   "execution_count": 16,
   "metadata": {},
   "outputs": [
    {
     "output_type": "stream",
     "name": "stdout",
     "text": [
      "[('a', 'a'), ('a', 'c'), ('a', 'd'), ('a', 'c'), ('a', 'd'), ('c', 'd')]\n"
     ]
    }
   ],
   "source": [
    "from itertools import permutations, combinations\n",
    "n = 4\n",
    "A = ['a','a','c','d']\n",
    "# A = set(A)\n",
    "k = 2\n",
    "print(list(combinations(A,k)))"
   ]
  },
  {
   "cell_type": "code",
   "execution_count": 20,
   "metadata": {},
   "outputs": [
    {
     "output_type": "stream",
     "name": "stdout",
     "text": [
      "0.8333333333333334\n"
     ]
    }
   ],
   "source": [
    "count = 0\n",
    "for i in list(permutations(A,k)):\n",
    "    if 'a' in i:\n",
    "        count += 1\n",
    "print(count/len(list(permutations(A,k))))"
   ]
  },
  {
   "cell_type": "code",
   "execution_count": 50,
   "metadata": {},
   "outputs": [
    {
     "output_type": "execute_result",
     "data": {
      "text/plain": [
       "[[0, 0, 0, 0, 0, 1, 2],\n",
       " [3, 4, 5, 6, 7, 8, 9],\n",
       " [10, 11, 12, 13, 14, 15, 16],\n",
       " [17, 18, 19, 20, 21, 22, 23],\n",
       " [24, 25, 26, 27, 28, 29, 30],\n",
       " [31, 0, 0, 0, 0, 0, 0]]"
      ]
     },
     "metadata": {},
     "execution_count": 50
    }
   ],
   "source": [
    "import calendar\n",
    "\n",
    "curcal = calendar.monthcalendar(2021,5)\n",
    "curcal"
   ]
  },
  {
   "cell_type": "code",
   "execution_count": 52,
   "metadata": {},
   "outputs": [
    {
     "output_type": "execute_result",
     "data": {
      "text/plain": [
       "'    January 2025\\nTh Fr Sa Su Mo Tu We\\n                   1\\n 2  3  4  5  6  7  8\\n 9 10 11 12 13 14 15\\n16 17 18 19 20 21 22\\n23 24 25 26 27 28 29\\n30 31\\n'"
      ]
     },
     "metadata": {},
     "execution_count": 52
    }
   ],
   "source": [
    "c = calendar.TextCalendar(calendar.THURSDAY)\n",
    "str = c.formatmonth(2025, 1)\n",
    "str"
   ]
  },
  {
   "cell_type": "code",
   "execution_count": null,
   "metadata": {},
   "outputs": [],
   "source": []
  }
 ]
}