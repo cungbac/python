{
 "cells": [
  {
   "cell_type": "code",
   "execution_count": null,
   "source": [
    "def check_character(string):\r\n",
    "    flag = False\r\n",
    "    for i in string:\r\n",
    "        ascii_num = ord(i)\r\n",
    "        if 65 <= ascii_num <= 90 or 97 <= ascii_num <= 122:\r\n",
    "            flag = True\r\n",
    "    return flag\r\n",
    "\r\n",
    "def check_digit(string):\r\n",
    "    flag = False\r\n",
    "    for i in string:\r\n",
    "        ascii_num = ord(i)\r\n",
    "        if 48 <= ascii_num <= 57:\r\n",
    "            flag = True\r\n",
    "    return flag\r\n",
    "\r\n",
    "def check_lower(string):\r\n",
    "    flag = False\r\n",
    "    for i in string:\r\n",
    "        ascii_num = ord(i)\r\n",
    "        if 97 <= ascii_num <= 122:\r\n",
    "            flag = True\r\n",
    "    return flag\r\n",
    "\r\n",
    "def check_upper(string):\r\n",
    "    flag = False\r\n",
    "    for i in string:\r\n",
    "        ascii_num = ord(i)\r\n",
    "        if 65 <= ascii_num <= 90:\r\n",
    "            flag = True\r\n",
    "    return flag"
   ],
   "outputs": [],
   "metadata": {}
  },
  {
   "cell_type": "code",
   "execution_count": null,
   "source": [
    "def count_substring(string, sub_string):\r\n",
    "    step = len(substring)\r\n",
    "    count = 0\r\n",
    "    for i in range(len(string)):\r\n",
    "        string_check = str(string[i:step+i])\r\n",
    "        if len(string_check) < step:\r\n",
    "            break\r\n",
    "        if substring == string_check:\r\n",
    "            count += 1\r\n",
    "    return count"
   ],
   "outputs": [],
   "metadata": {}
  },
  {
   "cell_type": "code",
   "execution_count": 8,
   "source": [
    "x = 2\r\n",
    "y = 2\r\n",
    "z = 2\r\n",
    "n = 2\r\n",
    "lst = []\r\n",
    "for i in range(x + 1):\r\n",
    "    for j in range(y + 1):\r\n",
    "        for k in range(z + 1):\r\n",
    "            new_lst = [i,j,k]\r\n",
    "            sum_lst = sum(new_lst)\r\n",
    "            if sum_lst != n:\r\n",
    "                lst.append(new_lst)"
   ],
   "outputs": [],
   "metadata": {}
  },
  {
   "cell_type": "code",
   "execution_count": 16,
   "source": [
    "\r\n",
    "def runnerup(arr):\r\n",
    "    max_arr = max(arr)\r\n",
    "    arr_runner_up = [i for i in arr if i != max_arr]\r\n",
    "    runner_up = max(arr_runner_up)\r\n",
    "    return runner_up"
   ],
   "outputs": [],
   "metadata": {}
  },
  {
   "cell_type": "code",
   "execution_count": 33,
   "source": [
    "students = [['Harry', 37.21], ['Berry', 37.21], ['Tina', 37.2], ['Akriti', 41], ['Harsh', 39]]\r\n",
    "\r\n",
    "min_grade = min([student[1] for student in students])\r\n",
    "\r\n",
    "second_lowest_grade = min([i for i in [student[1] for student in students] if i != min([student[1] for student in students])])\r\n",
    "\r\n",
    "lst = []\r\n",
    "for student in students:\r\n",
    "    if student[1] == second_lowest_grade:\r\n",
    "        lst.append(student[0])\r\n",
    "lst.sort()\r\n",
    "\r\n",
    "for i in lst:\r\n",
    "    print(i)"
   ],
   "outputs": [
    {
     "output_type": "stream",
     "name": "stdout",
     "text": [
      "Berry\n",
      "Harry\n"
     ]
    }
   ],
   "metadata": {}
  },
  {
   "cell_type": "code",
   "execution_count": 49,
   "source": [
    "# Reverse Array\r\n",
    "def reverseArray(a):\r\n",
    "    lst = []\r\n",
    "    for i in range(len(a)-1,-1,-1):\r\n",
    "        lst.append(a[i])\r\n",
    "    return lst\r\n",
    "a = [1,4,3,2]\r\n",
    "print(reverseArray(a))"
   ],
   "outputs": [
    {
     "output_type": "stream",
     "name": "stdout",
     "text": [
      "[2, 3, 4, 1]\n"
     ]
    }
   ],
   "metadata": {}
  },
  {
   "cell_type": "code",
   "execution_count": 131,
   "source": [
    "\r\n",
    "# Hourglass\r\n",
    "a = [[-1,-1,0,-9,-2,-2],[-2,-1,-6,-8,-2,-5],[-1,-1,-1,-2,-3,-4],[-1,-9,-2,-4,-4,-5],[-7,-3,-3,-2,-9,-9],[-1,-3,-1,-2,-4,-5]]\r\n",
    "\r\n",
    "def hourglassSum(arr):\r\n",
    "    lst = []\r\n",
    "    l1 = []\r\n",
    "    for idx_i in range(0,len(arr) - 2):\r\n",
    "        for idx_j in range(0,len(arr) - 2):\r\n",
    "            for i in range(idx_i, idx_i + 3):\r\n",
    "                for j in range(idx_j, idx_j + 3):\r\n",
    "                    temp = arr[i][j]\r\n",
    "                    l1.append(temp)\r\n",
    "            lst.append(l1)\r\n",
    "            l1 = []\r\n",
    "    \r\n",
    "    max = -81\r\n",
    "    for i in range(len(lst)):\r\n",
    "        r1 = lst[i][:3]\r\n",
    "        r2 = lst[i][4]\r\n",
    "        r3 = lst[i][6:]\r\n",
    "    \r\n",
    "        sum_hourglass = sum(r1) + r2 + sum(r3)\r\n",
    "\r\n",
    "        if sum_hourglass > max:\r\n",
    "            max = sum_hourglass\r\n",
    "\r\n",
    "    return max"
   ],
   "outputs": [],
   "metadata": {}
  },
  {
   "cell_type": "code",
   "execution_count": 14,
   "source": [
    "# hourglass - Bac\r\n",
    "def hourglass(arr):\r\n",
    "    max = -1000\r\n",
    "    for i in range(4):\r\n",
    "        for j in range(4):\r\n",
    "            cur_sum = \\\r\n",
    "                arr[i][j] + arr[i][j+1] + arr[i][j+2] + \\\r\n",
    "                    arr[i+1][j+1] + \\\r\n",
    "                        arr[i+2][j] + arr[i+2][j+1] + arr[i+2][j+2]\r\n",
    "            if cur_sum > max:\r\n",
    "                max = cur_sum\r\n",
    "    return max\r\n",
    "a = [[-1,-1,0,-9,-2,-2],[-2,-1,-6,-8,-2,-5],[-1,-1,-1,-2,-3,-4],[-1,-9,-2,-4,-4,-5],[-7,-3,-3,-2,-9,-9],[-1,-3,-1,-2,-4,-5]]\r\n",
    "\r\n",
    "hourglass(a)"
   ],
   "outputs": [
    {
     "output_type": "execute_result",
     "data": {
      "text/plain": [
       "-6"
      ]
     },
     "metadata": {},
     "execution_count": 14
    }
   ],
   "metadata": {}
  },
  {
   "cell_type": "code",
   "execution_count": null,
   "source": [
    "# hourseglass - by XiaoHan\r\n",
    "\r\n",
    "import sys\r\n",
    "\r\n",
    "arr = []\r\n",
    "for arr_i in range(6):\r\n",
    "   arr_t = [int(arr_temp) for arr_temp in input().strip().split(' ')]\r\n",
    "   arr.append(arr_t)\r\n",
    "\r\n",
    "maxi = None\r\n",
    "for i in range(4):\r\n",
    "    for j in range(4):\r\n",
    "        current = arr[i][j] + arr[i][j+1] + arr[i][j+2] + \\\r\n",
    "                  arr[i+1][j+1] + \\\r\n",
    "                  arr[i+2][j] + arr[i+2][j+1] + arr[i+2][j+2]\r\n",
    "        if maxi == None or current > maxi:\r\n",
    "            maxi = current\r\n",
    "print(maxi)"
   ],
   "outputs": [],
   "metadata": {}
  },
  {
   "cell_type": "code",
   "execution_count": 7,
   "source": [
    "# hourseglass - by gianglp\r\n",
    "\r\n",
    "arr = []\r\n",
    "for arr_i in range(6):\r\n",
    "   arr_t = [int(arr_temp) for arr_temp in input().strip().split(' ')]\r\n",
    "   arr.append(arr_t)\r\n",
    "\r\n",
    "result = -90\r\n",
    "for row in range(4):\r\n",
    "    for col in range(4):\r\n",
    "        row_1 = sum(arr[row][col:col+3])\r\n",
    "        mid = arr[row+1][col+1]\r\n",
    "        row_2 = sum(arr[row+2][col:col+3])\r\n",
    "        result = max(result, row_1 + mid + row_2)\r\n",
    "\r\n",
    "print(str(result))"
   ],
   "outputs": [
    {
     "output_type": "execute_result",
     "data": {
      "text/plain": [
       "3"
      ]
     },
     "metadata": {},
     "execution_count": 7
    }
   ],
   "metadata": {}
  },
  {
   "cell_type": "code",
   "execution_count": 24,
   "source": [
    "def process_lst(a):\r\n",
    "    lst = []\r\n",
    "    if a[0] == 'print':\r\n",
    "        print(lst)\r\n",
    "    if a[0] == 'insert':\r\n",
    "        lst.insert(int(a[1]),int(a[2]))\r\n",
    "    if a[0] == 'append':\r\n",
    "        lst.append(a[1])\r\n",
    "    if a[0] == 'pop':\r\n",
    "        lst.pop()\r\n",
    "    if a[0] == 'sort':\r\n",
    "        lst.sort()\r\n",
    "    if a[0] == 'reverse':\r\n",
    "        lst.reverse()\r\n",
    "    return lst"
   ],
   "outputs": [],
   "metadata": {}
  },
  {
   "cell_type": "code",
   "execution_count": null,
   "source": [
    "\r\n",
    "lst = []\r\n",
    "n = int(input())\r\n",
    "for i in range(n):\r\n",
    "    a = input().split(' ')\r\n",
    "    if a[0] == 'insert':\r\n",
    "        lst.insert(int(a[1]),int(a[2]))\r\n",
    "    elif a[0] == 'append':\r\n",
    "        lst.append(int(a[1]))\r\n",
    "    elif a[0] == 'pop':\r\n",
    "        lst.pop()\r\n",
    "    elif a[0] == 'remove':\r\n",
    "        lst.remove(int(a[1]))\r\n",
    "    elif a[0] == 'sort':\r\n",
    "        lst.sort()\r\n",
    "    elif a[0] == 'reverse':\r\n",
    "        lst.reverse()\r\n",
    "    elif a[0] == 'print':\r\n",
    "        print(lst)"
   ],
   "outputs": [],
   "metadata": {}
  },
  {
   "cell_type": "code",
   "execution_count": 51,
   "source": [
    "a = 'HackerRank.com presents \"Pythonist 2\".'\r\n",
    "def swap_case(s):\r\n",
    "    b = ''\r\n",
    "    for i in s:\r\n",
    "        if i.isupper():\r\n",
    "            b = b + i.lower()\r\n",
    "        elif i.lower():\r\n",
    "            b = b + i.upper()\r\n",
    "    return b\r\n"
   ],
   "outputs": [],
   "metadata": {}
  },
  {
   "cell_type": "code",
   "execution_count": null,
   "source": [
    "n = int(input())\r\n",
    "student_marks = {}\r\n",
    "for _ in range(n):\r\n",
    "    name, *line = input().split()\r\n",
    "    scores = list(map(float, line))\r\n",
    "    student_marks[name] = scores\r\n",
    "query_name = input()\r\n",
    "\r\n",
    "for student, mark in student_marks.items():\r\n",
    "    if student == query_name:\r\n",
    "        avg_score = round(float(sum(mark)/len(mark)),2)\r\n",
    "\r\n",
    "print(format(avg_score,'.2f'))"
   ],
   "outputs": [],
   "metadata": {}
  },
  {
   "cell_type": "code",
   "execution_count": 90,
   "source": [
    "a = 'chris alan'\r\n",
    "\r\n",
    "def solve(s):\r\n",
    "    s = s.split(' ')\r\n",
    "    c = ''\r\n",
    "    for i in range(len(s)):\r\n",
    "        b = ''\r\n",
    "        for j in range(len(s[i])):\r\n",
    "            if j == 0:\r\n",
    "                b = b + s[i][j].upper()\r\n",
    "            else:\r\n",
    "                b = b + s[i][j]\r\n",
    "        if i == 0:\r\n",
    "            c = c + b\r\n",
    "        else:\r\n",
    "            c = c + ' ' + b\r\n",
    "    return c"
   ],
   "outputs": [],
   "metadata": {}
  },
  {
   "cell_type": "code",
   "execution_count": null,
   "source": [
    "a = 17\r\n",
    "lst = []\r\n",
    "\r\n",
    "def get_oct_hex_bin(m):\r\n",
    "    temp = m[2:]\r\n",
    "    try:\r\n",
    "        n = int(''.join(temp))\r\n",
    "    except:\r\n",
    "        n = ''.join(temp)\r\n",
    "        n = n.upper()\r\n",
    "    return n\r\n",
    "\r\n",
    "def print_formatted(number):\r\n",
    "    for i in range(1, number + 1):\r\n",
    "        oct_num = get_oct_hex_bin(oct(i))\r\n",
    "        hex_num = get_oct_hex_bin(hex(i))\r\n",
    "        bin_num = get_oct_hex_bin(bin(i))\r\n",
    "    \r\n",
    "        print(i,' ',oct_num,' ', hex_num,' ', bin_num)\r\n",
    "\r\n",
    "print_formatted(a)\r\n"
   ],
   "outputs": [],
   "metadata": {}
  },
  {
   "cell_type": "code",
   "execution_count": 107,
   "source": [
    "def rotateLeft(d, arr):\r\n",
    "    head = arr[d:]\r\n",
    "    tail = arr[:d]\r\n",
    "    return head + tail"
   ],
   "outputs": [],
   "metadata": {}
  },
  {
   "cell_type": "code",
   "execution_count": 152,
   "source": [
    "def reverse(llist):\r\n",
    "    prev, cur = None, None\r\n",
    "    while llist:\r\n",
    "        cur = llist.next\r\n",
    "        llist.next = prev\r\n",
    "        prev = llist\r\n",
    "        llist = cur\r\n",
    "    return prev\r\n"
   ],
   "outputs": [],
   "metadata": {}
  },
  {
   "cell_type": "code",
   "execution_count": 7,
   "source": [
    "def nextmultiple5(n):\r\n",
    "    i = n\r\n",
    "    while True:\r\n",
    "        i = i + 1\r\n",
    "        if i % 5  == 0:\r\n",
    "            break\r\n",
    "    return i\r\n",
    "\r\n",
    "def gradingStudents(grades):\r\n",
    "    next = [nextmultiple5(i) for i in grades]\r\n",
    "    result = []\r\n",
    "    for i in range(len(grades)):\r\n",
    "        if next[i] < 40 or next[i] - grades[i] >= 3:\r\n",
    "            result.append(grades[i])\r\n",
    "        elif next[i] - grades[i] < 3:\r\n",
    "            result.append(next[i])\r\n",
    "    return result"
   ],
   "outputs": [],
   "metadata": {}
  },
  {
   "cell_type": "code",
   "execution_count": 31,
   "source": [
    "a = [10, 20, 20, 10, 10, 30, 50, 10, 20]\n",
    "\n",
    "def sockMerchant(n, ar):\n",
    "    b = []\n",
    "    for i in range(n):\n",
    "        if ar[i] not in b:\n",
    "            b.append(ar[i])\n",
    "    \n",
    "    c = []\n",
    "    for i in b:\n",
    "        c.append(ar.count(i))\n",
    "\n",
    "    pairs = 0\n",
    "    for i in c:\n",
    "        if i % 2 == 0:\n",
    "            pairs += i / 2\n",
    "        elif i % 2 == 1 and i > 1:\n",
    "            pairs += i // 2\n",
    "    \n",
    "    return int(pairs)"
   ],
   "outputs": [],
   "metadata": {}
  },
  {
   "cell_type": "code",
   "execution_count": 45,
   "source": [
    "def birthday(s, d, m):\n",
    "    count = 0\n",
    "    for i in range(len(s)-m+1):\n",
    "        c = []\n",
    "        for j in range(i,i+m):\n",
    "            c.append(s[j])\n",
    "        if sum(c) == d:\n",
    "            count += 1\n",
    "    return count"
   ],
   "outputs": [],
   "metadata": {}
  },
  {
   "cell_type": "code",
   "execution_count": 1,
   "source": [
    "class node:\n",
    "    def __init__(self,data = None, next = None):\n",
    "        self.data = data\n",
    "        self.next = next\n",
    "\n",
    "class linkedlist:\n",
    "    def __init__(self):\n",
    "        self.head = None\n",
    "        self.tail = None\n",
    "\n",
    "    def insertHead(self,data):\n",
    "        p = node(data)\n",
    "        if self.head == None:\n",
    "            self.head = p\n",
    "        else:\n",
    "            cur = self.head\n",
    "            self.head = p\n",
    "            self.head.next = cur\n",
    "\n",
    "    def insertTail(self,data):\n",
    "        p = node(data)\n",
    "        cur = self.head\n",
    "        if cur == None:\n",
    "            self.head = p\n",
    "        while cur.next:\n",
    "            cur = cur.next\n",
    "        cur.next = node(data,None)\n",
    "\n",
    "def printLinkedList(head):\n",
    "    cur = head\n",
    "    while cur:\n",
    "        print(cur.data)\n",
    "        cur = cur.next"
   ],
   "outputs": [],
   "metadata": {}
  },
  {
   "cell_type": "code",
   "execution_count": 39,
   "source": [
    "a = [1,2,3,4,5]\n",
    "b = linkedlist()"
   ],
   "outputs": [],
   "metadata": {}
  },
  {
   "cell_type": "code",
   "execution_count": 40,
   "source": [
    "for i in a:\n",
    "    b.insertHead(i)"
   ],
   "outputs": [],
   "metadata": {}
  },
  {
   "cell_type": "code",
   "execution_count": null,
   "source": [
    "cur = b.head\n",
    "i = 0\n",
    "while cur.next:\n",
    "    print(i,'-',cur.data)\n",
    "    i += 1\n",
    "    cur = cur.next\n",
    "print('Current is: ',cur.data)"
   ],
   "outputs": [],
   "metadata": {}
  },
  {
   "cell_type": "code",
   "execution_count": 28,
   "source": [
    "x1 = 0\n",
    "v1 = 3\n",
    "x2 = 4\n",
    "v2 = 2\n",
    "def kangaroo(x1, v1, x2, v2):\n",
    "    flag = 'NO'\n",
    "    i = 1\n",
    "    while i <= 10000:\n",
    "        if x1 + i*v1 == x2 + i*v2:\n",
    "            flag = 'YES'\n",
    "            break\n",
    "        i += 1\n",
    "    return flag\n"
   ],
   "outputs": [],
   "metadata": {}
  },
  {
   "cell_type": "code",
   "execution_count": 13,
   "source": [
    "s = 7\n",
    "t = 11\n",
    "a = 5\n",
    "b = 15\n",
    "m = 3\n",
    "n = 2\n",
    "apples = [-2,2,1]\n",
    "orranges = [5,-6]\n",
    "\n",
    "def countApplesAndOranges(s, t, a, b, apples, oranges):\n",
    "    count_apples = 0\n",
    "    for apple in apples:\n",
    "        if (a + apple) in range(s,t+1):\n",
    "            count_apples += 1\n",
    "    count_oranges = 0\n",
    "    for orange in oranges:\n",
    "        if (b + orange) in range(s,t+1):\n",
    "            count_oranges += 1\n",
    "    print(count_apples)\n",
    "    print(count_oranges)"
   ],
   "outputs": [],
   "metadata": {}
  },
  {
   "cell_type": "code",
   "execution_count": 59,
   "source": [
    "m = 9\n",
    "n = 27\n",
    "center = n // 2\n",
    "center_welcome = (n - len('WELCOME'))//2\n",
    "for i in range(m):\n",
    "    if i < m // 2:\n",
    "        print('-'*(center - 1 - i*3) + '.|.'*(2*i + 1) + '-'*(center-1-i*3))\n",
    "    elif i == m // 2:\n",
    "        print('-'*center_welcome+'WELCOME'+'-'*center_welcome)\n",
    "    else:\n",
    "        print('-'*(center - (m-i)*3 + 2) + '.|.'*(2*(m-i)-1) + '-'*(center - (m-i)*3 + 2))\n"
   ],
   "outputs": [
    {
     "output_type": "stream",
     "name": "stdout",
     "text": [
      "------------.|.------------\n",
      "---------.|..|..|.---------\n",
      "------.|..|..|..|..|.------\n",
      "---.|..|..|..|..|..|..|.---\n",
      "----------WELCOME----------\n",
      "---.|..|..|..|..|..|..|.---\n",
      "------.|..|..|..|..|.------\n",
      "---------.|..|..|.---------\n",
      "------------.|.------------\n"
     ]
    }
   ],
   "metadata": {}
  },
  {
   "cell_type": "code",
   "execution_count": 31,
   "source": [
    "def bmi_calculator(weight,height):\n",
    "    bmi = weight / ((height/100)**2)\n",
    "\n",
    "    if bmi < 16:\n",
    "        category = 'Severe Thinness'\n",
    "    elif bmi < 17:\n",
    "        category = 'Moderate Thinness'\n",
    "    elif bmi < 18.5:\n",
    "        category = 'Mid Thinness'\n",
    "    elif bmi < 25:\n",
    "        category = 'Normal'\n",
    "    elif bmi < 30:\n",
    "        category = 'Overweight'\n",
    "    elif bmi < 35:\n",
    "        category = 'Obese Class I'\n",
    "    elif bmi < 40:\n",
    "        category = 'Obese Class II'\n",
    "    else:\n",
    "        category = 'Obese Class III'\n",
    "\n",
    "    return [round(bmi,1),category]\n"
   ],
   "outputs": [],
   "metadata": {}
  },
  {
   "cell_type": "code",
   "execution_count": 30,
   "source": [
    "weight = float(input())\n",
    "height = float(input())\n",
    "\n",
    "print(bmi_calculator(weight, height))"
   ],
   "outputs": [
    {
     "output_type": "stream",
     "name": "stdout",
     "text": [
      "[20.061728395061728, 'Normal']\n"
     ]
    }
   ],
   "metadata": {}
  },
  {
   "cell_type": "code",
   "execution_count": 32,
   "source": [
    "print(bmi_calculator(weight, height))"
   ],
   "outputs": [
    {
     "output_type": "stream",
     "name": "stdout",
     "text": [
      "[20.1, 'Normal']\n"
     ]
    }
   ],
   "metadata": {}
  },
  {
   "cell_type": "code",
   "execution_count": 55,
   "source": [
    "def nested_for(n,a):\n",
    "    A = []\n",
    "    temp = []\n",
    "    for i in range(n):\n",
    "        for j in range(n):\n",
    "            temp.append(a)\n",
    "        A.append(temp)\n",
    "        a += 1\n",
    "        temp = []\n",
    "    return A\n"
   ],
   "outputs": [],
   "metadata": {}
  },
  {
   "cell_type": "code",
   "execution_count": 1,
   "source": [
    "a = list(map(int,input().split()))\n",
    "b = list(map(int,input().split()))\n",
    "\n",
    "c = ((x,y) for x in a for y in b)\n",
    "\n",
    "for i in c:\n",
    "    print(i,end = ' ')"
   ],
   "outputs": [],
   "metadata": {}
  },
  {
   "cell_type": "code",
   "execution_count": 7,
   "source": [
    "n = int(input())\n",
    "a = list(map(int,input().split()))\n",
    "c = int(input())\n",
    "\n",
    "sales = 0\n",
    "\n",
    "for i in range(c):\n",
    "    x, y = map(int,input().split())\n",
    "    if x in a:\n",
    "        sales += y\n",
    "        a.remove(x)\n",
    "\n",
    "print(sales)"
   ],
   "outputs": [],
   "metadata": {}
  },
  {
   "cell_type": "code",
   "execution_count": 51,
   "source": [
    "n = 2\n",
    "lst = []\n",
    "for i in range(n+1):\n",
    "    for j in range(n+1):\n",
    "        for k in range(n+1):\n",
    "            new_lst = [a[i],a[j],a[k]]\n",
    "            if new_lst not in lst:\n",
    "                lst.append(new_lst)"
   ],
   "outputs": [],
   "metadata": {}
  },
  {
   "cell_type": "code",
   "execution_count": null,
   "source": [
    "b = [x+y for x in a for y in a if x != y]\n",
    "b.sort()\n",
    "\n",
    "for i in b:\n",
    "    print(i)"
   ],
   "outputs": [],
   "metadata": {}
  },
  {
   "cell_type": "code",
   "execution_count": 28,
   "source": [
    "from itertools import permutations, combinations\n",
    "\n",
    "lst = input().split()\n",
    "\n",
    "n = int(lst[1])\n",
    "a = list(lst[0])\n",
    "\n",
    "b = list(permutations(a,n))\n",
    "if n > 1:\n",
    "    b = sorted(b,key=lambda x: [x[0],x[1]])\n",
    "else:\n",
    "    b = sorted(b)\n",
    "\n",
    "for i in b:\n",
    "    print(''.join(i))"
   ],
   "outputs": [
    {
     "output_type": "stream",
     "name": "stdout",
     "text": [
      "X\n",
      "Y\n",
      "Z\n"
     ]
    }
   ],
   "metadata": {}
  },
  {
   "cell_type": "code",
   "execution_count": null,
   "source": [
    "from itertools import permutations, combinations\n",
    "\n",
    "lst = input().split()\n",
    "\n",
    "n = int(lst[1])\n",
    "a = list(lst[0])\n",
    "a.sort()\n",
    "\n",
    "for i in a:\n",
    "    print(i)\n",
    "for i in range(2,n+1):\n",
    "    b = list(combinations(a,i))\n",
    "    for j in b:\n",
    "        print(''.join(j))"
   ],
   "outputs": [],
   "metadata": {}
  },
  {
   "cell_type": "code",
   "execution_count": null,
   "source": [
    "from itertools import combinations_with_replacement\n",
    "\n",
    "lst = input().split()\n",
    "\n",
    "n = int(lst[1])\n",
    "a = list(lst[0])\n",
    "a.sort()\n",
    "\n",
    "b = list(combinations_with_replacement(a,n))\n",
    "for i in b:\n",
    "    print(''.join(i))"
   ],
   "outputs": [],
   "metadata": {}
  },
  {
   "cell_type": "code",
   "execution_count": null,
   "source": [
    "from itertools import groupby\n",
    "\n",
    "a = input()\n",
    "a = list(a)\n",
    "\n",
    "for key, value in groupby(a):\n",
    "    val = list(value)\n",
    "    length = len(val)\n",
    "    # print((length,int(val[0])),end = ' ')\n",
    "    print(key, val)"
   ],
   "outputs": [],
   "metadata": {}
  },
  {
   "cell_type": "code",
   "execution_count": 91,
   "source": [
    "n = 3\n",
    "x = n*2 - 1\n",
    "y = x*2 - 1\n",
    "A = []\n",
    "temp = []\n",
    "start = 96\n",
    "a = 3\n",
    "for i in range(y):\n",
    "    for j in range(x):\n",
    "        temp.append(chr(start + a))\n",
    "    A.append(temp)\n",
    "    if a > 0:\n",
    "        a -= 1\n",
    "    elif a <\n",
    "    temp = []\n"
   ],
   "outputs": [],
   "metadata": {}
  },
  {
   "cell_type": "code",
   "execution_count": 116,
   "source": [
    "def average_set(array):\n",
    "    set_arr = set(array)\n",
    "    avg = sum(set_arr)/len(set_arr)\n",
    "    return avg\n",
    "\n",
    "x = [161,182,154,176,170,167,171,170,174]\n",
    "average_set(x)"
   ],
   "outputs": [],
   "metadata": {}
  },
  {
   "cell_type": "code",
   "execution_count": null,
   "source": [
    "from itertools import permutations, combinations\n",
    "n = 4\n",
    "A = ['a','a','c','d']\n",
    "# A = set(A)\n",
    "k = 2\n",
    "print(list(combinations(A,k)))"
   ],
   "outputs": [],
   "metadata": {}
  },
  {
   "cell_type": "code",
   "execution_count": null,
   "source": [
    "count = 0\n",
    "for i in list(permutations(A,k)):\n",
    "    if 'a' in i:\n",
    "        count += 1\n",
    "print(count/len(list(permutations(A,k))))"
   ],
   "outputs": [],
   "metadata": {}
  },
  {
   "cell_type": "code",
   "execution_count": 50,
   "source": [
    "import calendar\n",
    "\n",
    "curcal = calendar.monthcalendar(2021,5)\n",
    "curcal"
   ],
   "outputs": [
    {
     "output_type": "execute_result",
     "data": {
      "text/plain": [
       "[[0, 0, 0, 0, 0, 1, 2],\n",
       " [3, 4, 5, 6, 7, 8, 9],\n",
       " [10, 11, 12, 13, 14, 15, 16],\n",
       " [17, 18, 19, 20, 21, 22, 23],\n",
       " [24, 25, 26, 27, 28, 29, 30],\n",
       " [31, 0, 0, 0, 0, 0, 0]]"
      ]
     },
     "metadata": {},
     "execution_count": 50
    }
   ],
   "metadata": {}
  },
  {
   "cell_type": "code",
   "execution_count": 52,
   "source": [
    "c = calendar.TextCalendar(calendar.THURSDAY)\n",
    "str = c.formatmonth(2025, 1)\n",
    "str"
   ],
   "outputs": [
    {
     "output_type": "execute_result",
     "data": {
      "text/plain": [
       "'    January 2025\\nTh Fr Sa Su Mo Tu We\\n                   1\\n 2  3  4  5  6  7  8\\n 9 10 11 12 13 14 15\\n16 17 18 19 20 21 22\\n23 24 25 26 27 28 29\\n30 31\\n'"
      ]
     },
     "metadata": {},
     "execution_count": 52
    }
   ],
   "metadata": {}
  },
  {
   "cell_type": "code",
   "execution_count": 1,
   "source": [
    "import numpy as np\r\n",
    "A = [[1,1,-2],[1,1,0],[1,0,0]]\r\n",
    "A = np.array(A)\r\n",
    "A_inv = np.linalg.inv(A)\r\n",
    "A_inv"
   ],
   "outputs": [
    {
     "output_type": "execute_result",
     "data": {
      "text/plain": [
       "array([[ 0. ,  0. ,  1. ],\n",
       "       [-0. ,  1. , -1. ],\n",
       "       [-0.5,  0.5,  0. ]])"
      ]
     },
     "metadata": {},
     "execution_count": 1
    }
   ],
   "metadata": {}
  },
  {
   "cell_type": "code",
   "execution_count": null,
   "source": [
    "a, b = map(int,input().split())\r\n",
    "\r\n",
    "def great_divisor(a,b):\r\n",
    "    a = abs(a)\r\n",
    "    b = abs(b)\r\n",
    "    if a > b:\r\n",
    "        a, b = b, a\r\n",
    "    n = b \r\n",
    "    while n > 1:\r\n",
    "        if a % n == 0 and b % n == 0:\r\n",
    "            return n\r\n",
    "            break\r\n",
    "        n -= 1\r\n",
    "\r\n",
    "print(great_divisor(a,b))"
   ],
   "outputs": [],
   "metadata": {}
  },
  {
   "cell_type": "code",
   "execution_count": null,
   "source": [
    "n = int(input())\r\n",
    "\r\n",
    "s = n*(n+1)*(2*n+1)/6\r\n",
    "\r\n",
    "print(int(s))"
   ],
   "outputs": [],
   "metadata": {}
  },
  {
   "cell_type": "code",
   "execution_count": 16,
   "source": [
    "def check_digit(n):\r\n",
    "    first = n[0]\r\n",
    "    last = n[-1]\r\n",
    "    if first == last:\r\n",
    "        return 'YES'\r\n",
    "    return 'NO'\r\n",
    "\r\n",
    "while True:\r\n",
    "    try:\r\n",
    "        n = input()\r\n",
    "        print(check_digit(n))\r\n",
    "    except:\r\n",
    "        break"
   ],
   "outputs": [
    {
     "output_type": "stream",
     "name": "stdout",
     "text": [
      "NO\n",
      "YES\n"
     ]
    }
   ],
   "metadata": {}
  },
  {
   "cell_type": "code",
   "execution_count": 17,
   "source": [
    "A = [i for i in range(1,5)]"
   ],
   "outputs": [],
   "metadata": {}
  },
  {
   "cell_type": "code",
   "execution_count": 18,
   "source": [
    "A"
   ],
   "outputs": [
    {
     "output_type": "execute_result",
     "data": {
      "text/plain": [
       "[1, 2, 3, 4]"
      ]
     },
     "metadata": {},
     "execution_count": 18
    }
   ],
   "metadata": {}
  },
  {
   "cell_type": "code",
   "execution_count": null,
   "source": [],
   "outputs": [],
   "metadata": {}
  }
 ],
 "metadata": {
  "interpreter": {
   "hash": "fcea7bec55ff6d7f3b1107f41f074eaa5711bec3d5478eb754b653bcca62ae21"
  },
  "kernelspec": {
   "display_name": "Python 3.9.5 64-bit (windows store)",
   "name": "python3"
  },
  "language_info": {
   "codemirror_mode": {
    "name": "ipython",
    "version": 3
   },
   "file_extension": ".py",
   "mimetype": "text/x-python",
   "name": "python",
   "nbconvert_exporter": "python",
   "pygments_lexer": "ipython3",
   "version": "3.9.5"
  },
  "metadata": {
   "interpreter": {
    "hash": "fcea7bec55ff6d7f3b1107f41f074eaa5711bec3d5478eb754b653bcca62ae21"
   }
  },
  "orig_nbformat": 2
 },
 "nbformat": 4,
 "nbformat_minor": 2
}