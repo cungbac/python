{
 "cells": [
  {
   "cell_type": "markdown",
   "source": [
    "### Day 1: Data type"
   ],
   "metadata": {}
  },
  {
   "cell_type": "code",
   "execution_count": null,
   "source": [
    "i = 4\r\n",
    "d = 4.0\r\n",
    "s = 'HackerRank '\r\n",
    "# Declare second integer, double, and String variables.\r\n",
    "n = int(input())\r\n",
    "m = float(input())\r\n",
    "str = input()\r\n",
    "\r\n",
    "# Read and save an integer, double, and String to your variables.\r\n",
    "print(int(n+i))\r\n",
    "print(m + d)\r\n",
    "print(s + str)\r\n"
   ],
   "outputs": [],
   "metadata": {}
  },
  {
   "cell_type": "markdown",
   "source": [
    "### Day 2: Operators"
   ],
   "metadata": {}
  },
  {
   "cell_type": "code",
   "execution_count": 4,
   "source": [
    "def solve(meal_cost, tip_percent, tax_percent):\r\n",
    "    tip = meal_cost*tip_percent/100\r\n",
    "    tax = meal_cost*tax_percent/100\r\n",
    "    total_cost = int(round(meal_cost + tip + tax))\r\n",
    "    print(total_cost)\r\n",
    "\r\n",
    "solve(12.00,20,8)"
   ],
   "outputs": [
    {
     "output_type": "stream",
     "name": "stdout",
     "text": [
      "15\n"
     ]
    }
   ],
   "metadata": {}
  },
  {
   "cell_type": "markdown",
   "source": [
    "### Day 3: Intro to Conditional Statements"
   ],
   "metadata": {}
  },
  {
   "cell_type": "code",
   "execution_count": 3,
   "source": [
    "N = int(input().strip())\r\n",
    "if N % 2 != 0:\r\n",
    "    print('Weird')\r\n",
    "else:\r\n",
    "    if N in range(2,6):\r\n",
    "        print('Not Weird')\r\n",
    "    elif N in range(6,21):\r\n",
    "        print('Weird')\r\n",
    "    else:\r\n",
    "        print('Not Weird')"
   ],
   "outputs": [
    {
     "output_type": "stream",
     "name": "stdout",
     "text": [
      "Not Weird\n"
     ]
    }
   ],
   "metadata": {}
  },
  {
   "cell_type": "markdown",
   "source": [
    "### Day 4: Class vs. Instance"
   ],
   "metadata": {}
  },
  {
   "cell_type": "code",
   "execution_count": null,
   "source": [
    "class Person:\r\n",
    "    def __init__(self,initialAge):\r\n",
    "        # Add some more code to run some checks on initialAge\r\n",
    "        self.age = initialAge\r\n",
    "        if initialAge < 0:\r\n",
    "            print('Age is not valid, setting age to 0.')\r\n",
    "            self.age = 0\r\n",
    "        \r\n",
    "    def amIOld(self):\r\n",
    "        # Do some computations in here and print out the correct statement to the console\r\n",
    "        if self.age < 13:\r\n",
    "            print('You are young.')\r\n",
    "        elif self.age < 18:\r\n",
    "            print('You are a teenager.')\r\n",
    "        else:\r\n",
    "            print('You are old.')\r\n",
    "    def yearPasses(self):\r\n",
    "        # Increment the age of the person in here\r\n",
    "        # global age\r\n",
    "        # age += 1\r\n",
    "        self.age += 1\r\n",
    "        \r\n",
    "t = int(input())\r\n",
    "for i in range(0, t):\r\n",
    "    age = int(input())         \r\n",
    "    p = Person(age)  \r\n",
    "    p.amIOld()\r\n",
    "    for j in range(0, 3):\r\n",
    "        p.yearPasses()       \r\n",
    "    p.amIOld()\r\n",
    "    print(\"\")"
   ],
   "outputs": [],
   "metadata": {}
  },
  {
   "cell_type": "markdown",
   "source": [
    "### Day 5: Loops"
   ],
   "metadata": {}
  },
  {
   "cell_type": "code",
   "execution_count": null,
   "source": [
    "n = int(input().strip())\r\n",
    "for i in range(1,11):\r\n",
    "    # print(f'{n} x {i} = {n*i}')\r\n",
    "    print('{} x {} = {}'.format(n,i,n*i))"
   ],
   "outputs": [],
   "metadata": {}
  },
  {
   "cell_type": "markdown",
   "source": [
    "### Day 6: Let's Review"
   ],
   "metadata": {}
  },
  {
   "cell_type": "code",
   "execution_count": null,
   "source": [
    "n = int(input())\r\n",
    "for i in range(n):\r\n",
    "    str = input()\r\n",
    "    even = ''\r\n",
    "    odd = ''\r\n",
    "    for j in range(len(str)):\r\n",
    "        if j % 2 == 0:\r\n",
    "            even += str[j]\r\n",
    "        else:\r\n",
    "            odd += str[j]\r\n",
    "    print(even,odd)"
   ],
   "outputs": [],
   "metadata": {}
  },
  {
   "cell_type": "markdown",
   "source": [
    "### Day 7: Arrays "
   ],
   "metadata": {}
  },
  {
   "cell_type": "code",
   "execution_count": 6,
   "source": [
    "n = int(input().strip())\r\n",
    "\r\n",
    "arr = list(map(int, input().rstrip().split()))\r\n",
    "\r\n",
    "n = len(arr) - 1\r\n",
    "while n >= 0:\r\n",
    "    print(arr[n],end = ' ')\r\n",
    "    n -= 1"
   ],
   "outputs": [
    {
     "output_type": "stream",
     "name": "stdout",
     "text": [
      "2 3 4 1 "
     ]
    }
   ],
   "metadata": {}
  },
  {
   "cell_type": "markdown",
   "source": [
    "### Day 8: Dictionaries and Maps"
   ],
   "metadata": {}
  },
  {
   "cell_type": "code",
   "execution_count": 14,
   "source": [
    "n = int(input())\r\n",
    "dic = {}\r\n",
    "for i in range(n):\r\n",
    "    key, value = input().split(' ')\r\n",
    "    dic[key] = value\r\n",
    "\r\n",
    "while True:\r\n",
    "    try:\r\n",
    "        key_check = input()\r\n",
    "        if key_check in dic.keys():\r\n",
    "            # print('{}={}'.format(key_check, dic[key_check]))\r\n",
    "            print(f'{key_check}={dic[key_check]}')\r\n",
    "        else:\r\n",
    "            print('Not found')\r\n",
    "    except:\r\n",
    "        break"
   ],
   "outputs": [
    {
     "output_type": "stream",
     "name": "stdout",
     "text": [
      "sam=99912222\n",
      "Not found\n",
      "harry=12299933\n"
     ]
    }
   ],
   "metadata": {}
  },
  {
   "cell_type": "markdown",
   "source": [
    "### Day 9: Recursion 3"
   ],
   "metadata": {}
  },
  {
   "cell_type": "code",
   "execution_count": null,
   "source": [
    "import os\r\n",
    "\r\n",
    "def factorial(n):\r\n",
    "    if n <= 1:\r\n",
    "        return 1\r\n",
    "    else:\r\n",
    "        return n * factorial(n-1)\r\n",
    "\r\n",
    "if __name__ == '__main__':\r\n",
    "    fptr = open(os.environ['OUTPUT_PATH'], 'w')\r\n",
    "\r\n",
    "    n = int(input().strip())\r\n",
    "\r\n",
    "    result = factorial(n)\r\n",
    "\r\n",
    "    fptr.write(str(result) + '\\n')\r\n",
    "\r\n",
    "    fptr.close()"
   ],
   "outputs": [],
   "metadata": {}
  },
  {
   "cell_type": "markdown",
   "source": [
    "### Day 10: Binary Numbers"
   ],
   "metadata": {}
  },
  {
   "cell_type": "code",
   "execution_count": null,
   "source": [
    "def binary(n):\r\n",
    "    if n // 2 == 0:\r\n",
    "        return n % 2\r\n",
    "    x = str(n % 2)\r\n",
    "    y = str(binary(n//2))\r\n",
    "    return y + x\r\n",
    "\r\n",
    "def max_binary(a):\r\n",
    "    count = 0\r\n",
    "    max = 0\r\n",
    "    for i in a:\r\n",
    "        if i == '1':\r\n",
    "            count += 1\r\n",
    "            if count > max:\r\n",
    "                max = count\r\n",
    "        else:\r\n",
    "            count = 0\r\n",
    "    return max\r\n",
    "\r\n",
    "n = int(input())\r\n",
    "x = binary(n)\r\n",
    "print(max_binary(x))"
   ],
   "outputs": [],
   "metadata": {}
  },
  {
   "cell_type": "markdown",
   "source": [
    "### Day 11: 2D Arrays"
   ],
   "metadata": {}
  },
  {
   "cell_type": "code",
   "execution_count": null,
   "source": [
    "# Hourglass - 1\r\n",
    "def hourglassMax(arr):\r\n",
    "    hourglass = []\r\n",
    "    lst = []\r\n",
    "    for idx_i in range(0,len(arr) - 2):\r\n",
    "        for idx_j in range(0,len(arr) - 2):\r\n",
    "            for i in range(idx_i, idx_i + 3):\r\n",
    "                for j in range(idx_j, idx_j + 3):\r\n",
    "                    temp = arr[i][j]\r\n",
    "                    lst.append(temp)\r\n",
    "            hourglass.append(lst)\r\n",
    "            lst = []\r\n",
    "    \r\n",
    "    max = -81\r\n",
    "    for i in range(len(hourglass)):\r\n",
    "        r1 = hourglass[i][:3]\r\n",
    "        r2 = hourglass[i][4]\r\n",
    "        r3 = hourglass[i][6:]\r\n",
    "    \r\n",
    "        sum_hourglass = sum(r1) + r2 + sum(r3)\r\n",
    "\r\n",
    "        if sum_hourglass > max:\r\n",
    "            max = sum_hourglass\r\n",
    "\r\n",
    "    return max"
   ],
   "outputs": [],
   "metadata": {}
  },
  {
   "cell_type": "code",
   "execution_count": null,
   "source": [
    "# Hourglass - 2\r\n",
    "\r\n",
    "arr = []\r\n",
    "\r\n",
    "for _ in range(6):\r\n",
    "    arr.append(list(map(int, input().rstrip().split())))\r\n",
    "\r\n",
    "def hourglassMax(arr):\r\n",
    "    max = -1000\r\n",
    "    for i in range(4):\r\n",
    "        for j in range(4):\r\n",
    "            cur_sum = \\\r\n",
    "                arr[i][j] + arr[i][j+1] + arr[i][j+2] + \\\r\n",
    "                    arr[i+1][j+1] + \\\r\n",
    "                        arr[i+2][j] + arr[i+2][j+1] + arr[i+2][j+2]\r\n",
    "            if cur_sum > max:\r\n",
    "                max = cur_sum\r\n",
    "    return max\r\n",
    "\r\n",
    "print(hourglassMax(arr))"
   ],
   "outputs": [],
   "metadata": {}
  },
  {
   "cell_type": "markdown",
   "source": [
    "### Day 12: Inheritance"
   ],
   "metadata": {}
  },
  {
   "cell_type": "code",
   "execution_count": 41,
   "source": [
    "class Person:\r\n",
    "    def __init__(self,firstName,lastName,idNumber):\r\n",
    "        self.firstName = firstName\r\n",
    "        self.lastName = lastName\r\n",
    "        self.idNumber = idNumber\r\n",
    "    def printPerson(self):\r\n",
    "        print('Name:',self.lastName + ',',self.firstName)\r\n",
    "        print('ID:',self.ID)\r\n",
    "\r\n",
    "class Student(Person):\r\n",
    "    def __init__(self,firstName,lastName,ID,scores):\r\n",
    "        # self.firstName = firstName\r\n",
    "        # self.lastName = lastName\r\n",
    "        # self.idNumber = ID\r\n",
    "        self.scores = scores\r\n",
    "        super().__init__(firstName,lastName,ID)\r\n",
    "        # Person.__init__(self,firstName,lastName,ID)\r\n",
    "    def calculate(self):\r\n",
    "        mean = sum(self.scores)/len(self.scores)\r\n",
    "        if mean < 40:\r\n",
    "            grade = 'T'\r\n",
    "        elif mean < 55:\r\n",
    "            grade = 'D'\r\n",
    "        elif mean < 70:\r\n",
    "            grade = 'P'\r\n",
    "        elif mean < 80:\r\n",
    "            grade = 'A'\r\n",
    "        elif mean < 90:\r\n",
    "            grade = 'E'\r\n",
    "        elif mean <= 100:\r\n",
    "            grade = 'O'\r\n",
    "        return grade\r\n",
    "        \r\n",
    "std = Student('Heraldo','Memelli','8135627',[100,80])"
   ],
   "outputs": [],
   "metadata": {}
  },
  {
   "cell_type": "markdown",
   "source": [
    "### Day 13: Abstract Classes"
   ],
   "metadata": {}
  },
  {
   "cell_type": "code",
   "execution_count": 9,
   "source": [
    "from abc import ABCMeta, abstractmethod\r\n",
    "\r\n",
    "class Book(object, metaclass=ABCMeta):\r\n",
    "    def __init__(self,title,author):\r\n",
    "        self.title = title\r\n",
    "        self.author = author\r\n",
    "    \r\n",
    "    @abstractmethod\r\n",
    "    def display():\r\n",
    "        pass\r\n",
    "\r\n",
    "class MyBook(Book):\r\n",
    "    def __init__(self,title,author,price):\r\n",
    "        super().__init__(title,author)\r\n",
    "        self.price = price\r\n",
    "    def display(self):\r\n",
    "        print(f'Title: {self.title}')\r\n",
    "        print(f'Author: {self.author}')\r\n",
    "        print(f'Price: {self.price}')\r\n",
    "\r\n",
    "new_novel = MyBook('The Alchemist','Paulo Coelho',248)\r\n",
    "new_novel.display()"
   ],
   "outputs": [
    {
     "output_type": "stream",
     "name": "stdout",
     "text": [
      "Title: The Alchemist\n",
      "Author: Paulo Coelho\n",
      "Price: 248\n"
     ]
    }
   ],
   "metadata": {}
  },
  {
   "cell_type": "markdown",
   "source": [
    "### Day 14: Scope"
   ],
   "metadata": {}
  },
  {
   "cell_type": "code",
   "execution_count": 44,
   "source": [
    "class Difference:\r\n",
    "    def __init__(self,a):\r\n",
    "        self.__elements = a # private attribute\r\n",
    "\r\n",
    "    def computeDifference(self):\r\n",
    "        self.maximumDifference = 0\r\n",
    "        for i in self.__elements:\r\n",
    "            for j in self.__elements:\r\n",
    "                if i != j:\r\n",
    "                    cur_sum = abs(i-j)\r\n",
    "                    if cur_sum > self.maximumDifference:\r\n",
    "                        self.maximumDifference = cur_sum\r\n",
    "    \r\n",
    "    # another way to create computeDifference method\r\n",
    "    def computeDifference_2(self):\r\n",
    "        self.maximumDifference = max(self.__elements) - min(self.__elements)\r\n",
    "        "
   ],
   "outputs": [],
   "metadata": {}
  },
  {
   "cell_type": "markdown",
   "source": [
    "### Day 15: Linked List"
   ],
   "metadata": {}
  },
  {
   "cell_type": "code",
   "execution_count": 13,
   "source": [
    "class Node:\r\n",
    "    def __init__(self,data):\r\n",
    "        self.data = data\r\n",
    "        self.next = None\r\n",
    "\r\n",
    "class Solution:\r\n",
    "    def display(self,head):\r\n",
    "        current = head\r\n",
    "        while current:\r\n",
    "            print(current.data,end = ' ')\r\n",
    "            current = current.next\r\n",
    "\r\n",
    "    def insert(self,head,data):\r\n",
    "        '''append linked list using recursion'''\r\n",
    "        p = Node(data)\r\n",
    "        if head == None:\r\n",
    "            head = p\r\n",
    "        else:\r\n",
    "            if head.next == None:\r\n",
    "                head.next = p\r\n",
    "            else:\r\n",
    "                self.insert(head.next,data)\r\n",
    "        return head\r\n",
    "\r\n",
    "mylist= Solution()\r\n",
    "T=int(input())\r\n",
    "head=None\r\n",
    "for i in range(T):\r\n",
    "    data=int(input())\r\n",
    "    head=mylist.insert(head,data)    \r\n",
    "mylist.display(head); \t  \r\n",
    "\r\n"
   ],
   "outputs": [],
   "metadata": {}
  },
  {
   "cell_type": "code",
   "execution_count": 19,
   "source": [
    "class Node:\r\n",
    "    def __init__(self,data):\r\n",
    "        self.data = data\r\n",
    "        self.next = None\r\n",
    "\r\n",
    "class Solution:\r\n",
    "    def display(self,head):\r\n",
    "        current = head\r\n",
    "        while current:\r\n",
    "            print(current.data,end = ' ')\r\n",
    "            current = current.next\r\n",
    "\r\n",
    "    def insert(self,head,data):\r\n",
    "        p = Node(data)\r\n",
    "        if head:\r\n",
    "            current = head # assign pointer\r\n",
    "            while current.next:\r\n",
    "                current = current.next\r\n",
    "            current.next = p # update linked list\r\n",
    "            return head\r\n",
    "        else:\r\n",
    "            return p\r\n",
    "\r\n",
    "sol = Solution()\r\n",
    "head = None\r\n",
    "for i in range(10,30,2):\r\n",
    "    head = sol.insert(head,i)\r\n",
    "\r\n",
    "sol.display(head)\r\n"
   ],
   "outputs": [
    {
     "output_type": "stream",
     "name": "stdout",
     "text": [
      "10 12 14 16 18 20 22 24 26 28 "
     ]
    }
   ],
   "metadata": {}
  },
  {
   "cell_type": "markdown",
   "source": [
    "### Day 16: Exceptions - String to Integer"
   ],
   "metadata": {}
  },
  {
   "cell_type": "code",
   "execution_count": 65,
   "source": [
    "# Note: Remove if __name__ == '__main__'\r\n",
    "S = input()\r\n",
    "try:\r\n",
    "    num = int(S)\r\n",
    "    print(num)\r\n",
    "except ValueError as e:\r\n",
    "    e = 'Bad String'\r\n",
    "    print(e)"
   ],
   "outputs": [
    {
     "output_type": "stream",
     "name": "stdout",
     "text": [
      "10\n"
     ]
    }
   ],
   "metadata": {}
  },
  {
   "cell_type": "markdown",
   "source": [
    "### Day 17: More Exceptions"
   ],
   "metadata": {}
  },
  {
   "cell_type": "code",
   "execution_count": 17,
   "source": [
    "class Calculator:\r\n",
    "    def power(self,n,p):\r\n",
    "        if n < 0 or p < 0:\r\n",
    "            raise Exception('n and p should be non-negative')\r\n",
    "        else:\r\n",
    "            return n**p\r\n",
    "\r\n",
    "myCalculator = Calculator()\r\n",
    "T = int(input())\r\n",
    "for i in range(T):\r\n",
    "    n, p = map(int,input().split())\r\n",
    "    try:\r\n",
    "        ans = myCalculator.power(n,p)\r\n",
    "        print(ans)\r\n",
    "    except Exception as e:\r\n",
    "        print(e)"
   ],
   "outputs": [
    {
     "output_type": "stream",
     "name": "stdout",
     "text": [
      "n and p should be non-negative\n"
     ]
    }
   ],
   "metadata": {}
  },
  {
   "cell_type": "markdown",
   "source": [
    "### Day 18: Queues and Stacks"
   ],
   "metadata": {}
  },
  {
   "cell_type": "code",
   "execution_count": 6,
   "source": [
    "import sys\r\n",
    "\r\n",
    "class Solution:\r\n",
    "    stack = []\r\n",
    "    queue = []\r\n",
    "    # push a character onto stack\r\n",
    "    def pushCharacter(self, character):\r\n",
    "        self.stack.append(character)\r\n",
    "    \r\n",
    "    # enqueue a character in the queue\r\n",
    "    def enqueueCharacter(self, character):\r\n",
    "        self.queue.append(character)\r\n",
    "\r\n",
    "    # return the character of the top of the stack\r\n",
    "    def popCharacter(self):\r\n",
    "        string = self.stack.pop()\r\n",
    "        return string\r\n",
    "    \r\n",
    "    # return the first character in the queue\r\n",
    "    def dequeueCharacter(self):\r\n",
    "        string = self.queue.pop(0)\r\n",
    "        return string\r\n",
    "\r\n",
    "# read the string s\r\n",
    "s = input()\r\n",
    "l = len(s)\r\n",
    "# Create the Solution class object\r\n",
    "obj = Solution()\r\n",
    "\r\n",
    "# push/enqueue all the characters of string s to stack\r\n",
    "for i in range(l):\r\n",
    "    obj.pushCharacter(s[i])\r\n",
    "    obj.enqueueCharacter(s[i])\r\n",
    "\r\n",
    "isPalindrome = True\r\n",
    "'''\r\n",
    "pop the top character from stack\r\n",
    "dequeue the first character from queue\r\n",
    "compare both the characters\r\n",
    "'''\r\n",
    "for i in range(l//2):\r\n",
    "    if obj.popCharacter() != obj.dequeueCharacter():\r\n",
    "        isPalindrome = False\r\n",
    "        break\r\n",
    "# finally print whether string s is palindrome or not\r\n",
    "if isPalindrome:\r\n",
    "    print('The word, '+s+', is a palindrome.')\r\n",
    "else:\r\n",
    "    print('The word, '+s+', is not a palindrome.')"
   ],
   "outputs": [
    {
     "output_type": "stream",
     "name": "stdout",
     "text": [
      "The word, abc, is not a palindrome.\n"
     ]
    }
   ],
   "metadata": {}
  },
  {
   "cell_type": "markdown",
   "source": [
    "### Day 19: Interfaces"
   ],
   "metadata": {}
  },
  {
   "cell_type": "code",
   "execution_count": 10,
   "source": [
    "class AdvancedArithmetic(object):\r\n",
    "    def divisorSum(n):\r\n",
    "        raise NotImplementedError\r\n",
    "\r\n",
    "class Calculator(AdvancedArithmetic):\r\n",
    "    def divisorSum(self,n):\r\n",
    "        sum = 0\r\n",
    "        for i in range(1,n+1):\r\n",
    "            if n % i == 0:\r\n",
    "                sum += i\r\n",
    "        return sum\r\n",
    "\r\n",
    "n = int(input())\r\n",
    "my_calculator = Calculator()\r\n",
    "s = my_calculator.divisorSum(n)\r\n",
    "print(f'I implemented: {type(my_calculator).__bases__[0].__name__}')\r\n",
    "print(s)"
   ],
   "outputs": [
    {
     "output_type": "stream",
     "name": "stdout",
     "text": [
      "I implemented: AdvancedArithmetic\n",
      "31\n"
     ]
    }
   ],
   "metadata": {}
  },
  {
   "cell_type": "markdown",
   "source": [
    "### Day 20: Sorting"
   ],
   "metadata": {}
  },
  {
   "cell_type": "code",
   "execution_count": 11,
   "source": [
    "a = [4,3,1,2]\r\n",
    "\r\n",
    "class ElementBubbleSort:\r\n",
    "\r\n",
    "    def bubbleSort(self,a):\r\n",
    "        swaps = 0\r\n",
    "        for i in range(len(a)):\r\n",
    "            for j in range(len(a)-1):\r\n",
    "                if a[j] > a[j+1]:\r\n",
    "                    a[j], a[j+1] = a[j+1], a[j]\r\n",
    "                    swaps +=1\r\n",
    "        self.swaps = swaps\r\n",
    "        self.firstElement = a[0]\r\n",
    "        self.lastElement = a[-1]\r\n",
    "\r\n",
    "b = ElementBubbleSort()\r\n",
    "b.bubbleSort(a)\r\n",
    "print(f'Array is sorted in {b.swaps} swaps.')\r\n",
    "print(f'First Element: {b.firstElement}')\r\n",
    "print(f'Last Element: {b.lastElement}')"
   ],
   "outputs": [
    {
     "output_type": "stream",
     "name": "stdout",
     "text": [
      "Array is sorted in 5 swaps\n",
      "First Element: 1\n",
      "Last Element: 4\n"
     ]
    }
   ],
   "metadata": {}
  },
  {
   "cell_type": "markdown",
   "source": [
    "### Day 21: Generics\r\n",
    "#### Cannot solve by using python"
   ],
   "metadata": {}
  },
  {
   "cell_type": "markdown",
   "source": [
    "### Day 22: Binary Search Trees"
   ],
   "metadata": {}
  },
  {
   "cell_type": "code",
   "execution_count": 57,
   "source": [
    "class Node:\r\n",
    "    def __init__(self,data):\r\n",
    "        self.data = data\r\n",
    "        self.left = None\r\n",
    "        self.right = None\r\n",
    "\r\n",
    "class Solution:\r\n",
    "    def insert(self,root,data):\r\n",
    "        if root == None:\r\n",
    "            return Node(data)\r\n",
    "        else:\r\n",
    "            if data <= root.data:\r\n",
    "                if root.left == None:\r\n",
    "                    root.left = Node(data)\r\n",
    "                else: self.insert(root.left,data)\r\n",
    "            else:\r\n",
    "                if root.right == None:\r\n",
    "                    root.right = Node(data)\r\n",
    "                else: self.insert(root.right,data)\r\n",
    "        return root\r\n",
    "    \r\n",
    "    def print_left_right_root(self,root):\r\n",
    "        '''print left -> right -> root'''\r\n",
    "        if root != None:\r\n",
    "            left = self.print_tree(root.left)\r\n",
    "            right = self.print_tree(root.right)\r\n",
    "            print(root.data)\r\n",
    "\r\n",
    "    def print_right_left_root(self,root):\r\n",
    "        '''print right -> left -> root'''\r\n",
    "        if root != None:\r\n",
    "            right = self.print_tree(root.right)\r\n",
    "            left = self.print_tree(root.left)\r\n",
    "            print(root.data)\r\n",
    "    \r\n",
    "    def print_root_left_right(self,root):\r\n",
    "        '''print root -> left -> right'''\r\n",
    "        if root != None:\r\n",
    "            print(root.data)\r\n",
    "            left = self.print_tree(root.left)\r\n",
    "            right = self.print_tree(root.right)\r\n",
    "\r\n",
    "    def height(self,root):\r\n",
    "        if root == None:\r\n",
    "            return -1\r\n",
    "        left_height = self.height(root.left)\r\n",
    "        right_height = self.height(root.right)\r\n",
    "\r\n",
    "        return 1 + max(left_height,right_height)\r\n",
    "\r\n",
    "myTree = Solution()\r\n",
    "root = None\r\n",
    "a = [4,3,7,6,8,10,2,1,-1,0]\r\n",
    "for i in a:\r\n",
    "    root = myTree.insert(root,i)\r\n",
    "\r\n",
    "print(myTree.height())"
   ],
   "outputs": [],
   "metadata": {}
  }
 ],
 "metadata": {
  "interpreter": {
   "hash": "ce1e901da04acbe50dd99cd0d91cb411cb2166c3507dec81ce620981a8df4741"
  },
  "kernelspec": {
   "name": "python3",
   "display_name": "Python 3.9.5 64-bit"
  },
  "language_info": {
   "name": "python",
   "version": "3.9.5",
   "mimetype": "text/x-python",
   "codemirror_mode": {
    "name": "ipython",
    "version": 3
   },
   "pygments_lexer": "ipython3",
   "nbconvert_exporter": "python",
   "file_extension": ".py"
  },
  "orig_nbformat": 4
 },
 "nbformat": 4,
 "nbformat_minor": 2
}