{
 "cells": [
  {
   "cell_type": "code",
   "execution_count": null,
   "metadata": {},
   "outputs": [],
   "source": [
    "def mutate(n):\r\n",
    "    print(n,end = ' ')\r\n",
    "    while True:\r\n",
    "        if n == 1:\r\n",
    "            break\r\n",
    "        if n % 2 == 0:\r\n",
    "            n = n / 2\r\n",
    "            print(int(n),end = ' ')\r\n",
    "        elif n % 2 != 0:\r\n",
    "            n = n*3 + 1\r\n",
    "            print(int(n),end = ' ')\r\n",
    "\r\n",
    "n = int(input())\r\n",
    "mutate(n)"
   ]
  },
  {
   "cell_type": "code",
   "execution_count": null,
   "metadata": {},
   "outputs": [],
   "source": [
    "# Python function to print permutations of a given list\r\n",
    "def permutation(lst):\r\n",
    " \r\n",
    "    # If lst is empty then there are no permutations\r\n",
    "    if len(lst) == 0:\r\n",
    "        return []\r\n",
    " \r\n",
    "    # If there is only one element in lst then, only\r\n",
    "    # one permutation is possible\r\n",
    "    if len(lst) == 1:\r\n",
    "        return [lst]\r\n",
    " \r\n",
    "    # Find the permutations for lst if there are\r\n",
    "    # more than 1 characters\r\n",
    " \r\n",
    "    l = [] # empty list that will store current permutation\r\n",
    " \r\n",
    "    # Iterate the input(lst) and calculate the permutation\r\n",
    "    for i in range(len(lst)):\r\n",
    "       m = lst[i]\r\n",
    " \r\n",
    "       # Extract lst[i] or m from the list.  remLst is\r\n",
    "       # remaining list\r\n",
    "       remLst = lst[:i] + lst[i+1:]\r\n",
    " \r\n",
    "       # Generating all permutations where m is first\r\n",
    "       # element\r\n",
    "       for p in permutation(remLst):\r\n",
    "           l.append([m] + p)\r\n",
    "    return l"
   ]
  },
  {
   "cell_type": "code",
   "execution_count": null,
   "metadata": {},
   "outputs": [],
   "source": [
    "def permuation(A):\r\n",
    "    if len(A) == 0:\r\n",
    "        return []\r\n",
    "    if len(A) == 1:\r\n",
    "        return [A]\r\n",
    "    lst = []\r\n",
    "    for i in range(len(A)):\r\n",
    "        m = A[i]\r\n",
    "        remain = A[:i] + A[i+1:]\r\n",
    "        for p in permuation(remain):\r\n",
    "            lst.append([m] + p)\r\n",
    "    return lst"
   ]
  },
  {
   "cell_type": "code",
   "execution_count": 29,
   "metadata": {},
   "outputs": [
    {
     "name": "stdout",
     "output_type": "stream",
     "text": [
      "1\n",
      "3\n",
      "5\n",
      "7\n",
      "9\n",
      "25\n"
     ]
    }
   ],
   "source": [
    "def sum_range(l,r):\r\n",
    "    sum_odd = 0\r\n",
    "    for i in range(l,r+1):\r\n",
    "        if i % 2 != 0:\r\n",
    "            print(i)\r\n",
    "            sum_odd += i\r\n",
    "    return sum_odd\r\n",
    "\r\n",
    "\r\n",
    "l, r = map(int,input().split())\r\n",
    "print(sum_range(l,r))"
   ]
  },
  {
   "cell_type": "code",
   "execution_count": 34,
   "metadata": {},
   "outputs": [
    {
     "name": "stdout",
     "output_type": "stream",
     "text": [
      "3\n"
     ]
    }
   ],
   "source": [
    "def sumOdd(l,r):\r\n",
    "    if l > r:\r\n",
    "        l, r = r, l\r\n",
    "\r\n",
    "    if l % 2 == 0:\r\n",
    "        if r % 2 == 0:\r\n",
    "            num = ((r-1) - (l+1))/2 + 1\r\n",
    "            sum_odd = ((l + r) * num) / 2\r\n",
    "        else:\r\n",
    "            num = (r - (l+1))/2 + 1\r\n",
    "            sum_odd = ((r + l + 1) * num) / 2\r\n",
    "    else:\r\n",
    "        if r % 2 == 0:\r\n",
    "            num = (r-1-l)/2 + 1\r\n",
    "            sum_odd = ((r-1+l) * num) / 2\r\n",
    "        else:\r\n",
    "            num = (r-l)/2 + 1\r\n",
    "            sum_odd = ((l + r) * num) / 2\r\n",
    "    return int(sum_odd)\r\n",
    "\r\n",
    "l, r = map(int,input().split())\r\n",
    "print(sumOdd(l,r))"
   ]
  },
  {
   "cell_type": "code",
   "execution_count": 6,
   "metadata": {},
   "outputs": [],
   "source": [
    "a = 'abc   xyz ab'\r\n",
    "b = a.split(' ')\r\n",
    "c = '  abc def ghi'\r\n",
    "d = c.split(' ')"
   ]
  },
  {
   "cell_type": "code",
   "execution_count": 24,
   "metadata": {},
   "outputs": [
    {
     "name": "stdout",
     "output_type": "stream",
     "text": [
      "2\n",
      "3\n"
     ]
    }
   ],
   "source": [
    "\r\n",
    "def count_Space(str):\r\n",
    "    count = 0\r\n",
    "    flag = True\r\n",
    "    for i in range(len(str)):\r\n",
    "        if ord(str[i]) == 32 and flag:\r\n",
    "            count += 1\r\n",
    "        if ord(str[i]) != 32:\r\n",
    "            flag = True\r\n",
    "        else:\r\n",
    "            flag = False\r\n",
    "    return count\r\n",
    "\r\n",
    "n = int(input())\r\n",
    "for i in range(n):\r\n",
    "    str = input()\r\n",
    "    print(count_Space(str))"
   ]
  },
  {
   "cell_type": "code",
   "execution_count": 29,
   "metadata": {},
   "outputs": [
    {
     "name": "stdout",
     "output_type": "stream",
     "text": [
      "78125\n"
     ]
    }
   ],
   "source": [
    "def power1(a,n):\r\n",
    "    return (a%(10**9+7))**(n%(10**9+7))\r\n",
    "\r\n",
    "a, n = map(int,input().split())\r\n",
    "print(power1(a,n))"
   ]
  },
  {
   "cell_type": "code",
   "execution_count": 37,
   "metadata": {},
   "outputs": [],
   "source": [
    "def power(a,n):\r\n",
    "    if n == 1:\r\n",
    "        return a\r\n",
    "    else:\r\n",
    "        temp = power(a,n//2)*power(a,n//2)\r\n",
    "        if n % 2 == 0:\r\n",
    "            return temp\r\n",
    "        else:\r\n",
    "            return a*(temp)\r\n",
    "\r\n",
    "\r\n",
    "def power_mod(a,n,p):\r\n",
    "    res = 1\r\n",
    "    a = a % p\r\n",
    "    if a == 0:\r\n",
    "        return 0\r\n",
    "    while n > 0:\r\n",
    "        if n % 2 !=0:\r\n",
    "            res = (res * a ) % p\r\n",
    "        n = n // 2\r\n",
    "        a = (a*a) % p\r\n",
    "    return res\r\n",
    "\r\n",
    "a, n = map(int,input().split())\r\n",
    "p = power(10,9) + 7\r\n",
    "print(power_mod(a,n,p))\r\n",
    "\r\n",
    "# def power_mod(x, y, p) :\r\n",
    "#     res = 1     # Initialize result\r\n",
    " \r\n",
    "#     # Update x if it is more\r\n",
    "#     # than or equal to p\r\n",
    "#     x = x % p\r\n",
    "     \r\n",
    "#     if (x == 0) :\r\n",
    "#         return 0\r\n",
    " \r\n",
    "#     while (y > 0) :\r\n",
    "         \r\n",
    "#         # If y is odd, multiply\r\n",
    "#         # x with result\r\n",
    "#         if ((y & 1) == 1) :\r\n",
    "#             res = (res * x) % p\r\n",
    " \r\n",
    "#         # y must be even now\r\n",
    "#         y = y >> 1      # y = y/2\r\n",
    "#         x = (x * x) % p\r\n",
    "         \r\n",
    "#     return res\r\n",
    "# https://www.geeksforgeeks.org/modular-exponentiation-power-in-modular-arithmetic/\r\n",
    "\r\n"
   ]
  },
  {
   "cell_type": "code",
   "execution_count": 48,
   "metadata": {},
   "outputs": [
    {
     "name": "stdout",
     "output_type": "stream",
     "text": [
      "YES\n"
     ]
    }
   ],
   "source": [
    "a, b, c, d = map(int,input().split())\r\n",
    "\r\n",
    "if a > b:\r\n",
    "    a, b = b, a\r\n",
    "if c > d:\r\n",
    "    c, d = d, c\r\n",
    "\r\n",
    "if b >= c:\r\n",
    "    print('YES')\r\n",
    "else:\r\n",
    "    print('NO')\r\n"
   ]
  },
  {
   "cell_type": "code",
   "execution_count": 58,
   "metadata": {},
   "outputs": [
    {
     "name": "stdout",
     "output_type": "stream",
     "text": [
      "-1 -2 -4 "
     ]
    }
   ],
   "source": [
    "lst = input().split(' ')\r\n",
    "\r\n",
    "def check_negative(lst):\r\n",
    "    negative_list = []\r\n",
    "    for i in lst:\r\n",
    "        if int(i) < 0:\r\n",
    "            negative_list.append(i)\r\n",
    "    return negative_list\r\n",
    "\r\n",
    "negative_list = check_negative(lst)\r\n",
    "if len(negative_list) == 0:\r\n",
    "    print('NOT FOUND')\r\n",
    "else:\r\n",
    "    for i in negative_list:\r\n",
    "        print(i,end = ' ')\r\n",
    "\r\n"
   ]
  },
  {
   "cell_type": "code",
   "execution_count": 40,
   "metadata": {},
   "outputs": [
    {
     "name": "stdout",
     "output_type": "stream",
     "text": [
      "2 3 "
     ]
    }
   ],
   "source": [
    "def isPrime(n):\r\n",
    "    if n < 2:\r\n",
    "        return False\r\n",
    "    for i in range(2,n):\r\n",
    "        if n % i == 0:\r\n",
    "            return False\r\n",
    "    return True\r\n",
    "\r\n",
    "n = int(input())\r\n",
    "lst = list(map(int,input().split()))\r\n",
    "lst = list(set(lst))\r\n",
    "new_lst = []\r\n",
    "\r\n",
    "# for i in range(len(lst)):\r\n",
    "\r\n",
    "for i in range(n):\r\n",
    "    if isPrime(lst[i]):\r\n",
    "        if lst[i] not in new_lst:\r\n",
    "            new_lst.append(lst[i])\r\n",
    "new_lst.sort()\r\n",
    "for i in new_lst:\r\n",
    "    print(i,end = ' ')"
   ]
  },
  {
   "cell_type": "code",
   "execution_count": 52,
   "metadata": {},
   "outputs": [
    {
     "name": "stdout",
     "output_type": "stream",
     "text": [
      "42\n"
     ]
    }
   ],
   "source": [
    "n = int(input())\r\n",
    "a = list(map(int,input().split()))\r\n",
    "\r\n",
    "a.sort()\r\n",
    "multiple = a[-1]*a[-2]*a[-3]\r\n",
    "if multiple < 0:\r\n",
    "    if a[-1] < 0:\r\n",
    "        a = sorted(a)\r\n",
    "        print(multiple)\r\n",
    "    else:\r\n",
    "        mul = a[-1]*a[-3]*a[-4]\r\n",
    "        print(mul)\r\n",
    "else:\r\n",
    "    print(multiple)\r\n"
   ]
  },
  {
   "cell_type": "code",
   "execution_count": 56,
   "metadata": {},
   "outputs": [
    {
     "name": "stdout",
     "output_type": "stream",
     "text": [
      "60\n"
     ]
    }
   ],
   "source": [
    "from itertools import permutations\r\n",
    "n = int(input())\r\n",
    "a = list(map(int,input().split()))\r\n",
    "\r\n",
    "b = list(permutations(a,3))\r\n",
    "\r\n",
    "def mul(a):\r\n",
    "    return a[0]*a[1]*a[2]\r\n",
    "\r\n",
    "def max_permutation(a):\r\n",
    "    max = 0\r\n",
    "    for per in a:\r\n",
    "        if mul(per) > max:\r\n",
    "            max = mul(per)\r\n",
    "    return max\r\n",
    "\r\n",
    "print(max_permutation(b))"
   ]
  },
  {
   "cell_type": "code",
   "execution_count": 60,
   "metadata": {},
   "outputs": [
    {
     "data": {
      "text/plain": [
       "111"
      ]
     },
     "execution_count": 60,
     "metadata": {},
     "output_type": "execute_result"
    }
   ],
   "source": [
    "def binary(n):\r\n",
    "    if n // 2 == 0:\r\n",
    "        return n\r\n",
    "    else:\r\n",
    "        x = binary(n//2)\r\n",
    "        y = n % 2\r\n",
    "        return int(str(x) + str(y))\r\n"
   ]
  },
  {
   "cell_type": "code",
   "execution_count": null,
   "metadata": {},
   "outputs": [],
   "source": []
  }
 ],
 "metadata": {
  "interpreter": {
   "hash": "3a8eb5b4756616b8e0633077df4d799c8eda3f4883752b4165209be8e5ba9d4a"
  },
  "kernelspec": {
   "display_name": "Python 3.9.5 64-bit ('PythonSoftwareFoundation.Python.3.9_qbz5n2kfra8p0')",
   "name": "python3"
  },
  "language_info": {
   "codemirror_mode": {
    "name": "ipython",
    "version": 3
   },
   "file_extension": ".py",
   "mimetype": "text/x-python",
   "name": "python",
   "nbconvert_exporter": "python",
   "pygments_lexer": "ipython3",
   "version": "3.9.5"
  },
  "orig_nbformat": 4
 },
 "nbformat": 4,
 "nbformat_minor": 2
}