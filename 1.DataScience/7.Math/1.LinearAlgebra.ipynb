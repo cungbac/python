{
 "cells": [
  {
   "cell_type": "markdown",
   "metadata": {},
   "source": [
    "# BASIS OF A VECTOR SPACE\r\n",
    "\r\n",
    "## 1. Definition\r\n",
    "S = {$e_1$, $e_2$, ..., $e_n$} is a basis of vector space V if:\r\n",
    "\r\n",
    "* S is linear dependence and\r\n",
    "* Every element (x) of V may be written in a unique way as finite linear combination of elements of S\r\n",
    "\r\n",
    "## *x = $\\lambda_1e_1$ + $\\lambda_2e_2$ + ... + $\\lambda_ne_n$*\r\n",
    "\r\n",
    "* Dimension of V (dim V) = n = number of elements of S\r\n",
    "\r\n",
    "<u>*Note:*</u>\r\n",
    "* V may have many different basis\r\n",
    "* If V = {$\\varnothing$} $\\Rightarrow$ V has no basis and dim V = 0\r\n",
    "\r\n",
    "## 2. Canonical basis (standard basis)\r\n",
    "### a.  $R^3$ = {(a,b,c)} \r\n",
    "$\\Rightarrow$ (a,b,c) = a(1,0,0) + b(0,1,0) + c(0,0,1) <br>\r\n",
    "$\\Rightarrow \\forall$ vectors of $R^3$ are able to written as linear combination of elements of: <br>\r\n",
    " S = {(1,0,0),(0,1,0),(0,0,1)} <br>\r\n",
    "\r\n",
    "  det $\\begin{vmatrix} 1 & 0 & 0 \\\\ 0 & 1 & 0 \\\\ 0 & 0 & 1\\end{vmatrix}$ = 1 $\\ne$ 0 <br> \r\n",
    "\r\n",
    "$\\Rightarrow$ S is the canonical basis of $R^3$, dim $R^3$ = 3 <br>\r\n",
    "$\\Rightarrow$ dim $R^n$ = n <br> <br>\r\n",
    "\r\n",
    "### b. $M_{2x2}$ = $\\begin{Bmatrix} \\begin{pmatrix} a & b \\\\ c & d \\end{pmatrix} \\end{Bmatrix}$\r\n",
    "\r\n",
    "$\\Rightarrow$ \r\n",
    "$\\begin{pmatrix} a & b \\\\ c & d \\end{pmatrix}$ = \r\n",
    "    a$\\begin{pmatrix} 1 & 0 \\\\ 0 & 0 \\end{pmatrix}$ + \r\n",
    "    b$\\begin{pmatrix}0 & 1 \\\\ 0 & 0 \\end{pmatrix}$ + \r\n",
    "    c$\\begin{pmatrix}0 & 0 \\\\ 1 & 0 \\end{pmatrix}$ + \r\n",
    "    d$\\begin{pmatrix}0 & 0 \\\\ 0 & 1 \\end{pmatrix}$ <br>\r\n",
    "\r\n",
    "$\\Rightarrow$ $\\forall$ matrix $\\in M_{2x2}$ are able to written as linear combination of elements of: <br>\r\n",
    "\r\n",
    "S = \r\n",
    "$\\begin{Bmatrix} \r\n",
    "    \\begin{pmatrix}1 & 0 \\\\ 0 & 0\\end{pmatrix},\r\n",
    "    \\begin{pmatrix}0 & 1 \\\\ 0 & 0\\end{pmatrix},\r\n",
    "    \\begin{pmatrix}0 & 0 \\\\ 1 & 0\\end{pmatrix},\r\n",
    "    \\begin{pmatrix}0 & 0 \\\\ 0 & 1\\end{pmatrix}\r\n",
    "\\end{Bmatrix}$ <br>\r\n",
    "\r\n",
    "$\\Rightarrow$ S is the canonical basis of $M_{2x2}$ , dim $M_{2x2}$ = 4 <br>\r\n",
    "$\\Rightarrow$ dim $M_{mxn}$ = m x n <br> <br>\r\n",
    "\r\n",
    "### c. $P_2$ = {$a + bx + c$}\r\n",
    "$\\Rightarrow$ $a + bx + c$ = $a.1 + b.x + c.x^2$ <br>\r\n",
    "$\\Rightarrow$ $\\forall$ polynomials in $P_2$ are able to written as linear combination of elements of: <br>\r\n",
    "\r\n",
    "S = {$1,x,x^2$} and <br>\r\n",
    "\r\n",
    "det\r\n",
    "    $\\begin{vmatrix}\r\n",
    "        1 & 0 & 0 \\\\\r\n",
    "        0 & 1 & 0 \\\\\r\n",
    "        0 & 0 & 1\r\n",
    "    \\end{vmatrix}$ = 1 <br>\r\n",
    "\r\n",
    "$\\Rightarrow$ S is the canonical basis of $P_2$, dim $P_2$ = 3 <br>\r\n",
    "$\\Rightarrow$ dim $P_n$ = $n + 1$"
   ]
  },
  {
   "cell_type": "code",
   "execution_count": 1,
   "metadata": {},
   "outputs": [],
   "source": [
    "from sympy import symbols, Eq, solve"
   ]
  },
  {
   "cell_type": "code",
   "execution_count": 2,
   "metadata": {},
   "outputs": [],
   "source": []
  },
  {
   "cell_type": "code",
   "execution_count": 13,
   "metadata": {},
   "outputs": [],
   "source": [
    "import numpy as np"
   ]
  },
  {
   "cell_type": "code",
   "execution_count": 31,
   "metadata": {},
   "outputs": [],
   "source": [
    "A = [[1,2,3,4],[2,3,4,5],[-3,4,5,6],[-2,8,9,15]]\r\n",
    "A = np.array(A)\r\n",
    "\r\n",
    "# X = [[x1],[x2],[x3],[x4]]\r\n",
    "# X = np.array(X)\r\n",
    "\r\n",
    "B = [[0],[0],[0],[0]]\r\n",
    "B = np.array(B)\r\n",
    "\r\n",
    "X = np.linalg.solve(A,B)\r\n",
    "\r\n",
    "M = [[1,1,1,1],[1,1,-1,-1],[1,-1,1,-1],[1,-1,-1,1]]\r\n",
    "N = np.linalg.inv(M)\r\n",
    "N"
   ]
  },
  {
   "cell_type": "markdown",
   "metadata": {},
   "source": []
  }
 ],
 "metadata": {
  "interpreter": {
   "hash": "3a8eb5b4756616b8e0633077df4d799c8eda3f4883752b4165209be8e5ba9d4a"
  },
  "kernelspec": {
   "display_name": "Python 3.9.5 64-bit ('PythonSoftwareFoundation.Python.3.9_qbz5n2kfra8p0')",
   "name": "python3"
  },
  "language_info": {
   "codemirror_mode": {
    "name": "ipython",
    "version": 3
   },
   "file_extension": ".py",
   "mimetype": "text/x-python",
   "name": "python",
   "nbconvert_exporter": "python",
   "pygments_lexer": "ipython3",
   "version": "3.9.5"
  },
  "orig_nbformat": 4
 },
 "nbformat": 4,
 "nbformat_minor": 2
}