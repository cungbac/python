{
 "metadata": {
  "language_info": {
   "codemirror_mode": {
    "name": "ipython",
    "version": 3
   },
   "file_extension": ".py",
   "mimetype": "text/x-python",
   "name": "python",
   "nbconvert_exporter": "python",
   "pygments_lexer": "ipython3",
   "version": "3.9.5"
  },
  "orig_nbformat": 2,
  "kernelspec": {
   "name": "python3",
   "display_name": "Python 3.9.5 64-bit (windows store)"
  },
  "metadata": {
   "interpreter": {
    "hash": "fcea7bec55ff6d7f3b1107f41f074eaa5711bec3d5478eb754b653bcca62ae21"
   }
  },
  "interpreter": {
   "hash": "fcea7bec55ff6d7f3b1107f41f074eaa5711bec3d5478eb754b653bcca62ae21"
  }
 },
 "nbformat": 4,
 "nbformat_minor": 2,
 "cells": [
  {
   "cell_type": "code",
   "execution_count": 1,
   "metadata": {},
   "outputs": [],
   "source": [
    "import pyodbc\n",
    "import numpy as np\n",
    "import pandas as pd\n",
    "import matplotlib.pyplot as plt"
   ]
  },
  {
   "cell_type": "code",
   "execution_count": 2,
   "metadata": {},
   "outputs": [],
   "source": [
    "connect = pyodbc.connect(\n",
    "    'Driver={SQL Server Native Client 11.0};'\n",
    "    'Server=DESKTOP-FHB3M9B\\SQLSERVER;'\n",
    "    'Database=DKSH_MD;'\n",
    "    'username=sa;'\n",
    "    'password=123456;'\n",
    "    'Trusted_connection=yes;')\n",
    "# connect = pyodbc.connect(connect_str)"
   ]
  },
  {
   "cell_type": "code",
   "execution_count": 4,
   "metadata": {},
   "outputs": [],
   "source": [
    "df_thietbiyte = pd.read_sql_query('SELECT * FROM DS_ThietBiYTe',connect)"
   ]
  },
  {
   "cell_type": "code",
   "execution_count": 8,
   "metadata": {},
   "outputs": [
    {
     "output_type": "execute_result",
     "data": {
      "text/plain": [
       "      STT                Nhóm thiết bị (*)                  Họ thiết bị  \\\n",
       "0  1903.0          13. Thiết bị dùng chung  Thiết bị nội thất bệnh viện   \n",
       "1  1904.0             4. Thiết bị phòng mổ                  Máy tán sỏi   \n",
       "2  1905.0  9. Thiết bị chuyên khoa sản nhi            Đèn chiếu vàng da   \n",
       "3  1906.0   1. Thiết bị chẩn đoán hình ảnh  Hệ thống chụp Cộng hưởng từ   \n",
       "4  1907.0             4. Thiết bị phòng mổ                       Đèn mổ   \n",
       "\n",
       "              Tên chung của thiết bị (*)  \\\n",
       "0                      Bàn/ Ghế/ Tủ y tế   \n",
       "1               Máy tán sỏi ngoài cơ thể   \n",
       "2                      Đèn chiếu vàng da   \n",
       "3  Hệ thống chụp Cộng hưởng từ 1,5 Tesla   \n",
       "4                         Đèn mổ di động   \n",
       "\n",
       "                                  Tên thương mại (*)           Model (*)  \\\n",
       "0                            Tủ đựng thuốc bệnh nhân                TT02   \n",
       "1             Hệ thống thiết bị tán sỏi ngoài cơ thể           ASADAL M1   \n",
       "2                                  Đèn chiếu vàng da             MediLED   \n",
       "3  Hệ thống cộng hưởng từ và phụ kiện ( Hệ thống ...  Ingenia Ambition X   \n",
       "4                      Đèn mổ di động Mach Led 300DF      MACH LED 300DF   \n",
       "\n",
       "                       Hãng sản xuất  (*) Nước sản xuất (*)  \\\n",
       "0    Hebei Eryou Medical Devices Co., Ltd        Trung Quốc   \n",
       "1                        M.I.TECH Co.,Ltd          Hàn Quốc   \n",
       "2               Medix Medical Devices SRL         Argentina   \n",
       "3  Philips Medical Systems Nederland B.V.            Hà Lan   \n",
       "4                  Dr. Mach GmbH & Co. KG               Đức   \n",
       "\n",
       "                      Hãng chủ sơ hữu (*) Top focus  ...  \\\n",
       "0    Hebei Eryou Medical Devices Co., Ltd      None  ...   \n",
       "1                        M.I.TECH Co.,Ltd      None  ...   \n",
       "2               Medix Medical Devices SRL      None  ...   \n",
       "3  Philips Medical Systems Nederland B.V.       Yes  ...   \n",
       "4                  Dr. Mach GmbH & Co. KG      None  ...   \n",
       "\n",
       "                       Thông số, chỉ tiêu kỹ thuật * Các dịch vụ đi kèm  \\\n",
       "0                                               None               None   \n",
       "1                                               None               None   \n",
       "2                  <p>Thông số kỹ thuật đính kèm</p>               None   \n",
       "3                           <p>      </p><p><br></p>               None   \n",
       "4  <p>Cường độ sáng ở khoảng cách 1m: 140.000 Lux...               None   \n",
       "\n",
       "  Linh kiện, vật tư thay thế Vật tư, hóa chất tiêu hao  \\\n",
       "0                       None                      None   \n",
       "1                       None                      None   \n",
       "2                       None                      None   \n",
       "3                       None                      None   \n",
       "4                       None                      None   \n",
       "\n",
       "  Dịch vụ bảo dưỡng, sửa chữa Các dịch vụ kỹ thuật khác  \\\n",
       "0                        None                      None   \n",
       "1                        None                      None   \n",
       "2                        None                      None   \n",
       "3                        None                      None   \n",
       "4                        None                      None   \n",
       "\n",
       "                                           Người tạo    Ngày tạo  \\\n",
       "0           Công ty Cổ phần đầu tư và phát triển MKC  2020-12-02   \n",
       "1         Công ty cổ phần hợp tác quốc Tế Việt - Hàn  2020-11-13   \n",
       "2          CÔNG TY TNHH IDS MEDICAL SYSTEMS VIỆT NAM  2020-11-02   \n",
       "3  Công ty TNHH Thương mại và Công nghệ kỹ thuật TNT  2020-12-05   \n",
       "4                  CÔNG TY CỔ PHẦN SCHMIDT MARKETING  2020-11-09   \n",
       "\n",
       "                                           Người sửa    Ngày sửa  \n",
       "0           Công ty Cổ phần đầu tư và phát triển MKC  2021-04-03  \n",
       "1         Công ty cổ phần hợp tác quốc Tế Việt - Hàn  2020-11-13  \n",
       "2          CÔNG TY TNHH IDS MEDICAL SYSTEMS VIỆT NAM  2021-02-04  \n",
       "3  Công ty TNHH Thương mại và Công nghệ kỹ thuật TNT  2021-03-16  \n",
       "4                  CÔNG TY CỔ PHẦN SCHMIDT MARKETING  2020-11-11  \n",
       "\n",
       "[5 rows x 36 columns]"
      ],
      "text/html": "<div>\n<style scoped>\n    .dataframe tbody tr th:only-of-type {\n        vertical-align: middle;\n    }\n\n    .dataframe tbody tr th {\n        vertical-align: top;\n    }\n\n    .dataframe thead th {\n        text-align: right;\n    }\n</style>\n<table border=\"1\" class=\"dataframe\">\n  <thead>\n    <tr style=\"text-align: right;\">\n      <th></th>\n      <th>STT</th>\n      <th>Nhóm thiết bị (*)</th>\n      <th>Họ thiết bị</th>\n      <th>Tên chung của thiết bị (*)</th>\n      <th>Tên thương mại (*)</th>\n      <th>Model (*)</th>\n      <th>Hãng sản xuất  (*)</th>\n      <th>Nước sản xuất (*)</th>\n      <th>Hãng chủ sơ hữu (*)</th>\n      <th>Top focus</th>\n      <th>...</th>\n      <th>Thông số, chỉ tiêu kỹ thuật *</th>\n      <th>Các dịch vụ đi kèm</th>\n      <th>Linh kiện, vật tư thay thế</th>\n      <th>Vật tư, hóa chất tiêu hao</th>\n      <th>Dịch vụ bảo dưỡng, sửa chữa</th>\n      <th>Các dịch vụ kỹ thuật khác</th>\n      <th>Người tạo</th>\n      <th>Ngày tạo</th>\n      <th>Người sửa</th>\n      <th>Ngày sửa</th>\n    </tr>\n  </thead>\n  <tbody>\n    <tr>\n      <th>0</th>\n      <td>1903.0</td>\n      <td>13. Thiết bị dùng chung</td>\n      <td>Thiết bị nội thất bệnh viện</td>\n      <td>Bàn/ Ghế/ Tủ y tế</td>\n      <td>Tủ đựng thuốc bệnh nhân</td>\n      <td>TT02</td>\n      <td>Hebei Eryou Medical Devices Co., Ltd</td>\n      <td>Trung Quốc</td>\n      <td>Hebei Eryou Medical Devices Co., Ltd</td>\n      <td>None</td>\n      <td>...</td>\n      <td>None</td>\n      <td>None</td>\n      <td>None</td>\n      <td>None</td>\n      <td>None</td>\n      <td>None</td>\n      <td>Công ty Cổ phần đầu tư và phát triển MKC</td>\n      <td>2020-12-02</td>\n      <td>Công ty Cổ phần đầu tư và phát triển MKC</td>\n      <td>2021-04-03</td>\n    </tr>\n    <tr>\n      <th>1</th>\n      <td>1904.0</td>\n      <td>4. Thiết bị phòng mổ</td>\n      <td>Máy tán sỏi</td>\n      <td>Máy tán sỏi ngoài cơ thể</td>\n      <td>Hệ thống thiết bị tán sỏi ngoài cơ thể</td>\n      <td>ASADAL M1</td>\n      <td>M.I.TECH Co.,Ltd</td>\n      <td>Hàn Quốc</td>\n      <td>M.I.TECH Co.,Ltd</td>\n      <td>None</td>\n      <td>...</td>\n      <td>None</td>\n      <td>None</td>\n      <td>None</td>\n      <td>None</td>\n      <td>None</td>\n      <td>None</td>\n      <td>Công ty cổ phần hợp tác quốc Tế Việt - Hàn</td>\n      <td>2020-11-13</td>\n      <td>Công ty cổ phần hợp tác quốc Tế Việt - Hàn</td>\n      <td>2020-11-13</td>\n    </tr>\n    <tr>\n      <th>2</th>\n      <td>1905.0</td>\n      <td>9. Thiết bị chuyên khoa sản nhi</td>\n      <td>Đèn chiếu vàng da</td>\n      <td>Đèn chiếu vàng da</td>\n      <td>Đèn chiếu vàng da</td>\n      <td>MediLED</td>\n      <td>Medix Medical Devices SRL</td>\n      <td>Argentina</td>\n      <td>Medix Medical Devices SRL</td>\n      <td>None</td>\n      <td>...</td>\n      <td>&lt;p&gt;Thông số kỹ thuật đính kèm&lt;/p&gt;</td>\n      <td>None</td>\n      <td>None</td>\n      <td>None</td>\n      <td>None</td>\n      <td>None</td>\n      <td>CÔNG TY TNHH IDS MEDICAL SYSTEMS VIỆT NAM</td>\n      <td>2020-11-02</td>\n      <td>CÔNG TY TNHH IDS MEDICAL SYSTEMS VIỆT NAM</td>\n      <td>2021-02-04</td>\n    </tr>\n    <tr>\n      <th>3</th>\n      <td>1906.0</td>\n      <td>1. Thiết bị chẩn đoán hình ảnh</td>\n      <td>Hệ thống chụp Cộng hưởng từ</td>\n      <td>Hệ thống chụp Cộng hưởng từ 1,5 Tesla</td>\n      <td>Hệ thống cộng hưởng từ và phụ kiện ( Hệ thống ...</td>\n      <td>Ingenia Ambition X</td>\n      <td>Philips Medical Systems Nederland B.V.</td>\n      <td>Hà Lan</td>\n      <td>Philips Medical Systems Nederland B.V.</td>\n      <td>Yes</td>\n      <td>...</td>\n      <td>&lt;p&gt;      &lt;/p&gt;&lt;p&gt;&lt;br&gt;&lt;/p&gt;</td>\n      <td>None</td>\n      <td>None</td>\n      <td>None</td>\n      <td>None</td>\n      <td>None</td>\n      <td>Công ty TNHH Thương mại và Công nghệ kỹ thuật TNT</td>\n      <td>2020-12-05</td>\n      <td>Công ty TNHH Thương mại và Công nghệ kỹ thuật TNT</td>\n      <td>2021-03-16</td>\n    </tr>\n    <tr>\n      <th>4</th>\n      <td>1907.0</td>\n      <td>4. Thiết bị phòng mổ</td>\n      <td>Đèn mổ</td>\n      <td>Đèn mổ di động</td>\n      <td>Đèn mổ di động Mach Led 300DF</td>\n      <td>MACH LED 300DF</td>\n      <td>Dr. Mach GmbH &amp; Co. KG</td>\n      <td>Đức</td>\n      <td>Dr. Mach GmbH &amp; Co. KG</td>\n      <td>None</td>\n      <td>...</td>\n      <td>&lt;p&gt;Cường độ sáng ở khoảng cách 1m: 140.000 Lux...</td>\n      <td>None</td>\n      <td>None</td>\n      <td>None</td>\n      <td>None</td>\n      <td>None</td>\n      <td>CÔNG TY CỔ PHẦN SCHMIDT MARKETING</td>\n      <td>2020-11-09</td>\n      <td>CÔNG TY CỔ PHẦN SCHMIDT MARKETING</td>\n      <td>2020-11-11</td>\n    </tr>\n  </tbody>\n</table>\n<p>5 rows × 36 columns</p>\n</div>"
     },
     "metadata": {},
     "execution_count": 8
    }
   ],
   "source": [
    "df_thietbiyte.head(5)"
   ]
  },
  {
   "cell_type": "code",
   "execution_count": 10,
   "metadata": {},
   "outputs": [
    {
     "output_type": "execute_result",
     "data": {
      "text/plain": [
       "Index(['STT', 'Nhóm thiết bị (*)', 'Họ thiết bị', 'Tên chung của thiết bị (*)',\n",
       "       'Tên thương mại (*)', 'Model (*)', 'Hãng sản xuất  (*)',\n",
       "       'Nước sản xuất (*)', 'Hãng chủ sơ hữu (*)', 'Top focus',\n",
       "       'Nước chủ sở hữu (*)', 'Năm sản xuất (*)', 'Công ty nhập khẩu/địa chỉ',\n",
       "       'Xuất xứ', 'Nhóm TTBYT (TT14/2020/TT-BYT)',\n",
       "       'Phân loại TTB theo mức độ rủi ro *', 'Giấy phép lưu hành', 'Giá',\n",
       "       'Xác nhận công khai giá', 'Đơn vị tính *', 'VAT',\n",
       "       'Ngày bắt đầu hiệu lực *', 'Ngày hết hiệu lực *',\n",
       "       'Thông tin chung về thiết bị *', 'Cấu hình cơ bản *',\n",
       "       'Cấu hình nâng cao', 'Thông số, chỉ tiêu kỹ thuật *',\n",
       "       'Các dịch vụ đi kèm', 'Linh kiện, vật tư thay thế',\n",
       "       'Vật tư, hóa chất tiêu hao', 'Dịch vụ bảo dưỡng, sửa chữa',\n",
       "       'Các dịch vụ kỹ thuật khác', 'Người tạo', 'Ngày tạo', 'Người sửa',\n",
       "       'Ngày sửa'],\n",
       "      dtype='object')"
      ]
     },
     "metadata": {},
     "execution_count": 10
    }
   ],
   "source": [
    "df_thietbiyte.columns"
   ]
  },
  {
   "cell_type": "code",
   "execution_count": 21,
   "metadata": {},
   "outputs": [],
   "source": [
    "device_names = df_thietbiyte['Tên chung của thiết bị (*)'].unique()"
   ]
  },
  {
   "cell_type": "code",
   "execution_count": 24,
   "metadata": {},
   "outputs": [
    {
     "output_type": "stream",
     "name": "stdout",
     "text": [
      "Bàn/*Ghế/*Tủ*y*tế\nMáy*tán*sỏi*ngoài*cơ*thể\nĐèn*chiếu*vàng*da\nHệ*thống*chụp*Cộng*hưởng*từ*1,5*Tesla\nĐèn*mổ*di*động\nHệ*thống*vận*chuyển*mẫu*và*thiết*bị*phụ*trợ\nMáy*nhuộm*tiêu*bản*tự*động\nĐèn*đọc*phim\nKính*hiển*vi*nhiều*người*quan*sát\nMáy*và*ghế*khám,*chữa*răng\nMáy*xử*lý*bệnh*phẩm\nMáy*Laser*điều*trị*mắt\nHệ*thống*khí*y*tế*và*các*thiết*bị*phụ*trợ\nĐèn*mổ*treo*trần*2*nhánh\nMáy*thở*xâm*nhập*và*không*xâm*nhập*người*lớn\nMáy*điều*trị*vật*lý*trị*liệu\nBồn*rửa*tay*vô*trùng\nMáy*xét*nghiệm*sinh*hóa*tự*động\nKính*hiển*vi*phẫu*thuật*sọ*não,*cột*sống\nMáy*xét*nghiệm*huyết*học*tự*động\nMáy*xét*nghiệm*sinh*hóa*bán*tự*động\nMáy*Laser*Excimer\nTủ*lạnh*bảo*quản*máu*-*Blood*Bank\nMáy*xét*nghiệm*miễn*dịch\nMáy*X*quang*răng\nMáy*khí*dung*bằng*khí*nén\nMáy*giặt,*vắt*công*nghiệp\nMáy*đo*huyết*áp\nTủ*nuôi*cấy*vô*trùng\nMáy*phun*dung*dịch*khử*khuẩn\nMáy*X*quang*di*động\nMáy*lọc*màng*bụng\nMáy*bơm*bóng*đối*xung*động*mạch*chủ\nĐèn*mổ*treo*trần*1*nhánh\nBộ*dụng*cụ*phẫu*thuật\nMáy*hút*dịch*chạy*điện\nHệ*thống*nội*soi*tiêu*hóa\nĐèn*khám\nBàn*mổ*chấn*thương*chỉnh*hình\nHệ*thống*chụp*Cộng*hưởng*từ*3*Tesla\nHệ*thống*Elisa*bán*tự*động\nNhiệt*kế\nTủ*thao*tác*PCR\nMáy*tiệt*trùng*nhiệt*độ*thấp\nMáy*rửa*màng*(quả)*lọc\nMáy*tán*sỏi*tiết*niệu\nMáy*X*quang*tổng*quát\nMáy*trợ*thính\nMáy*theo*dõi*bệnh*nhân*nhanh*≤*4*thông*số\nMáy*phá*rung*tim*đồng*bộ\nMáy*thở*di*động*người*lớn\nMáy*xét*nghiệm*máu*lắng\nTủ*sấy*dụng*cụ\nMáy*hấp*tiệt*trùng\nHệ*thống*phẫu*thuật*nội*soi*ổ*bụng\nMáy*X*quang*cố*định\nHệ*thống*phẫu*thuật*Phaco\nDao*mổ*điện*cao*tần\nMáy*Realtime*PCR\nMáy*đo*lưu*huyết*não\nHệ*thống*số*hóa*X*quang\nMáy*lọc*khử*khuẩn*không*khí\nHệ*thống*chụp*mạch*số*hóa*xóa*nền*1*bình*diện*để*sàn\nHệ*thống*nước*R.O\nMáy*xét*nghiệm*khí*máu\nTủ*làm*ấm*máu\nMáy*xét*nghiệm*HbA1C\nHệ*thống*chụp*mạch*số*hóa*xóa*nền*1*bình*diện*treo*trần\nHệ*thống*chụp*mạch*số*hóa*xóa*nền*2*bình*diện*trần*-*sàn\nHệ*thống*nội*soi*tai*mũi*họng\nLồng*ấp\nHệ*thống*Elisa*tự*động\nHệ*thống*xạ*trị*Photon\nBơm*tiêm*điện*giảm*đau\nBàn*mổ*đa*năng\nMáy*xét*nghiệm*Bilirubin\nHệ*thống*lọc*nước*RO\nCáng\nMáy*khoan*đa*năng\nMáy*theo*dõi*bệnh*nhân*6*thông*số\nMáy*xét*nghiệm*điện*giải\nMáy*thở*cao*tần*trẻ*sơ*sinh\nMáy*xét*nghiệm*nước*tiểu\nThiết*bị*tập*phục*hồi*chức*năng\nMáy*gây*mê*kèm*thở\nMáy*siêu*âm*chẩn*đoán*Doppler*màu\nHệ*thống*CT*Scanner*128*-*<*256*lát*cắt/vòng*quay\nMáy*điện*tim\nMáy*đốt*khối*u*bằng*Laser\nGiường*hồi*sức*cấp*cứu*sơ*sinh\nMáy*xét*nghiệm*đông*máu\nKính*hiển*vi*phẫu*thuật*mắt\nHệ*thống*thu*nhận*ảnh*kỹ*thuật*số*cho*máy*X-*quang\nMáy*đo*nồng*độ*bão*hòa*oxy\nMáy*thở*Bi-PAP,*CPAP\nMáy*theo*dõi*bệnh*nhân*7*thông*số\nBơm*tiêm*điện\nMáy*định*danh*vi*khuẩn*và*kháng*sinh*đồ\nMáy*kéo*giãn\nGiường*cấp*cứu*hồi*sức*điều*khiển*điện\nMáy*ủ*có*lắc\nMáy*định*nhóm*máu*tự*động\nMáy*cấy*máu*tự*động\nMáy*ly*tâm*đa*năng\nMáy*định*nhóm*máu*bán*tự*động\nMáy*xét*nghiệm*sinh*hóa*có*ISE\nThiết*bị*bào*da/*thiết*bị*lấy*da\nMáy*điện*châm\nHệ*thống*đo*thính*lực*+*buồng*đo\nMáy*đo*khúc*xạ\nMáy*theo*dõi*bệnh*nhân*5*thông*số\nMáy*điều*trị*vết*thương*bằng*Plasma\nĐèn*mổ*tích*hợp*camera\nBàn*khám*sản*phụ*khoa\nMáy*xét*nghiệm*tế*bào*dòng*chảy\nMáy*đo*thị*trường*tự*động\nHệ*thống*nội*soi*khí*phế*quản\nBơm*truyền*dịch\nỐng*nghe\nMáy*thở*không*xâm*nhập*trẻ*sơ*sinh\nMáy*đông*máu\nMáy*giải*trình*tự*gen\nMáy*thận*nhân*tạo\nHệ*thống*phẫu*thuật*nội*soi*lồng*ngực\nMáy*lấy*cao*răng\nMáy*tách*chiết*ADN/ARN\nMáy*đo*nhãn*áp\nMáy*X*quang*C-Arm\nMáy*điện*cơ\nMáy*định*danh*vi*khuẩn\nMáy*thở*dùng*trong*phòng*cộng*hưởng*từ\nMáy*điện*não\nMáy*điện*tim*gắng*sức\nMáy*siêu*âm*trị*liệu\nMáy*lọc*HDF*online\nMáy*siêu*âm*xuyên*sọ\nHệ*thống*CT*Scanner*64*-*<*128*lát*cắt/vòng*quay\nHệ*thống*phẫu*thuật*nội*soi*sản*phụ*khoa\nMáy*truyền*máu*hoàn*hồi\nDao*mổ*điện*cao*tần*có*chức*năng*hàn*mạch\nTủ*ấm\nMáy*khí*dung*siêu*âm\nHệ*thống**gia*tốc*tuyến*tính*đa*mức*năng*lượng\nMáy*thở*không*xâm*nhập*người*lớn\nMáy*đo*nhĩ*lượng\nĐèn*khe*sinh*hiển*vi\nMáy*X*quang*đo*mật*đô*xương\nMáy*xét*nghiệm*chức*năng*tiểu*cầu\nMáy*đo*công*suất*thủy*tinh*thể\nHệ*thống*xét*nghiệm*tự*động*-*Automation\nMáy*làm*ấm*bệnh*nhân\nMáy*theo*dõi*huyết*động\nHệ*thống*CT*Scanner*<*32*lát*cắt/vòng*quay\nMáy*ly*tâm*tế*bào\nTủ*lạnh*bảo*quản*sinh*phẩm,*hóa*chất*chuyên*dụng\nMáy*nhuộm*hóa*mô*miễn*dịch\nHệ*thống*CT*Scanner*32*-*<*64*lát*cắt/vòng*quay\nMáy*soi*cổ*tử*cung\nMáy*định*danh*vi*khuẩn*nhanh\nDao*mổ*Laser\nThiết*bị*đọc*hình*ảnh*tế*bào*tự*động\nMáy*đóng*gói,*niêm*phong*túi\nMáy*phân*tích*chỉ*số*BMI\nHệ*thống*nội*soi*cổ*tử*cung\nHệ*thống*CAD/CAM\nGiường*cấp*cứu*hồi*sức**điều*khiển*cơ\nMáy*đo*chức*năng*hô*hấp\nMáy*phá*rung*tim*không*đồng*bộ\nHệ*thống*nội*soi*tiết*niệu\nTủ*lạnh*âm*sâu*≤*-86*độ*C\nMáy*Holter*24/24h*(điện*tim*+*huyết*áp)\nĐèn*khám*tai*mũi*họng\nBàn*đẻ\nMáy*thở*xâm*nhập*và*không*xâm*nhập*trẻ*sơ*sinh\nBể*rửa*dụng*cụ*bằng*sóng*siêu*âm\nBơm*tiêm*thuốc*cản*quang\nMáy*rửa,*khử*khuẩn*dụng*cụ\nMáy*lắc*tiểu*cầu*kèm*tủ*ấm\nMáy*tách*chiết*tế*bào*tự*động\nHệ*thống*phẫu*thuật*nội*soi*khớp\nĐèn*quang*trùng*hợp\nCân\nHệ*thống*phẫu*thuật*nội*soi*tai*mũi*họng\nMáy*theo*dõi*sản*khoa\nBàn*mổ*chuyên*dùng*với*các*thiết*bị*chẩn*đoán*hình*ảnh\nMáy*cắt*tiêu*bản\nHệ*thống*theo*dõi*trung*tâm\nThiết*bị*khoan*cắt*nạo*phẫu*thuật*Tai*Mũi*Họng\nMáy*theo*dõi*bệnh*nhân*8*thông*số\nBộ*bàn*ghế*khám*tai*mũi*họng\nMáy*đo*niệu*động*học\nMáy*đo*liều*phóng*xạ\nDao*mổ*vi*sóng\nMáy*dán*lamen*tự*động\nMáy*đo*Oxy*não*vùng\nCân*bệnh*nhân*tại*giường*điện*tử\nMáy*gây*mê*kèm*thở,*có*theo*dõi*khí*mê\nMáy*đo*độ*tập*trung*Iode\nHệ*thống*xét*nghiệm*acid*nucleic\nMáy*X*quang*răng*toàn*cảnh\nKính*hiển*vi*phẫu*thuật*tai*mũi*họng\nDao*mổ*siêu*âm\nMáy*dàn*tiêu*bản\nMáy*chụp*đáy*mắt\nMáy*đo*áp*lực*hậu*môn*trực*tràng\nMáy*đo*đường*huyết\nMáy*siêu*âm*chẩn*đoán*đen*trắng\nMáy*in*phim*X-quang\nHệ*thống*tim*phổi*nhân*tạo\nMáy*cân*lắc*túi*máu\nMáy*lập*bản*đồ*giác*mạc\nDao*mổ*plasma\nMáy*sắc*ký*lỏng*hiệu*năng*cao*-*HPLC\nTủ*lạnh*âm*sâu*≤*-*20*độ*C\nMáy*đếm*tế*bào*tự*động\nMáy*cắt*đốt*cổ*tử*cung\nMáy*rửa*khử*khuẩn*ống*nội*soi\nHệ*thống*nội*soi*thanh*quản\nMáy*hút*liên*tục*áp*lực*thấp*chạy*điện\nMáy*chụp*cắt*lớp*mắt*OCT\nMáy*siêu*lọc*máu*liên*tục\nMáy*sưởi*ấm*trẻ*sơ*sinh\nMáy*sấy*đồ*vải\nMáy*đo*bức*xạ*cầm*tay\nLồng*ấp*di*động\nMáy*theo*dõi*áp*lực*sọ*não\nHệ*thống*phẫu*thuật*nội*soi*cột*sống\nMáy*điện*di*mao*quản\nDao*mổ*siêu*âm*có*chức*năng*hàn*mạch\nMáy*dò*rà*tìm*phóng*xạ\nHệ*thống*chụp*mạch*số*hóa*xóa*nền*2*bình*diện*trần*-*trần\nMáy*thở*di*động*trẻ*sơ*sinh\nTủ*lạnh*âm*sâu*≤*-*30*độ*C\nMáy*vỗ*rung*lồng*ngực*tần*số*cao\nMáy*PCR*có*Gradient\nMáy*đúc*bệnh*phẩm\nBàn*mổ*thần*kinh*sọ*não\nMáy*ly*tâm*lạnh*túi*máu\nHệ*thống*phòng*mổ*tích*hợp\nMáy*xét*nghiệm*Thalasemi\nMáy*siêu*âm*đo*mật*đô*xương\nHệ*thống*chụp*Cộng*hưởng*từ*≤*0,5*Tesla\nMáy*đo*chỉ*số*ABI*và*tốc*độ*sóng*lan*truyền\nMáy*quang*phổ*hấp*thụ*nguyên*tử\nMáy*điều*trị*bằng*oxy*cao*áp\nMáy*áp*lạnh*cổ*tử*cung\nHệ*thống*tuần*hoàn*ngoài*cơ*thể*ECMO\nHệ*thống*nội*soi*siêu*âm\nMáy*siêu*âm*mắt\nMáy*làm*ấm*máu*và*dịch*truyền\nMáy*đốt*khối*u*bằng*sóng*RF\nHệ*thống*kết*nối*chẩn*đoán*hình*ảnh\nMáy*laser*điều*trị*bướu*mạch*máu\nMáy*đốt*khối*u*bằng*vi*sóng\nMáy*đốt*khối*u*bằng*sóng*cao*tần\nMáy*rửa*ống*nội*soi\nTủ*pha*chế*thuốc*-*Tủ*Hood\nMáy*thở*cao*tần*người*lớn\nBơm*tiêm*thuốc*đối*quang*từ\nHệ*thống*rửa*khử*khuẩn*xe,*giường*Bệnh*nhân\nMáy*in*siêu*âm\nMáy*đo*chiều*dài*ống*tuỷ\nKính*hiển*vi*2*mắt\nKính*hiển*vi*soi*ngược\nMáy*hạ*thân*nhiệt*xâm*lấn\nTủ*lạnh*âm*sâu:\nMáy*kéo*lam*và*nhuộm*mẫu\nMáy*X*quang*nhũ*ảnh\nMáy*theo*dõi*bệnh*nhân*dùng*trong*phòng*cộng*hưởng*từ\nRobot*phẫu*thuật\nMáy*tán*sỏi*qua*da\nHệ*thống*phẫu*tích*bệnh*phẩm\nBàn*mổ*tử*thi\nMáy*cắt*tiêu*bản*lạnh\nHệ*thống*phân*tích*HLA\nThiết*bị*khoan*cưa*IPC*Phẫu*Thuật*Thần*Kinh\nHệ*thống*định*vị*phẫu*thuật\nMáy*theo*dõi*điện*sinh*lý\nMáy*khoan*đặt*trụ*Implant\nMáy*siêu*âm*trong*lòng*mạch\nThiêt*bị*khía*da*mắt*lưới\nMáy*siêu*âm*điều*trị\nBơm*thức*ăn*tự*động\nMáy*điện*di*ngang\nKính*hiển*vi*huỳnh*quang\nHệ*thống*CT*Scanner*256*-*<*512*lát*cắt/vòng*quay\nTủ*bảo*quản*máu\nĐèn*soi*đáy*mắt\nMáy*ly*tâm*mao*quản\nHệ*thống*CT*Scanner*≥*512*lát*cắt/vòng*quay\nMáy*siêu*âm*Doppler*tim*thai\nMáy*hàn*dây*túi*máu\nMáy*hạ*thân*nhiệt*không*xâm*lấn\nMáy*cắt*dịch*kính\nMáy*ép*tim*tự*động\nHệ*thống*phẫu*thuật*nội*soi*sọ*não\nHệ*thống*CT*mô*phỏng\nHệ*thống*SPECT*loại*2*đầu*thu\nHệ*thống*máy*gia*tốc*tuyến*tính*nhiều*mức*năng*lượng*với*ống*chuẩn*trực*80*(IMRT)\nMáy*xét*nghiệm*tinh*dịch\nKính*hiển*vi*kèm*bộ*truyền*hình\nMáy*cắt*trĩ\nMáy*gây*mê*dùng*trong*phòng*cộng*hưởng*từ\nKính*hiển*vi*soi*nổi\nHệ*thống*cánh*tay*treo*thiết*bị*và*khí*y*tế\nBộ*cố*định*bệnh*nhân*cho*xạ*trị\nTủ*ấm*CO2\nTủ*sấy\nMáy*X*quang*truyền*hình\n"
     ]
    }
   ],
   "source": [
    "for i in device_names:\n",
    "    print(i.replace(' ',\"*\"))"
   ]
  },
  {
   "cell_type": "code",
   "execution_count": 28,
   "metadata": {},
   "outputs": [
    {
     "output_type": "stream",
     "name": "stdout",
     "text": [
      "['a1', 'a2', 'a3', 'b1', 'b2', 'b3', 'c1', 'c2', 'c3']\n"
     ]
    }
   ],
   "source": [
    "list1 = ['abc']\n",
    "list2 = ['123']\n",
    "list_new = [x + str(y) for x in list1[0] for y in list2[0]]\n",
    "print(lst_new)"
   ]
  },
  {
   "cell_type": "code",
   "execution_count": 26,
   "metadata": {},
   "outputs": [
    {
     "output_type": "execute_result",
     "data": {
      "text/plain": [
       "['a1', 'a2', 'a3', 'b1', 'b2', 'b3', 'c1', 'c2', 'c3']"
      ]
     },
     "metadata": {},
     "execution_count": 26
    }
   ],
   "source": [
    "lst_new"
   ]
  },
  {
   "cell_type": "code",
   "execution_count": null,
   "metadata": {},
   "outputs": [],
   "source": []
  }
 ]
}